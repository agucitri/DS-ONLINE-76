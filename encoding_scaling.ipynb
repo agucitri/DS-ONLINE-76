{
 "cells": [
  {
   "cell_type": "markdown",
   "source": [
    "## Entendimiento de los datos\n",
    "\n",
    "Vamos a trabajar con el conjunto de datos Churn-Modeling descargado de ***Kaggle***. Este conjunto de datos contiene detalles de los clientes de un banco y la variable objetivo es una variable binaria que refleja el hecho de si el cliente dejó el banco (cerró su cuenta) o si continúa siendo un cliente.\n",
    "\n",
    "Las características capturan información sociodemográfica del cliente, información de productos financieros, el comportamiento y balance de su cuenta. Las características son las siguientes:\n",
    "\n",
    "* **CustomerId**: Id único para identificar el cliente.\n",
    "* **Surname**: Apellido del cliente.\n",
    "* **CreditScore**: Puntaje de crédito del cliente.\n",
    "* **Geography**: País al que pertenece el cliente.\n",
    "* **Gender**: Genero.\n",
    "* **Age**: Edad.\n",
    "* **Tenure**: Número de años que el cliente ha estado en el banco.\n",
    "* **Balance**: Saldo bancario del cliente.\n",
    "* **NumOfProducts**: Número de productos bancarios que utiliza el cliente.\n",
    "* **HasCrCard**: Si el cliente tiene tarjeta de crédito con el banco.\n",
    "* **IsActiveMember**: Si el cliente es miembro activo del banco o no.\n",
    "* **EstimatedSalary**: Salario estimado en dólares.\n",
    "* **Exited**: 1-Si el cliente cerró la cuenta con el banco; 0-Si el cliente es retenido.\n",
    "\n",
    "\n",
    "### Carga de módulos"
   ],
   "metadata": {
    "collapsed": false,
    "pycharm": {
     "name": "#%% md\n"
    }
   }
  },
  {
   "cell_type": "code",
   "execution_count": null,
   "metadata": {
    "collapsed": true
   },
   "outputs": [],
   "source": [
    "import numpy as np\n",
    "import pandas as pd\n",
    "import seaborn as sns\n",
    "import missingno as msno\n",
    "import matplotlib.pyplot as plt\n",
    "from sklearn.impute import SimpleImputer\n",
    "from sklearn.preprocessing import StandardScaler"
   ]
  },
  {
   "cell_type": "code",
   "execution_count": null,
   "outputs": [],
   "source": [],
   "metadata": {
    "collapsed": false,
    "pycharm": {
     "name": "#%%\n"
    }
   }
  },
  {
   "cell_type": "markdown",
   "source": [
    "### Datos missing\n",
    "\n",
    "Vamos a mirar si hay datos missing en nuestro set de datos."
   ],
   "metadata": {
    "collapsed": false,
    "pycharm": {
     "name": "#%% md\n"
    }
   }
  },
  {
   "cell_type": "code",
   "execution_count": null,
   "outputs": [],
   "source": [],
   "metadata": {
    "collapsed": false,
    "pycharm": {
     "name": "#%%\n"
    }
   }
  },
  {
   "cell_type": "markdown",
   "source": [
    "### Preprocesamiento\n",
    "\n",
    "* Variables numéricas:\n",
    "    * Atípicos\n",
    "    * Imputar\n",
    "    * Escalar\n",
    "    * Discretizar (Opcional)\n",
    "\n",
    "* Variables categóricas:\n",
    "    * Imputar\n",
    "    * Codificar (OHE, LabelEncoder, u OrdinalEncoder)"
   ],
   "metadata": {
    "collapsed": false,
    "pycharm": {
     "name": "#%% md\n"
    }
   }
  },
  {
   "cell_type": "code",
   "execution_count": null,
   "outputs": [],
   "source": [],
   "metadata": {
    "collapsed": false,
    "pycharm": {
     "name": "#%%\n"
    }
   }
  }
 ],
 "metadata": {
  "kernelspec": {
   "display_name": "Python 3",
   "language": "python",
   "name": "python3"
  },
  "language_info": {
   "codemirror_mode": {
    "name": "ipython",
    "version": 2
   },
   "file_extension": ".py",
   "mimetype": "text/x-python",
   "name": "python",
   "nbconvert_exporter": "python",
   "pygments_lexer": "ipython2",
   "version": "2.7.6"
  }
 },
 "nbformat": 4,
 "nbformat_minor": 0
}