{
 "cells": [
  {
   "cell_type": "markdown",
   "source": [
    "## Entendimiento de los datos\n",
    "\n",
    "Vamos a trabajar con el conjunto de datos Churn-Modeling descargado de ***Kaggle***. Este conjunto de datos contiene detalles de los clientes de un banco y la variable objetivo es una variable binaria que refleja el hecho de si el cliente dejó el banco (cerró su cuenta) o si continúa siendo un cliente.\n",
    "\n",
    "Las características capturan información sociodemográfica del cliente, información de productos financieros, el comportamiento y balance de su cuenta. Las características son las siguientes:\n",
    "\n",
    "* **CustomerId**: Id único para identificar el cliente.\n",
    "* **Surname**: Apellido del cliente.\n",
    "* **CreditScore**: Puntaje de crédito del cliente.\n",
    "* **Geography**: País al que pertenece el cliente.\n",
    "* **Gender**: Genero.\n",
    "* **Age**: Edad.\n",
    "* **Tenure**: Número de años que el cliente ha estado en el banco.\n",
    "* **Balance**: Saldo bancario del cliente.\n",
    "* **NumOfProducts**: Número de productos bancarios que utiliza el cliente.\n",
    "* **HasCrCard**: Si el cliente tiene tarjeta de crédito con el banco.\n",
    "* **IsActiveMember**: Si el cliente es miembro activo del banco o no.\n",
    "* **EstimatedSalary**: Salario estimado en dólares.\n",
    "* **Exited**: 1-Si el cliente cerró la cuenta con el banco; 0-Si el cliente es retenido.\n",
    "\n",
    "\n",
    "### Carga de módulos"
   ],
   "metadata": {
    "collapsed": false,
    "pycharm": {
     "name": "#%% md\n"
    }
   }
  },
  {
   "cell_type": "code",
   "execution_count": 13,
   "outputs": [],
   "source": [
    "# !pip install missingno\n",
    "# Python library that provides the ability to understand the distribution of missing values through visualizations\n",
    "# (Heat maps / Bar charts)"
   ],
   "metadata": {
    "collapsed": false,
    "pycharm": {
     "name": "#%%\n"
    }
   }
  },
  {
   "cell_type": "code",
   "execution_count": 14,
   "metadata": {
    "collapsed": true
   },
   "outputs": [],
   "source": [
    "import numpy as np\n",
    "import pandas as pd\n",
    "import seaborn as sns\n",
    "import missingno as msno\n",
    "import matplotlib.pyplot as plt\n",
    "from sklearn.impute import SimpleImputer\n",
    "from sklearn.model_selection import train_test_split\n",
    "from sklearn.preprocessing import StandardScaler, RobustScaler, MinMaxScaler"
   ]
  },
  {
   "cell_type": "code",
   "execution_count": 43,
   "outputs": [
    {
     "data": {
      "text/plain": "  CustomerId   Surname  CreditScore Geography  Gender  Age  Tenure    Balance  \\\n0   15634602  Hargrave          619    France  Female   42       2       0.00   \n1   15647311      Hill          608     Spain  Female   41       1   83807.86   \n2   15619304      Onio          502    France  Female   42       8  159660.80   \n3   15701354      Boni          699    France  Female   39       1       0.00   \n4   15737888  Mitchell          850     Spain  Female   43       2  125510.82   \n\n   NumOfProducts HasCrCard IsActiveMember  EstimatedSalary  Exited  \n0              1       Yes            Yes        101348.88       1  \n1              1        No            Yes        112542.58       0  \n2              3       Yes             No        113931.57       1  \n3              2        No             No         93826.63       0  \n4              1       Yes            Yes         79084.10       0  ",
      "text/html": "<div>\n<style scoped>\n    .dataframe tbody tr th:only-of-type {\n        vertical-align: middle;\n    }\n\n    .dataframe tbody tr th {\n        vertical-align: top;\n    }\n\n    .dataframe thead th {\n        text-align: right;\n    }\n</style>\n<table border=\"1\" class=\"dataframe\">\n  <thead>\n    <tr style=\"text-align: right;\">\n      <th></th>\n      <th>CustomerId</th>\n      <th>Surname</th>\n      <th>CreditScore</th>\n      <th>Geography</th>\n      <th>Gender</th>\n      <th>Age</th>\n      <th>Tenure</th>\n      <th>Balance</th>\n      <th>NumOfProducts</th>\n      <th>HasCrCard</th>\n      <th>IsActiveMember</th>\n      <th>EstimatedSalary</th>\n      <th>Exited</th>\n    </tr>\n  </thead>\n  <tbody>\n    <tr>\n      <th>0</th>\n      <td>15634602</td>\n      <td>Hargrave</td>\n      <td>619</td>\n      <td>France</td>\n      <td>Female</td>\n      <td>42</td>\n      <td>2</td>\n      <td>0.00</td>\n      <td>1</td>\n      <td>Yes</td>\n      <td>Yes</td>\n      <td>101348.88</td>\n      <td>1</td>\n    </tr>\n    <tr>\n      <th>1</th>\n      <td>15647311</td>\n      <td>Hill</td>\n      <td>608</td>\n      <td>Spain</td>\n      <td>Female</td>\n      <td>41</td>\n      <td>1</td>\n      <td>83807.86</td>\n      <td>1</td>\n      <td>No</td>\n      <td>Yes</td>\n      <td>112542.58</td>\n      <td>0</td>\n    </tr>\n    <tr>\n      <th>2</th>\n      <td>15619304</td>\n      <td>Onio</td>\n      <td>502</td>\n      <td>France</td>\n      <td>Female</td>\n      <td>42</td>\n      <td>8</td>\n      <td>159660.80</td>\n      <td>3</td>\n      <td>Yes</td>\n      <td>No</td>\n      <td>113931.57</td>\n      <td>1</td>\n    </tr>\n    <tr>\n      <th>3</th>\n      <td>15701354</td>\n      <td>Boni</td>\n      <td>699</td>\n      <td>France</td>\n      <td>Female</td>\n      <td>39</td>\n      <td>1</td>\n      <td>0.00</td>\n      <td>2</td>\n      <td>No</td>\n      <td>No</td>\n      <td>93826.63</td>\n      <td>0</td>\n    </tr>\n    <tr>\n      <th>4</th>\n      <td>15737888</td>\n      <td>Mitchell</td>\n      <td>850</td>\n      <td>Spain</td>\n      <td>Female</td>\n      <td>43</td>\n      <td>2</td>\n      <td>125510.82</td>\n      <td>1</td>\n      <td>Yes</td>\n      <td>Yes</td>\n      <td>79084.10</td>\n      <td>0</td>\n    </tr>\n  </tbody>\n</table>\n</div>"
     },
     "execution_count": 43,
     "metadata": {},
     "output_type": "execute_result"
    }
   ],
   "source": [
    "churn = pd.read_csv(\"https://raw.githubusercontent.com/stivenlopezg/DS-ONLINE-76/master/data/churn-modeling.csv\",dtype={\"CustomerId\": \"category\"})\n",
    "churn.head()"
   ],
   "metadata": {
    "collapsed": false,
    "pycharm": {
     "name": "#%%\n"
    }
   }
  },
  {
   "cell_type": "code",
   "execution_count": 16,
   "outputs": [
    {
     "name": "stdout",
     "output_type": "stream",
     "text": [
      "<class 'pandas.core.frame.DataFrame'>\n",
      "RangeIndex: 10000 entries, 0 to 9999\n",
      "Data columns (total 13 columns):\n",
      " #   Column           Non-Null Count  Dtype   \n",
      "---  ------           --------------  -----   \n",
      " 0   CustomerId       10000 non-null  category\n",
      " 1   Surname          10000 non-null  object  \n",
      " 2   CreditScore      10000 non-null  int64   \n",
      " 3   Geography        9980 non-null   object  \n",
      " 4   Gender           10000 non-null  object  \n",
      " 5   Age              10000 non-null  int64   \n",
      " 6   Tenure           10000 non-null  int64   \n",
      " 7   Balance          10000 non-null  float64 \n",
      " 8   NumOfProducts    10000 non-null  int64   \n",
      " 9   HasCrCard        10000 non-null  object  \n",
      " 10  IsActiveMember   10000 non-null  object  \n",
      " 11  EstimatedSalary  9988 non-null   float64 \n",
      " 12  Exited           10000 non-null  int64   \n",
      "dtypes: category(1), float64(2), int64(5), object(5)\n",
      "memory usage: 1.3+ MB\n"
     ]
    }
   ],
   "source": [
    "churn.info()"
   ],
   "metadata": {
    "collapsed": false,
    "pycharm": {
     "name": "#%%\n"
    }
   }
  },
  {
   "cell_type": "code",
   "execution_count": 44,
   "outputs": [
    {
     "data": {
      "text/plain": "        CreditScore           Age        Tenure        Balance  NumOfProducts  \\\ncount  10000.000000  10000.000000  10000.000000   10000.000000   10000.000000   \nmean     650.528800     38.921800      5.012800   76485.889288       1.530200   \nstd       96.653299     10.487806      2.892174   62397.405202       0.581654   \nmin      350.000000     18.000000      0.000000       0.000000       1.000000   \n25%      584.000000     32.000000      3.000000       0.000000       1.000000   \n50%      652.000000     37.000000      5.000000   97198.540000       1.000000   \n75%      718.000000     44.000000      7.000000  127644.240000       2.000000   \nmax      850.000000     92.000000     10.000000  250898.090000       4.000000   \n\n       EstimatedSalary        Exited  \ncount      9988.000000  10000.000000  \nmean     100066.908601      0.203700  \nstd       57519.993379      0.402769  \nmin          11.580000      0.000000  \n25%       50910.677500      0.000000  \n50%      100185.240000      0.000000  \n75%      149388.247500      0.000000  \nmax      199992.480000      1.000000  ",
      "text/html": "<div>\n<style scoped>\n    .dataframe tbody tr th:only-of-type {\n        vertical-align: middle;\n    }\n\n    .dataframe tbody tr th {\n        vertical-align: top;\n    }\n\n    .dataframe thead th {\n        text-align: right;\n    }\n</style>\n<table border=\"1\" class=\"dataframe\">\n  <thead>\n    <tr style=\"text-align: right;\">\n      <th></th>\n      <th>CreditScore</th>\n      <th>Age</th>\n      <th>Tenure</th>\n      <th>Balance</th>\n      <th>NumOfProducts</th>\n      <th>EstimatedSalary</th>\n      <th>Exited</th>\n    </tr>\n  </thead>\n  <tbody>\n    <tr>\n      <th>count</th>\n      <td>10000.000000</td>\n      <td>10000.000000</td>\n      <td>10000.000000</td>\n      <td>10000.000000</td>\n      <td>10000.000000</td>\n      <td>9988.000000</td>\n      <td>10000.000000</td>\n    </tr>\n    <tr>\n      <th>mean</th>\n      <td>650.528800</td>\n      <td>38.921800</td>\n      <td>5.012800</td>\n      <td>76485.889288</td>\n      <td>1.530200</td>\n      <td>100066.908601</td>\n      <td>0.203700</td>\n    </tr>\n    <tr>\n      <th>std</th>\n      <td>96.653299</td>\n      <td>10.487806</td>\n      <td>2.892174</td>\n      <td>62397.405202</td>\n      <td>0.581654</td>\n      <td>57519.993379</td>\n      <td>0.402769</td>\n    </tr>\n    <tr>\n      <th>min</th>\n      <td>350.000000</td>\n      <td>18.000000</td>\n      <td>0.000000</td>\n      <td>0.000000</td>\n      <td>1.000000</td>\n      <td>11.580000</td>\n      <td>0.000000</td>\n    </tr>\n    <tr>\n      <th>25%</th>\n      <td>584.000000</td>\n      <td>32.000000</td>\n      <td>3.000000</td>\n      <td>0.000000</td>\n      <td>1.000000</td>\n      <td>50910.677500</td>\n      <td>0.000000</td>\n    </tr>\n    <tr>\n      <th>50%</th>\n      <td>652.000000</td>\n      <td>37.000000</td>\n      <td>5.000000</td>\n      <td>97198.540000</td>\n      <td>1.000000</td>\n      <td>100185.240000</td>\n      <td>0.000000</td>\n    </tr>\n    <tr>\n      <th>75%</th>\n      <td>718.000000</td>\n      <td>44.000000</td>\n      <td>7.000000</td>\n      <td>127644.240000</td>\n      <td>2.000000</td>\n      <td>149388.247500</td>\n      <td>0.000000</td>\n    </tr>\n    <tr>\n      <th>max</th>\n      <td>850.000000</td>\n      <td>92.000000</td>\n      <td>10.000000</td>\n      <td>250898.090000</td>\n      <td>4.000000</td>\n      <td>199992.480000</td>\n      <td>1.000000</td>\n    </tr>\n  </tbody>\n</table>\n</div>"
     },
     "execution_count": 44,
     "metadata": {},
     "output_type": "execute_result"
    }
   ],
   "source": [
    "# Estadística descriptiva\n",
    "\n",
    "churn.describe()"
   ],
   "metadata": {
    "collapsed": false,
    "pycharm": {
     "name": "#%%\n"
    }
   }
  },
  {
   "cell_type": "code",
   "execution_count": 45,
   "outputs": [
    {
     "data": {
      "text/plain": "       CustomerId Surname Geography Gender HasCrCard IsActiveMember\ncount       10000   10000      9980  10000     10000          10000\nunique      10000    2932         3      2         2              2\ntop      15815690   Smith    France   Male       Yes            Yes\nfreq            1      32      5008   5457      7055           5151",
      "text/html": "<div>\n<style scoped>\n    .dataframe tbody tr th:only-of-type {\n        vertical-align: middle;\n    }\n\n    .dataframe tbody tr th {\n        vertical-align: top;\n    }\n\n    .dataframe thead th {\n        text-align: right;\n    }\n</style>\n<table border=\"1\" class=\"dataframe\">\n  <thead>\n    <tr style=\"text-align: right;\">\n      <th></th>\n      <th>CustomerId</th>\n      <th>Surname</th>\n      <th>Geography</th>\n      <th>Gender</th>\n      <th>HasCrCard</th>\n      <th>IsActiveMember</th>\n    </tr>\n  </thead>\n  <tbody>\n    <tr>\n      <th>count</th>\n      <td>10000</td>\n      <td>10000</td>\n      <td>9980</td>\n      <td>10000</td>\n      <td>10000</td>\n      <td>10000</td>\n    </tr>\n    <tr>\n      <th>unique</th>\n      <td>10000</td>\n      <td>2932</td>\n      <td>3</td>\n      <td>2</td>\n      <td>2</td>\n      <td>2</td>\n    </tr>\n    <tr>\n      <th>top</th>\n      <td>15815690</td>\n      <td>Smith</td>\n      <td>France</td>\n      <td>Male</td>\n      <td>Yes</td>\n      <td>Yes</td>\n    </tr>\n    <tr>\n      <th>freq</th>\n      <td>1</td>\n      <td>32</td>\n      <td>5008</td>\n      <td>5457</td>\n      <td>7055</td>\n      <td>5151</td>\n    </tr>\n  </tbody>\n</table>\n</div>"
     },
     "execution_count": 45,
     "metadata": {},
     "output_type": "execute_result"
    }
   ],
   "source": [
    "churn.describe(exclude=\"number\")"
   ],
   "metadata": {
    "collapsed": false,
    "pycharm": {
     "name": "#%%\n"
    }
   }
  },
  {
   "cell_type": "markdown",
   "source": [
    "#Datos missing\n",
    "Vamos a mirar si hay datos missing en nuestro set de datos"
   ],
   "metadata": {
    "collapsed": false,
    "pycharm": {
     "name": "#%% md\n"
    }
   }
  },
  {
   "cell_type": "code",
   "execution_count": 46,
   "outputs": [
    {
     "data": {
      "text/plain": "CustomerId          0\nSurname             0\nCreditScore         0\nGeography          20\nGender              0\nAge                 0\nTenure              0\nBalance             0\nNumOfProducts       0\nHasCrCard           0\nIsActiveMember      0\nEstimatedSalary    12\nExited              0\ndtype: int64"
     },
     "execution_count": 46,
     "metadata": {},
     "output_type": "execute_result"
    }
   ],
   "source": [
    "# Conteo\n",
    "churn.isna().sum()"
   ],
   "metadata": {
    "collapsed": false,
    "pycharm": {
     "name": "#%%\n"
    }
   }
  },
  {
   "cell_type": "code",
   "execution_count": 47,
   "outputs": [
    {
     "data": {
      "text/plain": "CustomerId         0.00\nSurname            0.00\nCreditScore        0.00\nGeography          0.20\nGender             0.00\nAge                0.00\nTenure             0.00\nBalance            0.00\nNumOfProducts      0.00\nHasCrCard          0.00\nIsActiveMember     0.00\nEstimatedSalary    0.12\nExited             0.00\ndtype: float64"
     },
     "execution_count": 47,
     "metadata": {},
     "output_type": "execute_result"
    }
   ],
   "source": [
    "# Lo mismo, en porcentaje\n",
    "churn.isna().mean() * 100"
   ],
   "metadata": {
    "collapsed": false,
    "pycharm": {
     "name": "#%%\n"
    }
   }
  },
  {
   "cell_type": "markdown",
   "source": [
    "### Preprocesamiento\n",
    "\n",
    "* Variables numéricas:\n",
    "    * Atípicos\n",
    "    * Imputar\n",
    "    * Escalar\n",
    "    * Discretizar (Opcional)\n",
    "\n",
    "* Variables categóricas:\n",
    "    * Imputar\n",
    "    * Codificar (OHE, LabelEncoder, u OrdinalEncoder)"
   ],
   "metadata": {
    "collapsed": false,
    "pycharm": {
     "name": "#%% md\n"
    }
   }
  },
  {
   "cell_type": "code",
   "execution_count": 48,
   "outputs": [
    {
     "data": {
      "text/plain": "      CreditScore Geography  Gender  Age  Tenure    Balance  NumOfProducts  \\\n6342          581    France  Female   37      10  104255.03              1   \n\n     HasCrCard IsActiveMember  EstimatedSalary  Exited  \n6342       Yes             No         86609.37       0  ",
      "text/html": "<div>\n<style scoped>\n    .dataframe tbody tr th:only-of-type {\n        vertical-align: middle;\n    }\n\n    .dataframe tbody tr th {\n        vertical-align: top;\n    }\n\n    .dataframe thead th {\n        text-align: right;\n    }\n</style>\n<table border=\"1\" class=\"dataframe\">\n  <thead>\n    <tr style=\"text-align: right;\">\n      <th></th>\n      <th>CreditScore</th>\n      <th>Geography</th>\n      <th>Gender</th>\n      <th>Age</th>\n      <th>Tenure</th>\n      <th>Balance</th>\n      <th>NumOfProducts</th>\n      <th>HasCrCard</th>\n      <th>IsActiveMember</th>\n      <th>EstimatedSalary</th>\n      <th>Exited</th>\n    </tr>\n  </thead>\n  <tbody>\n    <tr>\n      <th>6342</th>\n      <td>581</td>\n      <td>France</td>\n      <td>Female</td>\n      <td>37</td>\n      <td>10</td>\n      <td>104255.03</td>\n      <td>1</td>\n      <td>Yes</td>\n      <td>No</td>\n      <td>86609.37</td>\n      <td>0</td>\n    </tr>\n  </tbody>\n</table>\n</div>"
     },
     "execution_count": 48,
     "metadata": {},
     "output_type": "execute_result"
    }
   ],
   "source": [
    "#Decidimos que estas columnas confunden al modelo o no tienen correlacion con la var que queremos predecir\n",
    "cols_to_drop = [\"CustomerId\", \"Surname\"]\n",
    "\n",
    "# axis = 0 se refiere a rows, axis=1 a columns\n",
    "# Para major claridad, se puede usar axis='index' para rows y axis='columns'\n",
    "\n",
    "churn.drop(labels=cols_to_drop, axis='columns', inplace=True)\n",
    "\n",
    "churn.sample(n=1)"
   ],
   "metadata": {
    "collapsed": false,
    "pycharm": {
     "name": "#%%\n"
    }
   }
  },
  {
   "cell_type": "code",
   "execution_count": 50,
   "outputs": [
    {
     "data": {
      "text/plain": "['CreditScore', 'Age', 'Tenure', 'Balance', 'NumOfProducts', 'EstimatedSalary']"
     },
     "execution_count": 50,
     "metadata": {},
     "output_type": "execute_result"
    }
   ],
   "source": [
    "#Lista de features de tipo numérico\n",
    "numerical_features = churn.select_dtypes(include=\"number\").columns.tolist()\n",
    "\n",
    "# Removemos la variable target, que queremos predecir\n",
    "numerical_features.remove(\"Exited\")\n",
    "numerical_features"
   ],
   "metadata": {
    "collapsed": false,
    "pycharm": {
     "name": "#%%\n"
    }
   }
  },
  {
   "cell_type": "code",
   "execution_count": 92,
   "outputs": [
    {
     "data": {
      "text/plain": "['Geography', 'Gender', 'HasCrCard', 'IsActiveMember']"
     },
     "execution_count": 92,
     "metadata": {},
     "output_type": "execute_result"
    }
   ],
   "source": [
    "#Lista de features catégoricos, a partir de excluír los que no son number\n",
    "categorical_features = churn.select_dtypes(exclude=\"number\").columns.tolist()\n",
    "categorical_features"
   ],
   "metadata": {
    "collapsed": false,
    "pycharm": {
     "name": "#%%\n"
    }
   }
  },
  {
   "cell_type": "code",
   "execution_count": 52,
   "outputs": [],
   "source": [
    "#Pop: method to delete any element from the dataframe\n",
    "exited = churn.pop(\"Exited\")\n",
    "\n",
    "# train_data, test_data, train_label, test_label\n",
    "\n",
    "#test_size refers to the data percentage used for testing. If 0.3, 0.7 is the one used for training.\n",
    "X_train, X_test, y_train, y_test = train_test_split(churn, exited,\n",
    "                                                    test_size=0.3)"
   ],
   "metadata": {
    "collapsed": false,
    "pycharm": {
     "name": "#%%\n"
    }
   }
  },
  {
   "cell_type": "code",
   "execution_count": 53,
   "outputs": [
    {
     "data": {
      "text/plain": "CreditScore         0\nGeography          15\nGender              0\nAge                 0\nTenure              0\nBalance             0\nNumOfProducts       0\nHasCrCard           0\nIsActiveMember      0\nEstimatedSalary    10\ndtype: int64"
     },
     "execution_count": 53,
     "metadata": {},
     "output_type": "execute_result"
    }
   ],
   "source": [
    "X_train.isna().sum()"
   ],
   "metadata": {
    "collapsed": false,
    "pycharm": {
     "name": "#%%\n"
    }
   }
  },
  {
   "cell_type": "markdown",
   "source": [
    "#### Preprocesamiento sobre los features numéricos"
   ],
   "metadata": {
    "collapsed": false,
    "pycharm": {
     "name": "#%% md\n"
    }
   }
  },
  {
   "cell_type": "code",
   "execution_count": 26,
   "outputs": [
    {
     "data": {
      "text/plain": "array([6.5200000e+02, 3.7000000e+01, 5.0000000e+00, 9.6889925e+04,\n       1.0000000e+00, 9.9953470e+04])"
     },
     "execution_count": 26,
     "metadata": {},
     "output_type": "execute_result"
    }
   ],
   "source": [
    "#Imputacion - Rellenar los datos faltantes - estrategias:\n",
    " # mean: replace missing values using the mean along each column\n",
    " # median: replace missing values using the median along each column\n",
    " # most_frequent: replace missing using the most frequent value along each column.\n",
    "    # Can be used with strings or numeric data. If there is more than one such value, only the smallest is returned.\n",
    " # constant: replace missing values with fill_value.\n",
    "\n",
    "# selecciona de X_train solo aquellas columnas que están contenidas en la lista \"numerical_features list\n",
    "imputer_num = SimpleImputer(strategy=\"median\").fit(X_train[numerical_features])\n",
    "\n",
    "#Valor de la mediana con la que imputó cada feature.\n",
    "imputer_num.statistics_"
   ],
   "metadata": {
    "collapsed": false,
    "pycharm": {
     "name": "#%%\n"
    }
   }
  },
  {
   "cell_type": "code",
   "execution_count": 54,
   "outputs": [
    {
     "name": "stderr",
     "output_type": "stream",
     "text": [
      "/home/gery/.local/lib/python3.6/site-packages/pandas/core/indexing.py:1734: SettingWithCopyWarning: \n",
      "A value is trying to be set on a copy of a slice from a DataFrame.\n",
      "Try using .loc[row_indexer,col_indexer] = value instead\n",
      "\n",
      "See the caveats in the documentation: https://pandas.pydata.org/pandas-docs/stable/user_guide/indexing.html#returning-a-view-versus-a-copy\n",
      "  isetter(loc, value[:, i].tolist())\n"
     ]
    },
    {
     "data": {
      "text/plain": "CreditScore         0\nGeography          15\nGender              0\nAge                 0\nTenure              0\nBalance             0\nNumOfProducts       0\nHasCrCard           0\nIsActiveMember      0\nEstimatedSalary     0\ndtype: int64"
     },
     "execution_count": 54,
     "metadata": {},
     "output_type": "execute_result"
    }
   ],
   "source": [
    "# Transform: aplica sobre las columnas numericas los valores resultado de la\n",
    "# imputación anterior - en este caso la media - sobre los valores faltantes\n",
    "X_train.loc[:, numerical_features] = imputer_num.transform(X_train[numerical_features])\n",
    "\n",
    "#Vemos que EstimatedSalary ya no tiene nulos. Resta trabajar sobre Geography, que es un valor categórico\n",
    "X_train.isna().sum()"
   ],
   "metadata": {
    "collapsed": false,
    "pycharm": {
     "name": "#%%\n"
    }
   }
  },
  {
   "cell_type": "code",
   "execution_count": 114,
   "outputs": [],
   "source": [
    "# Escalar: util cuando sigue una distribución normal.\n",
    "# StandardScaler estandariza un feature al restarle el promedio y luego dividir\n",
    "# por la desviacion estandar, obteniendo \"unidades\" de desviacion estandar.\n",
    "# Así, el promedio de la distribucion es 0 y alrededor del 68% de los valores\n",
    "# estarán entre -1 and 1.\n",
    "\n",
    "scaler = StandardScaler().fit(X_train[numerical_features])\n",
    "\n",
    "X_train.loc[:, numerical_features] = scaler.transform(X_train[numerical_features])"
   ],
   "metadata": {
    "collapsed": false,
    "pycharm": {
     "name": "#%%\n"
    }
   }
  },
  {
   "cell_type": "code",
   "execution_count": 57,
   "outputs": [
    {
     "data": {
      "text/plain": "      CreditScore Geography  Gender       Age    Tenure   Balance  \\\n4816    -0.516465    France    Male -0.951182  1.030985 -1.232479   \n3634     0.319106    France    Male -1.524462  0.686700  1.301340   \n3681     0.267527    France  Female  0.099833 -1.034723  1.141403   \n3543     0.257211    France    Male  0.959753  1.030985  0.937908   \n4229    -0.598991    France  Female -0.473448  1.375270 -1.232479   \n\n      NumOfProducts HasCrCard IsActiveMember  EstimatedSalary  \n4816       0.816121        No            Yes        -1.139811  \n3634      -0.905654        No             No         0.825750  \n3681      -0.905654       Yes             No        -0.088723  \n3543      -0.905654        No            Yes         1.378158  \n4229       0.816121       Yes            Yes        -1.388300  ",
      "text/html": "<div>\n<style scoped>\n    .dataframe tbody tr th:only-of-type {\n        vertical-align: middle;\n    }\n\n    .dataframe tbody tr th {\n        vertical-align: top;\n    }\n\n    .dataframe thead th {\n        text-align: right;\n    }\n</style>\n<table border=\"1\" class=\"dataframe\">\n  <thead>\n    <tr style=\"text-align: right;\">\n      <th></th>\n      <th>CreditScore</th>\n      <th>Geography</th>\n      <th>Gender</th>\n      <th>Age</th>\n      <th>Tenure</th>\n      <th>Balance</th>\n      <th>NumOfProducts</th>\n      <th>HasCrCard</th>\n      <th>IsActiveMember</th>\n      <th>EstimatedSalary</th>\n    </tr>\n  </thead>\n  <tbody>\n    <tr>\n      <th>4816</th>\n      <td>-0.516465</td>\n      <td>France</td>\n      <td>Male</td>\n      <td>-0.951182</td>\n      <td>1.030985</td>\n      <td>-1.232479</td>\n      <td>0.816121</td>\n      <td>No</td>\n      <td>Yes</td>\n      <td>-1.139811</td>\n    </tr>\n    <tr>\n      <th>3634</th>\n      <td>0.319106</td>\n      <td>France</td>\n      <td>Male</td>\n      <td>-1.524462</td>\n      <td>0.686700</td>\n      <td>1.301340</td>\n      <td>-0.905654</td>\n      <td>No</td>\n      <td>No</td>\n      <td>0.825750</td>\n    </tr>\n    <tr>\n      <th>3681</th>\n      <td>0.267527</td>\n      <td>France</td>\n      <td>Female</td>\n      <td>0.099833</td>\n      <td>-1.034723</td>\n      <td>1.141403</td>\n      <td>-0.905654</td>\n      <td>Yes</td>\n      <td>No</td>\n      <td>-0.088723</td>\n    </tr>\n    <tr>\n      <th>3543</th>\n      <td>0.257211</td>\n      <td>France</td>\n      <td>Male</td>\n      <td>0.959753</td>\n      <td>1.030985</td>\n      <td>0.937908</td>\n      <td>-0.905654</td>\n      <td>No</td>\n      <td>Yes</td>\n      <td>1.378158</td>\n    </tr>\n    <tr>\n      <th>4229</th>\n      <td>-0.598991</td>\n      <td>France</td>\n      <td>Female</td>\n      <td>-0.473448</td>\n      <td>1.375270</td>\n      <td>-1.232479</td>\n      <td>0.816121</td>\n      <td>Yes</td>\n      <td>Yes</td>\n      <td>-1.388300</td>\n    </tr>\n  </tbody>\n</table>\n</div>"
     },
     "execution_count": 57,
     "metadata": {},
     "output_type": "execute_result"
    }
   ],
   "source": [
    "# Podemos ver que se aplicó a todas las columnas numericas y que ya los valores\n",
    "# ya no tienen la misma interpretacion que al momento de importar el dataset\n",
    "X_train.head()"
   ],
   "metadata": {
    "collapsed": false,
    "pycharm": {
     "name": "#%%\n"
    }
   }
  },
  {
   "cell_type": "markdown",
   "source": [
    "#### Preprocesamiento Variables categóricas"
   ],
   "metadata": {
    "collapsed": false,
    "pycharm": {
     "name": "#%% md\n"
    }
   }
  },
  {
   "cell_type": "code",
   "execution_count": 83,
   "outputs": [
    {
     "name": "stderr",
     "output_type": "stream",
     "text": [
      "/home/gery/.local/lib/python3.6/site-packages/pandas/core/indexing.py:1734: SettingWithCopyWarning: \n",
      "A value is trying to be set on a copy of a slice from a DataFrame.\n",
      "Try using .loc[row_indexer,col_indexer] = value instead\n",
      "\n",
      "See the caveats in the documentation: https://pandas.pydata.org/pandas-docs/stable/user_guide/indexing.html#returning-a-view-versus-a-copy\n",
      "  isetter(loc, value[:, i].tolist())\n"
     ]
    },
    {
     "data": {
      "text/plain": "CreditScore        0\nGeography          0\nGender             0\nAge                0\nTenure             0\nBalance            0\nNumOfProducts      0\nHasCrCard          0\nIsActiveMember     0\nEstimatedSalary    0\ndtype: int64"
     },
     "execution_count": 83,
     "metadata": {},
     "output_type": "execute_result"
    }
   ],
   "source": [
    "# Imputacion\n",
    "\n",
    "# Sobre datos categóricos, la estrategia puede ser la \"más frecuente\" o el uso de una \"constante\"\n",
    "\n",
    "imputer_cat = SimpleImputer(strategy=\"most_frequent\").fit(X_train[categorical_features])\n",
    "\n",
    "# Para cada variable categórica, arma un array con el valor más frecuente\n",
    "imputer_cat.statistics_\n",
    "\n",
    "X_train.loc[:, categorical_features] = imputer_cat.transform(X_train[categorical_features])\n",
    "\n",
    "#Geography pasó a tener cero valores faltantes. Segun vimos antes, el top value era Francia\n",
    "X_train.isna().sum()"
   ],
   "metadata": {
    "collapsed": false,
    "pycharm": {
     "name": "#%%\n"
    }
   }
  },
  {
   "cell_type": "code",
   "execution_count": 105,
   "outputs": [
    {
     "data": {
      "text/plain": "      CreditScore       Age    Tenure   Balance  NumOfProducts  \\\n4816    -0.516465 -0.951182  1.030985 -1.232479       0.816121   \n3634     0.319106 -1.524462  0.686700  1.301340      -0.905654   \n3681     0.267527  0.099833 -1.034723  1.141403      -0.905654   \n3543     0.257211  0.959753  1.030985  0.937908      -0.905654   \n4229    -0.598991 -0.473448  1.375270 -1.232479       0.816121   \n...           ...       ...       ...       ...            ...   \n2060     0.896784 -0.091261  0.342416  1.116979       0.816121   \n8787     0.401631  3.252875 -1.379008  0.511031      -0.905654   \n6018     0.834890 -0.855635  0.686700 -1.232479       0.816121   \n6498    -0.382361 -1.142275 -0.001869  0.777849      -0.905654   \n7195     0.257211 -0.568995  0.342416 -1.232479       0.816121   \n\n      EstimatedSalary  Geography_France  Geography_Germany  Geography_Spain  \\\n4816        -1.139811                 1                  0                0   \n3634         0.825750                 1                  0                0   \n3681        -0.088723                 1                  0                0   \n3543         1.378158                 1                  0                0   \n4229        -1.388300                 1                  0                0   \n...               ...               ...                ...              ...   \n2060         1.708526                 0                  0                1   \n8787         1.177239                 0                  0                1   \n6018         0.744462                 1                  0                0   \n6498         1.718758                 1                  0                0   \n7195        -1.152017                 1                  0                0   \n\n      Gender_Female  Gender_Male  HasCrCard_No  HasCrCard_Yes  \\\n4816              0            1             1              0   \n3634              0            1             1              0   \n3681              1            0             0              1   \n3543              0            1             1              0   \n4229              1            0             0              1   \n...             ...          ...           ...            ...   \n2060              0            1             0              1   \n8787              0            1             1              0   \n6018              0            1             1              0   \n6498              1            0             0              1   \n7195              1            0             0              1   \n\n      IsActiveMember_No  IsActiveMember_Yes  \n4816                  0                   1  \n3634                  1                   0  \n3681                  1                   0  \n3543                  0                   1  \n4229                  0                   1  \n...                 ...                 ...  \n2060                  1                   0  \n8787                  0                   1  \n6018                  0                   1  \n6498                  1                   0  \n7195                  1                   0  \n\n[7000 rows x 15 columns]",
      "text/html": "<div>\n<style scoped>\n    .dataframe tbody tr th:only-of-type {\n        vertical-align: middle;\n    }\n\n    .dataframe tbody tr th {\n        vertical-align: top;\n    }\n\n    .dataframe thead th {\n        text-align: right;\n    }\n</style>\n<table border=\"1\" class=\"dataframe\">\n  <thead>\n    <tr style=\"text-align: right;\">\n      <th></th>\n      <th>CreditScore</th>\n      <th>Age</th>\n      <th>Tenure</th>\n      <th>Balance</th>\n      <th>NumOfProducts</th>\n      <th>EstimatedSalary</th>\n      <th>Geography_France</th>\n      <th>Geography_Germany</th>\n      <th>Geography_Spain</th>\n      <th>Gender_Female</th>\n      <th>Gender_Male</th>\n      <th>HasCrCard_No</th>\n      <th>HasCrCard_Yes</th>\n      <th>IsActiveMember_No</th>\n      <th>IsActiveMember_Yes</th>\n    </tr>\n  </thead>\n  <tbody>\n    <tr>\n      <th>4816</th>\n      <td>-0.516465</td>\n      <td>-0.951182</td>\n      <td>1.030985</td>\n      <td>-1.232479</td>\n      <td>0.816121</td>\n      <td>-1.139811</td>\n      <td>1</td>\n      <td>0</td>\n      <td>0</td>\n      <td>0</td>\n      <td>1</td>\n      <td>1</td>\n      <td>0</td>\n      <td>0</td>\n      <td>1</td>\n    </tr>\n    <tr>\n      <th>3634</th>\n      <td>0.319106</td>\n      <td>-1.524462</td>\n      <td>0.686700</td>\n      <td>1.301340</td>\n      <td>-0.905654</td>\n      <td>0.825750</td>\n      <td>1</td>\n      <td>0</td>\n      <td>0</td>\n      <td>0</td>\n      <td>1</td>\n      <td>1</td>\n      <td>0</td>\n      <td>1</td>\n      <td>0</td>\n    </tr>\n    <tr>\n      <th>3681</th>\n      <td>0.267527</td>\n      <td>0.099833</td>\n      <td>-1.034723</td>\n      <td>1.141403</td>\n      <td>-0.905654</td>\n      <td>-0.088723</td>\n      <td>1</td>\n      <td>0</td>\n      <td>0</td>\n      <td>1</td>\n      <td>0</td>\n      <td>0</td>\n      <td>1</td>\n      <td>1</td>\n      <td>0</td>\n    </tr>\n    <tr>\n      <th>3543</th>\n      <td>0.257211</td>\n      <td>0.959753</td>\n      <td>1.030985</td>\n      <td>0.937908</td>\n      <td>-0.905654</td>\n      <td>1.378158</td>\n      <td>1</td>\n      <td>0</td>\n      <td>0</td>\n      <td>0</td>\n      <td>1</td>\n      <td>1</td>\n      <td>0</td>\n      <td>0</td>\n      <td>1</td>\n    </tr>\n    <tr>\n      <th>4229</th>\n      <td>-0.598991</td>\n      <td>-0.473448</td>\n      <td>1.375270</td>\n      <td>-1.232479</td>\n      <td>0.816121</td>\n      <td>-1.388300</td>\n      <td>1</td>\n      <td>0</td>\n      <td>0</td>\n      <td>1</td>\n      <td>0</td>\n      <td>0</td>\n      <td>1</td>\n      <td>0</td>\n      <td>1</td>\n    </tr>\n    <tr>\n      <th>...</th>\n      <td>...</td>\n      <td>...</td>\n      <td>...</td>\n      <td>...</td>\n      <td>...</td>\n      <td>...</td>\n      <td>...</td>\n      <td>...</td>\n      <td>...</td>\n      <td>...</td>\n      <td>...</td>\n      <td>...</td>\n      <td>...</td>\n      <td>...</td>\n      <td>...</td>\n    </tr>\n    <tr>\n      <th>2060</th>\n      <td>0.896784</td>\n      <td>-0.091261</td>\n      <td>0.342416</td>\n      <td>1.116979</td>\n      <td>0.816121</td>\n      <td>1.708526</td>\n      <td>0</td>\n      <td>0</td>\n      <td>1</td>\n      <td>0</td>\n      <td>1</td>\n      <td>0</td>\n      <td>1</td>\n      <td>1</td>\n      <td>0</td>\n    </tr>\n    <tr>\n      <th>8787</th>\n      <td>0.401631</td>\n      <td>3.252875</td>\n      <td>-1.379008</td>\n      <td>0.511031</td>\n      <td>-0.905654</td>\n      <td>1.177239</td>\n      <td>0</td>\n      <td>0</td>\n      <td>1</td>\n      <td>0</td>\n      <td>1</td>\n      <td>1</td>\n      <td>0</td>\n      <td>0</td>\n      <td>1</td>\n    </tr>\n    <tr>\n      <th>6018</th>\n      <td>0.834890</td>\n      <td>-0.855635</td>\n      <td>0.686700</td>\n      <td>-1.232479</td>\n      <td>0.816121</td>\n      <td>0.744462</td>\n      <td>1</td>\n      <td>0</td>\n      <td>0</td>\n      <td>0</td>\n      <td>1</td>\n      <td>1</td>\n      <td>0</td>\n      <td>0</td>\n      <td>1</td>\n    </tr>\n    <tr>\n      <th>6498</th>\n      <td>-0.382361</td>\n      <td>-1.142275</td>\n      <td>-0.001869</td>\n      <td>0.777849</td>\n      <td>-0.905654</td>\n      <td>1.718758</td>\n      <td>1</td>\n      <td>0</td>\n      <td>0</td>\n      <td>1</td>\n      <td>0</td>\n      <td>0</td>\n      <td>1</td>\n      <td>1</td>\n      <td>0</td>\n    </tr>\n    <tr>\n      <th>7195</th>\n      <td>0.257211</td>\n      <td>-0.568995</td>\n      <td>0.342416</td>\n      <td>-1.232479</td>\n      <td>0.816121</td>\n      <td>-1.152017</td>\n      <td>1</td>\n      <td>0</td>\n      <td>0</td>\n      <td>1</td>\n      <td>0</td>\n      <td>0</td>\n      <td>1</td>\n      <td>1</td>\n      <td>0</td>\n    </tr>\n  </tbody>\n</table>\n<p>7000 rows × 15 columns</p>\n</div>"
     },
     "execution_count": 105,
     "metadata": {},
     "output_type": "execute_result"
    }
   ],
   "source": [
    "# One Hot Encoder\n",
    "#Para variables nominales sin jerarquía, crea una columna por cada uno de los valores encontrado\n",
    "#asignando una variable dummy - que puede tomar dos posibles valores: 1 o 0 - para indicar\n",
    "#la presencia o ausencia de esa categoria en esa observación\n",
    "\n",
    "## no le está gustando la lista categorical_features como param de columns,\n",
    "#me tira error: raise TypeError(\"Input must be a list-like for parameter `columns`\")\n",
    "#X_train = pd.get_dummies(data=X_train, columns=categorical_features)\n",
    "\n",
    "#Se lo saqué. La doc dice que por default, toda columna de dtype object o categorical se lo aplica\n",
    "#si el parámetro no se especifica.\n",
    "X_train = pd.get_dummies(data=X_train)\n",
    "X_train"
   ],
   "metadata": {
    "collapsed": false,
    "pycharm": {
     "name": "#%%\n"
    }
   }
  },
  {
   "cell_type": "markdown",
   "source": [
    "### Set de Test\n",
    "#### Preprocesamiento Variables Numéricas"
   ],
   "metadata": {
    "collapsed": false,
    "pycharm": {
     "name": "#%% md\n"
    }
   }
  },
  {
   "cell_type": "code",
   "execution_count": 108,
   "outputs": [
    {
     "data": {
      "text/plain": "CreditScore        0\nGeography          5\nGender             0\nAge                0\nTenure             0\nBalance            0\nNumOfProducts      0\nHasCrCard          0\nIsActiveMember     0\nEstimatedSalary    2\ndtype: int64"
     },
     "execution_count": 108,
     "metadata": {},
     "output_type": "execute_result"
    }
   ],
   "source": [
    "#Conteo de nulos por columna\n",
    "X_test.isna().sum()\n"
   ],
   "metadata": {
    "collapsed": false,
    "pycharm": {
     "name": "#%%\n"
    }
   }
  },
  {
   "cell_type": "markdown",
   "source": [
    "Imputación"
   ],
   "metadata": {
    "collapsed": false
   }
  },
  {
   "cell_type": "code",
   "execution_count": 109,
   "outputs": [
    {
     "name": "stderr",
     "output_type": "stream",
     "text": [
      "/home/gery/.local/lib/python3.6/site-packages/pandas/core/indexing.py:1734: SettingWithCopyWarning: \n",
      "A value is trying to be set on a copy of a slice from a DataFrame.\n",
      "Try using .loc[row_indexer,col_indexer] = value instead\n",
      "\n",
      "See the caveats in the documentation: https://pandas.pydata.org/pandas-docs/stable/user_guide/indexing.html#returning-a-view-versus-a-copy\n",
      "  isetter(loc, value[:, i].tolist())\n"
     ]
    },
    {
     "data": {
      "text/plain": "CreditScore        0\nGeography          5\nGender             0\nAge                0\nTenure             0\nBalance            0\nNumOfProducts      0\nHasCrCard          0\nIsActiveMember     0\nEstimatedSalary    0\ndtype: int64"
     },
     "execution_count": 109,
     "metadata": {},
     "output_type": "execute_result"
    }
   ],
   "source": [
    "# imputer_num: Definida durante el training, array con la imputación a aplicar sobre numericos\n",
    "X_test.loc[:, numerical_features] = imputer_num.transform(X_test[numerical_features])\n",
    "\n",
    "#Columnas originalmente con valores faltantes, ya no tienen más\n",
    "X_test.isna().sum()"
   ],
   "metadata": {
    "collapsed": false,
    "pycharm": {
     "name": "#%%\n"
    }
   }
  },
  {
   "cell_type": "markdown",
   "source": [
    "Escalado sobre el set de Test"
   ],
   "metadata": {
    "collapsed": false
   }
  },
  {
   "cell_type": "code",
   "execution_count": 124,
   "outputs": [
    {
     "name": "stderr",
     "output_type": "stream",
     "text": [
      "/home/gery/.local/lib/python3.6/site-packages/pandas/core/indexing.py:1734: SettingWithCopyWarning: \n",
      "A value is trying to be set on a copy of a slice from a DataFrame.\n",
      "Try using .loc[row_indexer,col_indexer] = value instead\n",
      "\n",
      "See the caveats in the documentation: https://pandas.pydata.org/pandas-docs/stable/user_guide/indexing.html#returning-a-view-versus-a-copy\n",
      "  isetter(loc, value[:, i].tolist())\n"
     ]
    },
    {
     "data": {
      "text/plain": "      CreditScore Geography  Gender   Age  Tenure       Balance  \\\n2529        716.0    France  Female  29.0    10.0  8.794639e+04   \n7352        726.0    France  Female  38.0     4.0  1.218073e-17   \n7053        755.0   Germany    Male  43.0     6.0  1.650485e+05   \n7490        654.0    France  Female  35.0     2.0  9.086580e+04   \n9117        703.0    France  Female  32.0     6.0  1.218073e-17   \n\n      NumOfProducts HasCrCard IsActiveMember  EstimatedSalary  \n2529            1.0       Yes            Yes        182531.74  \n7352            2.0        No             No          6787.48  \n7053            3.0       Yes             No         16929.41  \n7490            1.0       Yes            Yes         86764.46  \n9117            2.0        No             No         33606.52  ",
      "text/html": "<div>\n<style scoped>\n    .dataframe tbody tr th:only-of-type {\n        vertical-align: middle;\n    }\n\n    .dataframe tbody tr th {\n        vertical-align: top;\n    }\n\n    .dataframe thead th {\n        text-align: right;\n    }\n</style>\n<table border=\"1\" class=\"dataframe\">\n  <thead>\n    <tr style=\"text-align: right;\">\n      <th></th>\n      <th>CreditScore</th>\n      <th>Geography</th>\n      <th>Gender</th>\n      <th>Age</th>\n      <th>Tenure</th>\n      <th>Balance</th>\n      <th>NumOfProducts</th>\n      <th>HasCrCard</th>\n      <th>IsActiveMember</th>\n      <th>EstimatedSalary</th>\n    </tr>\n  </thead>\n  <tbody>\n    <tr>\n      <th>2529</th>\n      <td>716.0</td>\n      <td>France</td>\n      <td>Female</td>\n      <td>29.0</td>\n      <td>10.0</td>\n      <td>8.794639e+04</td>\n      <td>1.0</td>\n      <td>Yes</td>\n      <td>Yes</td>\n      <td>182531.74</td>\n    </tr>\n    <tr>\n      <th>7352</th>\n      <td>726.0</td>\n      <td>France</td>\n      <td>Female</td>\n      <td>38.0</td>\n      <td>4.0</td>\n      <td>1.218073e-17</td>\n      <td>2.0</td>\n      <td>No</td>\n      <td>No</td>\n      <td>6787.48</td>\n    </tr>\n    <tr>\n      <th>7053</th>\n      <td>755.0</td>\n      <td>Germany</td>\n      <td>Male</td>\n      <td>43.0</td>\n      <td>6.0</td>\n      <td>1.650485e+05</td>\n      <td>3.0</td>\n      <td>Yes</td>\n      <td>No</td>\n      <td>16929.41</td>\n    </tr>\n    <tr>\n      <th>7490</th>\n      <td>654.0</td>\n      <td>France</td>\n      <td>Female</td>\n      <td>35.0</td>\n      <td>2.0</td>\n      <td>9.086580e+04</td>\n      <td>1.0</td>\n      <td>Yes</td>\n      <td>Yes</td>\n      <td>86764.46</td>\n    </tr>\n    <tr>\n      <th>9117</th>\n      <td>703.0</td>\n      <td>France</td>\n      <td>Female</td>\n      <td>32.0</td>\n      <td>6.0</td>\n      <td>1.218073e-17</td>\n      <td>2.0</td>\n      <td>No</td>\n      <td>No</td>\n      <td>33606.52</td>\n    </tr>\n  </tbody>\n</table>\n</div>"
     },
     "execution_count": 124,
     "metadata": {},
     "output_type": "execute_result"
    }
   ],
   "source": [
    "#Scaler\n",
    "\n",
    "X_test.loc[:, numerical_features] = scaler.transform(X_test[numerical_features])\n",
    "\n",
    "#No veo que aplique el scaler a los features numericos.\n",
    "X_test.head()"
   ],
   "metadata": {
    "collapsed": false,
    "pycharm": {
     "name": "#%%\n"
    }
   }
  },
  {
   "cell_type": "markdown",
   "source": [
    "### Set de Test\n",
    "#### Preprocesamiento Variables categóricas"
   ],
   "metadata": {
    "collapsed": false,
    "pycharm": {
     "name": "#%% md\n"
    }
   }
  },
  {
   "cell_type": "code",
   "execution_count": 123,
   "outputs": [
    {
     "name": "stderr",
     "output_type": "stream",
     "text": [
      "/home/gery/.local/lib/python3.6/site-packages/pandas/core/indexing.py:1734: SettingWithCopyWarning: \n",
      "A value is trying to be set on a copy of a slice from a DataFrame.\n",
      "Try using .loc[row_indexer,col_indexer] = value instead\n",
      "\n",
      "See the caveats in the documentation: https://pandas.pydata.org/pandas-docs/stable/user_guide/indexing.html#returning-a-view-versus-a-copy\n",
      "  isetter(loc, value[:, i].tolist())\n"
     ]
    },
    {
     "data": {
      "text/plain": "CreditScore        0\nGeography          0\nGender             0\nAge                0\nTenure             0\nBalance            0\nNumOfProducts      0\nHasCrCard          0\nIsActiveMember     0\nEstimatedSalary    0\ndtype: int64"
     },
     "execution_count": 123,
     "metadata": {},
     "output_type": "execute_result"
    }
   ],
   "source": [
    "X_test.loc[:, categorical_features] = imputer_cat.transform(X_test[categorical_features])\n",
    "\n",
    "#Geography pasó a tener cero valores faltantes. Segun vimos antes, el top value era Francia\n",
    "X_test.isna().sum()"
   ],
   "metadata": {
    "collapsed": false,
    "pycharm": {
     "name": "#%%\n"
    }
   }
  },
  {
   "cell_type": "markdown",
   "source": [
    "#### One Hot Encoder"
   ],
   "metadata": {
    "collapsed": false,
    "pycharm": {
     "name": "#%% md\n"
    }
   }
  },
  {
   "cell_type": "code",
   "execution_count": 129,
   "outputs": [
    {
     "data": {
      "text/plain": "      CreditScore   Age  Tenure       Balance  NumOfProducts  EstimatedSalary  \\\n1906        786.0  29.0     4.0  1.218073e-17            2.0        103372.79   \n9272        739.0  42.0     2.0  1.416429e+05            2.0        172149.76   \n1916        543.0  48.0     1.0  1.009005e+05            1.0         33310.72   \n4409        756.0  41.0     6.0  1.490499e+05            1.0         50422.36   \n\n      Geography_France  Geography_Germany  Geography_Spain  Gender_Female  \\\n1906                 1                  0                0              1   \n9272                 1                  0                0              0   \n1916                 0                  1                0              0   \n4409                 0                  1                0              0   \n\n      Gender_Male  HasCrCard_No  HasCrCard_Yes  IsActiveMember_No  \\\n1906            0             0              1                  1   \n9272            1             0              1                  1   \n1916            1             1              0                  1   \n4409            1             1              0                  0   \n\n      IsActiveMember_Yes  \n1906                   0  \n9272                   0  \n1916                   0  \n4409                   1  ",
      "text/html": "<div>\n<style scoped>\n    .dataframe tbody tr th:only-of-type {\n        vertical-align: middle;\n    }\n\n    .dataframe tbody tr th {\n        vertical-align: top;\n    }\n\n    .dataframe thead th {\n        text-align: right;\n    }\n</style>\n<table border=\"1\" class=\"dataframe\">\n  <thead>\n    <tr style=\"text-align: right;\">\n      <th></th>\n      <th>CreditScore</th>\n      <th>Age</th>\n      <th>Tenure</th>\n      <th>Balance</th>\n      <th>NumOfProducts</th>\n      <th>EstimatedSalary</th>\n      <th>Geography_France</th>\n      <th>Geography_Germany</th>\n      <th>Geography_Spain</th>\n      <th>Gender_Female</th>\n      <th>Gender_Male</th>\n      <th>HasCrCard_No</th>\n      <th>HasCrCard_Yes</th>\n      <th>IsActiveMember_No</th>\n      <th>IsActiveMember_Yes</th>\n    </tr>\n  </thead>\n  <tbody>\n    <tr>\n      <th>1906</th>\n      <td>786.0</td>\n      <td>29.0</td>\n      <td>4.0</td>\n      <td>1.218073e-17</td>\n      <td>2.0</td>\n      <td>103372.79</td>\n      <td>1</td>\n      <td>0</td>\n      <td>0</td>\n      <td>1</td>\n      <td>0</td>\n      <td>0</td>\n      <td>1</td>\n      <td>1</td>\n      <td>0</td>\n    </tr>\n    <tr>\n      <th>9272</th>\n      <td>739.0</td>\n      <td>42.0</td>\n      <td>2.0</td>\n      <td>1.416429e+05</td>\n      <td>2.0</td>\n      <td>172149.76</td>\n      <td>1</td>\n      <td>0</td>\n      <td>0</td>\n      <td>0</td>\n      <td>1</td>\n      <td>0</td>\n      <td>1</td>\n      <td>1</td>\n      <td>0</td>\n    </tr>\n    <tr>\n      <th>1916</th>\n      <td>543.0</td>\n      <td>48.0</td>\n      <td>1.0</td>\n      <td>1.009005e+05</td>\n      <td>1.0</td>\n      <td>33310.72</td>\n      <td>0</td>\n      <td>1</td>\n      <td>0</td>\n      <td>0</td>\n      <td>1</td>\n      <td>1</td>\n      <td>0</td>\n      <td>1</td>\n      <td>0</td>\n    </tr>\n    <tr>\n      <th>4409</th>\n      <td>756.0</td>\n      <td>41.0</td>\n      <td>6.0</td>\n      <td>1.490499e+05</td>\n      <td>1.0</td>\n      <td>50422.36</td>\n      <td>0</td>\n      <td>1</td>\n      <td>0</td>\n      <td>0</td>\n      <td>1</td>\n      <td>1</td>\n      <td>0</td>\n      <td>0</td>\n      <td>1</td>\n    </tr>\n  </tbody>\n</table>\n</div>"
     },
     "execution_count": 129,
     "metadata": {},
     "output_type": "execute_result"
    }
   ],
   "source": [
    "X_test = pd.get_dummies(data=X_test)\n",
    "X_test.sample(4)\n"
   ],
   "metadata": {
    "collapsed": false,
    "pycharm": {
     "name": "#%%\n"
    }
   }
  }
 ],
 "metadata": {
  "kernelspec": {
   "display_name": "Python 3",
   "language": "python",
   "name": "python3"
  },
  "language_info": {
   "codemirror_mode": {
    "name": "ipython",
    "version": 2
   },
   "file_extension": ".py",
   "mimetype": "text/x-python",
   "name": "python",
   "nbconvert_exporter": "python",
   "pygments_lexer": "ipython2",
   "version": "2.7.6"
  }
 },
 "nbformat": 4,
 "nbformat_minor": 0
}