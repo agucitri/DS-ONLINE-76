{
 "cells": [
  {
   "cell_type": "markdown",
   "source": [
    "## Entendimiento de los datos\n",
    "\n",
    "Vamos a trabajar con el conjunto de datos Churn-Modeling descargado de ***Kaggle***. Este conjunto de datos contiene detalles de los clientes de un banco y la variable objetivo es una variable binaria que refleja el hecho de si el cliente dejó el banco (cerró su cuenta) o si continúa siendo un cliente.\n",
    "\n",
    "Las características capturan información sociodemográfica del cliente, información de productos financieros, el comportamiento y balance de su cuenta. Las características son las siguientes:\n",
    "\n",
    "* **CustomerId**: Id único para identificar el cliente.\n",
    "* **Surname**: Apellido del cliente.\n",
    "* **CreditScore**: Puntaje de crédito del cliente.\n",
    "* **Geography**: País al que pertenece el cliente.\n",
    "* **Gender**: Genero.\n",
    "* **Age**: Edad.\n",
    "* **Tenure**: Número de años que el cliente ha estado en el banco.\n",
    "* **Balance**: Saldo bancario del cliente.\n",
    "* **NumOfProducts**: Número de productos bancarios que utiliza el cliente.\n",
    "* **HasCrCard**: Si el cliente tiene tarjeta de crédito con el banco.\n",
    "* **IsActiveMember**: Si el cliente es miembro activo del banco o no.\n",
    "* **EstimatedSalary**: Salario estimado en dólares.\n",
    "* **Exited**: 1-Si el cliente cerró la cuenta con el banco; 0-Si el cliente es retenido.\n",
    "\n",
    "\n",
    "### Carga de módulos"
   ],
   "metadata": {
    "collapsed": false,
    "pycharm": {
     "name": "#%% md\n"
    }
   }
  },
  {
   "cell_type": "code",
   "execution_count": 1,
   "outputs": [],
   "source": [
    "# !pip install missingno\n",
    "# Python library that provides the ability to understand the distribution of missing values through visualizations\n",
    "# (Heat maps / Bar charts)"
   ],
   "metadata": {
    "collapsed": false,
    "pycharm": {
     "name": "#%%\n"
    }
   }
  },
  {
   "cell_type": "code",
   "execution_count": 2,
   "metadata": {
    "collapsed": true
   },
   "outputs": [],
   "source": [
    "import warnings\n",
    "import pandas as pd\n",
    "from sklearn.impute import SimpleImputer\n",
    "from sklearn.preprocessing import StandardScaler\n",
    "from sklearn.model_selection import train_test_split\n",
    "\n",
    "warnings.filterwarnings(action=\"ignore\")"
   ]
  },
  {
   "cell_type": "code",
   "execution_count": 3,
   "outputs": [
    {
     "data": {
      "text/plain": "  CustomerId   Surname  CreditScore Geography  Gender  Age  Tenure    Balance  \\\n0   15634602  Hargrave          619    France  Female   42       2       0.00   \n1   15647311      Hill          608     Spain  Female   41       1   83807.86   \n2   15619304      Onio          502    France  Female   42       8  159660.80   \n3   15701354      Boni          699    France  Female   39       1       0.00   \n4   15737888  Mitchell          850     Spain  Female   43       2  125510.82   \n\n   NumOfProducts HasCrCard IsActiveMember  EstimatedSalary  Exited  \n0              1       Yes            Yes        101348.88       1  \n1              1        No            Yes        112542.58       0  \n2              3       Yes             No        113931.57       1  \n3              2        No             No         93826.63       0  \n4              1       Yes            Yes         79084.10       0  ",
      "text/html": "<div>\n<style scoped>\n    .dataframe tbody tr th:only-of-type {\n        vertical-align: middle;\n    }\n\n    .dataframe tbody tr th {\n        vertical-align: top;\n    }\n\n    .dataframe thead th {\n        text-align: right;\n    }\n</style>\n<table border=\"1\" class=\"dataframe\">\n  <thead>\n    <tr style=\"text-align: right;\">\n      <th></th>\n      <th>CustomerId</th>\n      <th>Surname</th>\n      <th>CreditScore</th>\n      <th>Geography</th>\n      <th>Gender</th>\n      <th>Age</th>\n      <th>Tenure</th>\n      <th>Balance</th>\n      <th>NumOfProducts</th>\n      <th>HasCrCard</th>\n      <th>IsActiveMember</th>\n      <th>EstimatedSalary</th>\n      <th>Exited</th>\n    </tr>\n  </thead>\n  <tbody>\n    <tr>\n      <th>0</th>\n      <td>15634602</td>\n      <td>Hargrave</td>\n      <td>619</td>\n      <td>France</td>\n      <td>Female</td>\n      <td>42</td>\n      <td>2</td>\n      <td>0.00</td>\n      <td>1</td>\n      <td>Yes</td>\n      <td>Yes</td>\n      <td>101348.88</td>\n      <td>1</td>\n    </tr>\n    <tr>\n      <th>1</th>\n      <td>15647311</td>\n      <td>Hill</td>\n      <td>608</td>\n      <td>Spain</td>\n      <td>Female</td>\n      <td>41</td>\n      <td>1</td>\n      <td>83807.86</td>\n      <td>1</td>\n      <td>No</td>\n      <td>Yes</td>\n      <td>112542.58</td>\n      <td>0</td>\n    </tr>\n    <tr>\n      <th>2</th>\n      <td>15619304</td>\n      <td>Onio</td>\n      <td>502</td>\n      <td>France</td>\n      <td>Female</td>\n      <td>42</td>\n      <td>8</td>\n      <td>159660.80</td>\n      <td>3</td>\n      <td>Yes</td>\n      <td>No</td>\n      <td>113931.57</td>\n      <td>1</td>\n    </tr>\n    <tr>\n      <th>3</th>\n      <td>15701354</td>\n      <td>Boni</td>\n      <td>699</td>\n      <td>France</td>\n      <td>Female</td>\n      <td>39</td>\n      <td>1</td>\n      <td>0.00</td>\n      <td>2</td>\n      <td>No</td>\n      <td>No</td>\n      <td>93826.63</td>\n      <td>0</td>\n    </tr>\n    <tr>\n      <th>4</th>\n      <td>15737888</td>\n      <td>Mitchell</td>\n      <td>850</td>\n      <td>Spain</td>\n      <td>Female</td>\n      <td>43</td>\n      <td>2</td>\n      <td>125510.82</td>\n      <td>1</td>\n      <td>Yes</td>\n      <td>Yes</td>\n      <td>79084.10</td>\n      <td>0</td>\n    </tr>\n  </tbody>\n</table>\n</div>"
     },
     "execution_count": 3,
     "metadata": {},
     "output_type": "execute_result"
    }
   ],
   "source": [
    "churn = pd.read_csv(\"https://raw.githubusercontent.com/stivenlopezg/DS-ONLINE-76/master/data/churn-modeling.csv\",dtype={\"CustomerId\": \"category\"})\n",
    "churn.head()"
   ],
   "metadata": {
    "collapsed": false,
    "pycharm": {
     "name": "#%%\n"
    }
   }
  },
  {
   "cell_type": "code",
   "execution_count": 4,
   "outputs": [
    {
     "name": "stdout",
     "output_type": "stream",
     "text": [
      "<class 'pandas.core.frame.DataFrame'>\n",
      "RangeIndex: 10000 entries, 0 to 9999\n",
      "Data columns (total 13 columns):\n",
      " #   Column           Non-Null Count  Dtype   \n",
      "---  ------           --------------  -----   \n",
      " 0   CustomerId       10000 non-null  category\n",
      " 1   Surname          10000 non-null  object  \n",
      " 2   CreditScore      10000 non-null  int64   \n",
      " 3   Geography        9980 non-null   object  \n",
      " 4   Gender           10000 non-null  object  \n",
      " 5   Age              10000 non-null  int64   \n",
      " 6   Tenure           10000 non-null  int64   \n",
      " 7   Balance          10000 non-null  float64 \n",
      " 8   NumOfProducts    10000 non-null  int64   \n",
      " 9   HasCrCard        10000 non-null  object  \n",
      " 10  IsActiveMember   10000 non-null  object  \n",
      " 11  EstimatedSalary  9988 non-null   float64 \n",
      " 12  Exited           10000 non-null  int64   \n",
      "dtypes: category(1), float64(2), int64(5), object(5)\n",
      "memory usage: 1.3+ MB\n"
     ]
    }
   ],
   "source": [
    "churn.info()"
   ],
   "metadata": {
    "collapsed": false,
    "pycharm": {
     "name": "#%%\n"
    }
   }
  },
  {
   "cell_type": "code",
   "execution_count": 5,
   "outputs": [
    {
     "data": {
      "text/plain": "        CreditScore           Age        Tenure        Balance  NumOfProducts  \\\ncount  10000.000000  10000.000000  10000.000000   10000.000000   10000.000000   \nmean     650.528800     38.921800      5.012800   76485.889288       1.530200   \nstd       96.653299     10.487806      2.892174   62397.405202       0.581654   \nmin      350.000000     18.000000      0.000000       0.000000       1.000000   \n25%      584.000000     32.000000      3.000000       0.000000       1.000000   \n50%      652.000000     37.000000      5.000000   97198.540000       1.000000   \n75%      718.000000     44.000000      7.000000  127644.240000       2.000000   \nmax      850.000000     92.000000     10.000000  250898.090000       4.000000   \n\n       EstimatedSalary        Exited  \ncount      9988.000000  10000.000000  \nmean     100066.908601      0.203700  \nstd       57519.993379      0.402769  \nmin          11.580000      0.000000  \n25%       50910.677500      0.000000  \n50%      100185.240000      0.000000  \n75%      149388.247500      0.000000  \nmax      199992.480000      1.000000  ",
      "text/html": "<div>\n<style scoped>\n    .dataframe tbody tr th:only-of-type {\n        vertical-align: middle;\n    }\n\n    .dataframe tbody tr th {\n        vertical-align: top;\n    }\n\n    .dataframe thead th {\n        text-align: right;\n    }\n</style>\n<table border=\"1\" class=\"dataframe\">\n  <thead>\n    <tr style=\"text-align: right;\">\n      <th></th>\n      <th>CreditScore</th>\n      <th>Age</th>\n      <th>Tenure</th>\n      <th>Balance</th>\n      <th>NumOfProducts</th>\n      <th>EstimatedSalary</th>\n      <th>Exited</th>\n    </tr>\n  </thead>\n  <tbody>\n    <tr>\n      <th>count</th>\n      <td>10000.000000</td>\n      <td>10000.000000</td>\n      <td>10000.000000</td>\n      <td>10000.000000</td>\n      <td>10000.000000</td>\n      <td>9988.000000</td>\n      <td>10000.000000</td>\n    </tr>\n    <tr>\n      <th>mean</th>\n      <td>650.528800</td>\n      <td>38.921800</td>\n      <td>5.012800</td>\n      <td>76485.889288</td>\n      <td>1.530200</td>\n      <td>100066.908601</td>\n      <td>0.203700</td>\n    </tr>\n    <tr>\n      <th>std</th>\n      <td>96.653299</td>\n      <td>10.487806</td>\n      <td>2.892174</td>\n      <td>62397.405202</td>\n      <td>0.581654</td>\n      <td>57519.993379</td>\n      <td>0.402769</td>\n    </tr>\n    <tr>\n      <th>min</th>\n      <td>350.000000</td>\n      <td>18.000000</td>\n      <td>0.000000</td>\n      <td>0.000000</td>\n      <td>1.000000</td>\n      <td>11.580000</td>\n      <td>0.000000</td>\n    </tr>\n    <tr>\n      <th>25%</th>\n      <td>584.000000</td>\n      <td>32.000000</td>\n      <td>3.000000</td>\n      <td>0.000000</td>\n      <td>1.000000</td>\n      <td>50910.677500</td>\n      <td>0.000000</td>\n    </tr>\n    <tr>\n      <th>50%</th>\n      <td>652.000000</td>\n      <td>37.000000</td>\n      <td>5.000000</td>\n      <td>97198.540000</td>\n      <td>1.000000</td>\n      <td>100185.240000</td>\n      <td>0.000000</td>\n    </tr>\n    <tr>\n      <th>75%</th>\n      <td>718.000000</td>\n      <td>44.000000</td>\n      <td>7.000000</td>\n      <td>127644.240000</td>\n      <td>2.000000</td>\n      <td>149388.247500</td>\n      <td>0.000000</td>\n    </tr>\n    <tr>\n      <th>max</th>\n      <td>850.000000</td>\n      <td>92.000000</td>\n      <td>10.000000</td>\n      <td>250898.090000</td>\n      <td>4.000000</td>\n      <td>199992.480000</td>\n      <td>1.000000</td>\n    </tr>\n  </tbody>\n</table>\n</div>"
     },
     "execution_count": 5,
     "metadata": {},
     "output_type": "execute_result"
    }
   ],
   "source": [
    "# Estadística descriptiva\n",
    "\n",
    "churn.describe()"
   ],
   "metadata": {
    "collapsed": false,
    "pycharm": {
     "name": "#%%\n"
    }
   }
  },
  {
   "cell_type": "code",
   "execution_count": 6,
   "outputs": [
    {
     "data": {
      "text/plain": "       CustomerId Surname Geography Gender HasCrCard IsActiveMember\ncount       10000   10000      9980  10000     10000          10000\nunique      10000    2932         3      2         2              2\ntop      15565701   Smith    France   Male       Yes            Yes\nfreq            1      32      5008   5457      7055           5151",
      "text/html": "<div>\n<style scoped>\n    .dataframe tbody tr th:only-of-type {\n        vertical-align: middle;\n    }\n\n    .dataframe tbody tr th {\n        vertical-align: top;\n    }\n\n    .dataframe thead th {\n        text-align: right;\n    }\n</style>\n<table border=\"1\" class=\"dataframe\">\n  <thead>\n    <tr style=\"text-align: right;\">\n      <th></th>\n      <th>CustomerId</th>\n      <th>Surname</th>\n      <th>Geography</th>\n      <th>Gender</th>\n      <th>HasCrCard</th>\n      <th>IsActiveMember</th>\n    </tr>\n  </thead>\n  <tbody>\n    <tr>\n      <th>count</th>\n      <td>10000</td>\n      <td>10000</td>\n      <td>9980</td>\n      <td>10000</td>\n      <td>10000</td>\n      <td>10000</td>\n    </tr>\n    <tr>\n      <th>unique</th>\n      <td>10000</td>\n      <td>2932</td>\n      <td>3</td>\n      <td>2</td>\n      <td>2</td>\n      <td>2</td>\n    </tr>\n    <tr>\n      <th>top</th>\n      <td>15565701</td>\n      <td>Smith</td>\n      <td>France</td>\n      <td>Male</td>\n      <td>Yes</td>\n      <td>Yes</td>\n    </tr>\n    <tr>\n      <th>freq</th>\n      <td>1</td>\n      <td>32</td>\n      <td>5008</td>\n      <td>5457</td>\n      <td>7055</td>\n      <td>5151</td>\n    </tr>\n  </tbody>\n</table>\n</div>"
     },
     "execution_count": 6,
     "metadata": {},
     "output_type": "execute_result"
    }
   ],
   "source": [
    "churn.describe(exclude=\"number\")"
   ],
   "metadata": {
    "collapsed": false,
    "pycharm": {
     "name": "#%%\n"
    }
   }
  },
  {
   "cell_type": "markdown",
   "source": [
    "#Datos missing\n",
    "Vamos a mirar si hay datos missing en nuestro set de datos"
   ],
   "metadata": {
    "collapsed": false,
    "pycharm": {
     "name": "#%% md\n"
    }
   }
  },
  {
   "cell_type": "code",
   "execution_count": 7,
   "outputs": [
    {
     "data": {
      "text/plain": "CustomerId          0\nSurname             0\nCreditScore         0\nGeography          20\nGender              0\nAge                 0\nTenure              0\nBalance             0\nNumOfProducts       0\nHasCrCard           0\nIsActiveMember      0\nEstimatedSalary    12\nExited              0\ndtype: int64"
     },
     "execution_count": 7,
     "metadata": {},
     "output_type": "execute_result"
    }
   ],
   "source": [
    "# Conteo\n",
    "churn.isna().sum()"
   ],
   "metadata": {
    "collapsed": false,
    "pycharm": {
     "name": "#%%\n"
    }
   }
  },
  {
   "cell_type": "code",
   "execution_count": 8,
   "outputs": [
    {
     "data": {
      "text/plain": "CustomerId         0.00\nSurname            0.00\nCreditScore        0.00\nGeography          0.20\nGender             0.00\nAge                0.00\nTenure             0.00\nBalance            0.00\nNumOfProducts      0.00\nHasCrCard          0.00\nIsActiveMember     0.00\nEstimatedSalary    0.12\nExited             0.00\ndtype: float64"
     },
     "execution_count": 8,
     "metadata": {},
     "output_type": "execute_result"
    }
   ],
   "source": [
    "# Lo mismo, en porcentaje\n",
    "churn.isna().mean() * 100"
   ],
   "metadata": {
    "collapsed": false,
    "pycharm": {
     "name": "#%%\n"
    }
   }
  },
  {
   "cell_type": "markdown",
   "source": [
    "### Preprocesamiento\n",
    "\n",
    "* Variables numéricas:\n",
    "    * Atípicos\n",
    "    * Imputar\n",
    "    * Escalar\n",
    "    * Discretizar (Opcional)\n",
    "\n",
    "* Variables categóricas:\n",
    "    * Imputar\n",
    "    * Codificar (OHE, LabelEncoder, u OrdinalEncoder)"
   ],
   "metadata": {
    "collapsed": false,
    "pycharm": {
     "name": "#%% md\n"
    }
   }
  },
  {
   "cell_type": "code",
   "execution_count": 9,
   "outputs": [
    {
     "data": {
      "text/plain": "    CreditScore Geography  Gender  Age  Tenure    Balance  NumOfProducts  \\\n73          604   Germany  Female   25       5  157780.84              2   \n\n   HasCrCard IsActiveMember  EstimatedSalary  Exited  \n73       Yes            Yes         58426.81       0  ",
      "text/html": "<div>\n<style scoped>\n    .dataframe tbody tr th:only-of-type {\n        vertical-align: middle;\n    }\n\n    .dataframe tbody tr th {\n        vertical-align: top;\n    }\n\n    .dataframe thead th {\n        text-align: right;\n    }\n</style>\n<table border=\"1\" class=\"dataframe\">\n  <thead>\n    <tr style=\"text-align: right;\">\n      <th></th>\n      <th>CreditScore</th>\n      <th>Geography</th>\n      <th>Gender</th>\n      <th>Age</th>\n      <th>Tenure</th>\n      <th>Balance</th>\n      <th>NumOfProducts</th>\n      <th>HasCrCard</th>\n      <th>IsActiveMember</th>\n      <th>EstimatedSalary</th>\n      <th>Exited</th>\n    </tr>\n  </thead>\n  <tbody>\n    <tr>\n      <th>73</th>\n      <td>604</td>\n      <td>Germany</td>\n      <td>Female</td>\n      <td>25</td>\n      <td>5</td>\n      <td>157780.84</td>\n      <td>2</td>\n      <td>Yes</td>\n      <td>Yes</td>\n      <td>58426.81</td>\n      <td>0</td>\n    </tr>\n  </tbody>\n</table>\n</div>"
     },
     "execution_count": 9,
     "metadata": {},
     "output_type": "execute_result"
    }
   ],
   "source": [
    "#Decidimos que estas columnas confunden al modelo o no tienen correlacion con la var que queremos predecir\n",
    "cols_to_drop = [\"CustomerId\", \"Surname\"]\n",
    "\n",
    "# axis = 0 se refiere a rows, axis=1 a columns\n",
    "# Para major claridad, se puede usar axis='index' para rows y axis='columns'\n",
    "\n",
    "churn.drop(labels=cols_to_drop, axis='columns', inplace=True)\n",
    "\n",
    "churn.sample(n=1)"
   ],
   "metadata": {
    "collapsed": false,
    "pycharm": {
     "name": "#%%\n"
    }
   }
  },
  {
   "cell_type": "code",
   "execution_count": 10,
   "outputs": [
    {
     "data": {
      "text/plain": "['CreditScore', 'Age', 'Tenure', 'Balance', 'NumOfProducts', 'EstimatedSalary']"
     },
     "execution_count": 10,
     "metadata": {},
     "output_type": "execute_result"
    }
   ],
   "source": [
    "#Lista de features de tipo numérico\n",
    "numerical_features = churn.select_dtypes(include=\"number\").columns.tolist()\n",
    "\n",
    "# Removemos la variable target, que queremos predecir\n",
    "numerical_features.remove(\"Exited\")\n",
    "numerical_features"
   ],
   "metadata": {
    "collapsed": false,
    "pycharm": {
     "name": "#%%\n"
    }
   }
  },
  {
   "cell_type": "code",
   "execution_count": 11,
   "outputs": [
    {
     "data": {
      "text/plain": "['Geography', 'Gender', 'HasCrCard', 'IsActiveMember']"
     },
     "execution_count": 11,
     "metadata": {},
     "output_type": "execute_result"
    }
   ],
   "source": [
    "#Lista de features catégoricos, a partir de excluír los que no son number\n",
    "categorical_features = churn.select_dtypes(exclude=\"number\").columns.tolist()\n",
    "categorical_features"
   ],
   "metadata": {
    "collapsed": false,
    "pycharm": {
     "name": "#%%\n"
    }
   }
  },
  {
   "cell_type": "code",
   "execution_count": 12,
   "outputs": [],
   "source": [
    "#Pop: method to delete any element from the dataframe\n",
    "exited = churn.pop(\"Exited\")\n",
    "\n",
    "# train_data, test_data, train_label, test_label\n",
    "\n",
    "#test_size refers to the data percentage used for testing. If 0.3, 0.7 is the one used for training.\n",
    "X_train, X_test, y_train, y_test = train_test_split(churn, exited,\n",
    "                                                    test_size=0.3, random_state=42)"
   ],
   "metadata": {
    "collapsed": false,
    "pycharm": {
     "name": "#%%\n"
    }
   }
  },
  {
   "cell_type": "code",
   "execution_count": 13,
   "outputs": [
    {
     "data": {
      "text/plain": "CreditScore         0\nGeography           0\nGender              0\nAge                 0\nTenure              0\nBalance             0\nNumOfProducts       0\nHasCrCard           0\nIsActiveMember      0\nEstimatedSalary    10\ndtype: int64"
     },
     "execution_count": 13,
     "metadata": {},
     "output_type": "execute_result"
    }
   ],
   "source": [
    "X_train.isna().sum()"
   ],
   "metadata": {
    "collapsed": false,
    "pycharm": {
     "name": "#%%\n"
    }
   }
  },
  {
   "cell_type": "markdown",
   "source": [
    "#### Preprocesamiento sobre los features numéricos"
   ],
   "metadata": {
    "collapsed": false,
    "pycharm": {
     "name": "#%% md\n"
    }
   }
  },
  {
   "cell_type": "code",
   "execution_count": 14,
   "outputs": [
    {
     "name": "stdout",
     "output_type": "stream",
     "text": [
      "La mediana para CreditScore es: 653.0\n",
      "La mediana para Age es: 37.0\n",
      "La mediana para Tenure es: 5.0\n",
      "La mediana para Balance es: 96483.19\n",
      "La mediana para NumOfProducts es: 1.0\n",
      "La mediana para EstimatedSalary es: 100853.09\n"
     ]
    }
   ],
   "source": [
    "#Imputacion - Rellenar los datos faltantes - estrategias:\n",
    " # mean: replace missing values using the mean along each column\n",
    " # median: replace missing values using the median along each column\n",
    " # most_frequent: replace missing using the most frequent value along each column.\n",
    "    # Can be used with strings or numeric data. If there is more than one such value, only the smallest is returned.\n",
    " # constant: replace missing values with fill_value.\n",
    "\n",
    "# selecciona de X_train solo aquellas columnas que están contenidas en la lista \"numerical_features list\n",
    "imputer_num = SimpleImputer(strategy=\"median\").fit(X_train[numerical_features])\n",
    "\n",
    "#Valor de la mediana con la que imputó cada feature.\n",
    "for feature, median in zip(numerical_features, imputer_num.statistics_):\n",
    "    print(f\"La mediana para {feature} es: {round(median, 2)}\")"
   ],
   "metadata": {
    "collapsed": false,
    "pycharm": {
     "name": "#%%\n"
    }
   }
  },
  {
   "cell_type": "code",
   "execution_count": 15,
   "outputs": [
    {
     "data": {
      "text/plain": "CreditScore        0\nGeography          0\nGender             0\nAge                0\nTenure             0\nBalance            0\nNumOfProducts      0\nHasCrCard          0\nIsActiveMember     0\nEstimatedSalary    0\ndtype: int64"
     },
     "execution_count": 15,
     "metadata": {},
     "output_type": "execute_result"
    }
   ],
   "source": [
    "# Transform: aplica sobre las columnas numericas los valores resultado de la\n",
    "# imputación anterior - en este caso la media - sobre los valores faltantes\n",
    "X_train.loc[:, numerical_features] = imputer_num.transform(X_train[numerical_features])\n",
    "\n",
    "#Vemos que EstimatedSalary ya no tiene nulos. Resta trabajar sobre Geography, que es un valor categórico\n",
    "X_train.isna().sum()"
   ],
   "metadata": {
    "collapsed": false,
    "pycharm": {
     "name": "#%%\n"
    }
   }
  },
  {
   "cell_type": "code",
   "execution_count": 16,
   "outputs": [],
   "source": [
    "# Escalar: util cuando sigue una distribución normal.\n",
    "# StandardScaler estandariza un feature al restarle el promedio y luego dividir\n",
    "# por la desviacion estandar, obteniendo \"unidades\" de desviacion estandar.\n",
    "# Así, el promedio de la distribucion es 0 y alrededor del 68% de los valores\n",
    "# estarán entre -1 and 1.\n",
    "\n",
    "scaler = StandardScaler().fit(X_train[numerical_features])\n",
    "\n",
    "X_train.loc[:, numerical_features] = scaler.transform(X_train[numerical_features])"
   ],
   "metadata": {
    "collapsed": false,
    "pycharm": {
     "name": "#%%\n"
    }
   }
  },
  {
   "cell_type": "code",
   "execution_count": 17,
   "outputs": [
    {
     "data": {
      "text/plain": "      CreditScore Geography  Gender       Age    Tenure   Balance  \\\n9069    -0.344595     Spain  Female -0.656750 -0.342170  1.583725   \n2603    -0.095181   Germany  Female -0.466380  0.698162  1.344106   \n7738    -0.947345    France    Male -0.561565  0.351385 -1.222055   \n1579    -0.354987   Germany    Male  0.199916  1.044940 -0.618965   \n5058     0.642668    France    Male -0.180824  1.391718  1.152808   \n\n      NumOfProducts HasCrCard IsActiveMember  EstimatedSalary  \n9069       0.819663       Yes            Yes         1.248986  \n2603      -0.903352        No            Yes         1.522114  \n7738       0.819663        No             No         1.264394  \n1579      -0.903352       Yes            Yes         1.647781  \n5058       0.819663        No            Yes         0.875726  ",
      "text/html": "<div>\n<style scoped>\n    .dataframe tbody tr th:only-of-type {\n        vertical-align: middle;\n    }\n\n    .dataframe tbody tr th {\n        vertical-align: top;\n    }\n\n    .dataframe thead th {\n        text-align: right;\n    }\n</style>\n<table border=\"1\" class=\"dataframe\">\n  <thead>\n    <tr style=\"text-align: right;\">\n      <th></th>\n      <th>CreditScore</th>\n      <th>Geography</th>\n      <th>Gender</th>\n      <th>Age</th>\n      <th>Tenure</th>\n      <th>Balance</th>\n      <th>NumOfProducts</th>\n      <th>HasCrCard</th>\n      <th>IsActiveMember</th>\n      <th>EstimatedSalary</th>\n    </tr>\n  </thead>\n  <tbody>\n    <tr>\n      <th>9069</th>\n      <td>-0.344595</td>\n      <td>Spain</td>\n      <td>Female</td>\n      <td>-0.656750</td>\n      <td>-0.342170</td>\n      <td>1.583725</td>\n      <td>0.819663</td>\n      <td>Yes</td>\n      <td>Yes</td>\n      <td>1.248986</td>\n    </tr>\n    <tr>\n      <th>2603</th>\n      <td>-0.095181</td>\n      <td>Germany</td>\n      <td>Female</td>\n      <td>-0.466380</td>\n      <td>0.698162</td>\n      <td>1.344106</td>\n      <td>-0.903352</td>\n      <td>No</td>\n      <td>Yes</td>\n      <td>1.522114</td>\n    </tr>\n    <tr>\n      <th>7738</th>\n      <td>-0.947345</td>\n      <td>France</td>\n      <td>Male</td>\n      <td>-0.561565</td>\n      <td>0.351385</td>\n      <td>-1.222055</td>\n      <td>0.819663</td>\n      <td>No</td>\n      <td>No</td>\n      <td>1.264394</td>\n    </tr>\n    <tr>\n      <th>1579</th>\n      <td>-0.354987</td>\n      <td>Germany</td>\n      <td>Male</td>\n      <td>0.199916</td>\n      <td>1.044940</td>\n      <td>-0.618965</td>\n      <td>-0.903352</td>\n      <td>Yes</td>\n      <td>Yes</td>\n      <td>1.647781</td>\n    </tr>\n    <tr>\n      <th>5058</th>\n      <td>0.642668</td>\n      <td>France</td>\n      <td>Male</td>\n      <td>-0.180824</td>\n      <td>1.391718</td>\n      <td>1.152808</td>\n      <td>0.819663</td>\n      <td>No</td>\n      <td>Yes</td>\n      <td>0.875726</td>\n    </tr>\n  </tbody>\n</table>\n</div>"
     },
     "execution_count": 17,
     "metadata": {},
     "output_type": "execute_result"
    }
   ],
   "source": [
    "# Podemos ver que se aplicó a todas las columnas numericas y que ya los valores\n",
    "# ya no tienen la misma interpretacion que al momento de importar el dataset\n",
    "X_train.head()"
   ],
   "metadata": {
    "collapsed": false,
    "pycharm": {
     "name": "#%%\n"
    }
   }
  },
  {
   "cell_type": "markdown",
   "source": [
    "#### Preprocesamiento Variables categóricas"
   ],
   "metadata": {
    "collapsed": false,
    "pycharm": {
     "name": "#%% md\n"
    }
   }
  },
  {
   "cell_type": "code",
   "execution_count": 18,
   "outputs": [
    {
     "name": "stdout",
     "output_type": "stream",
     "text": [
      "Para la variable Geography, el valor mas frecuente es: France\n",
      "Para la variable Gender, el valor mas frecuente es: Male\n",
      "Para la variable HasCrCard, el valor mas frecuente es: Yes\n",
      "Para la variable IsActiveMember, el valor mas frecuente es: Yes\n"
     ]
    },
    {
     "data": {
      "text/plain": "CreditScore        0\nGeography          0\nGender             0\nAge                0\nTenure             0\nBalance            0\nNumOfProducts      0\nHasCrCard          0\nIsActiveMember     0\nEstimatedSalary    0\ndtype: int64"
     },
     "execution_count": 18,
     "metadata": {},
     "output_type": "execute_result"
    }
   ],
   "source": [
    "# Imputacion\n",
    "\n",
    "# Sobre datos categóricos, la estrategia puede ser la \"más frecuente\" o el uso de una \"constante\"\n",
    "\n",
    "imputer_cat = SimpleImputer(strategy=\"most_frequent\").fit(X_train[categorical_features])\n",
    "\n",
    "# Para cada variable categórica, arma un array con el valor más frecuente\n",
    "for feature, most_freq in zip(categorical_features, imputer_cat.statistics_):\n",
    "    print(f\"Para la variable {feature}, el valor mas frecuente es: {most_freq}\")\n",
    "\n",
    "X_train.loc[:, categorical_features] = imputer_cat.transform(X_train[categorical_features])\n",
    "\n",
    "#Geography pasó a tener cero valores faltantes. Segun vimos antes, el top value era Francia\n",
    "X_train.isna().sum()"
   ],
   "metadata": {
    "collapsed": false,
    "pycharm": {
     "name": "#%%\n"
    }
   }
  },
  {
   "cell_type": "code",
   "execution_count": 19,
   "outputs": [
    {
     "data": {
      "text/plain": "      CreditScore       Age    Tenure   Balance  NumOfProducts  \\\n9069    -0.344595 -0.656750 -0.342170  1.583725       0.819663   \n2603    -0.095181 -0.466380  0.698162  1.344106      -0.903352   \n7738    -0.947345 -0.561565  0.351385 -1.222055       0.819663   \n1579    -0.354987  0.199916  1.044940 -0.618965      -0.903352   \n5058     0.642668 -0.180824  1.391718  1.152808       0.819663   \n\n      EstimatedSalary  Geography_France  Geography_Germany  Geography_Spain  \\\n9069         1.248986                 0                  0                1   \n2603         1.522114                 0                  1                0   \n7738         1.264394                 1                  0                0   \n1579         1.647781                 0                  1                0   \n5058         0.875726                 1                  0                0   \n\n      Gender_Female  Gender_Male  HasCrCard_No  HasCrCard_Yes  \\\n9069              1            0             0              1   \n2603              1            0             1              0   \n7738              0            1             1              0   \n1579              0            1             0              1   \n5058              0            1             1              0   \n\n      IsActiveMember_No  IsActiveMember_Yes  \n9069                  0                   1  \n2603                  0                   1  \n7738                  1                   0  \n1579                  0                   1  \n5058                  0                   1  ",
      "text/html": "<div>\n<style scoped>\n    .dataframe tbody tr th:only-of-type {\n        vertical-align: middle;\n    }\n\n    .dataframe tbody tr th {\n        vertical-align: top;\n    }\n\n    .dataframe thead th {\n        text-align: right;\n    }\n</style>\n<table border=\"1\" class=\"dataframe\">\n  <thead>\n    <tr style=\"text-align: right;\">\n      <th></th>\n      <th>CreditScore</th>\n      <th>Age</th>\n      <th>Tenure</th>\n      <th>Balance</th>\n      <th>NumOfProducts</th>\n      <th>EstimatedSalary</th>\n      <th>Geography_France</th>\n      <th>Geography_Germany</th>\n      <th>Geography_Spain</th>\n      <th>Gender_Female</th>\n      <th>Gender_Male</th>\n      <th>HasCrCard_No</th>\n      <th>HasCrCard_Yes</th>\n      <th>IsActiveMember_No</th>\n      <th>IsActiveMember_Yes</th>\n    </tr>\n  </thead>\n  <tbody>\n    <tr>\n      <th>9069</th>\n      <td>-0.344595</td>\n      <td>-0.656750</td>\n      <td>-0.342170</td>\n      <td>1.583725</td>\n      <td>0.819663</td>\n      <td>1.248986</td>\n      <td>0</td>\n      <td>0</td>\n      <td>1</td>\n      <td>1</td>\n      <td>0</td>\n      <td>0</td>\n      <td>1</td>\n      <td>0</td>\n      <td>1</td>\n    </tr>\n    <tr>\n      <th>2603</th>\n      <td>-0.095181</td>\n      <td>-0.466380</td>\n      <td>0.698162</td>\n      <td>1.344106</td>\n      <td>-0.903352</td>\n      <td>1.522114</td>\n      <td>0</td>\n      <td>1</td>\n      <td>0</td>\n      <td>1</td>\n      <td>0</td>\n      <td>1</td>\n      <td>0</td>\n      <td>0</td>\n      <td>1</td>\n    </tr>\n    <tr>\n      <th>7738</th>\n      <td>-0.947345</td>\n      <td>-0.561565</td>\n      <td>0.351385</td>\n      <td>-1.222055</td>\n      <td>0.819663</td>\n      <td>1.264394</td>\n      <td>1</td>\n      <td>0</td>\n      <td>0</td>\n      <td>0</td>\n      <td>1</td>\n      <td>1</td>\n      <td>0</td>\n      <td>1</td>\n      <td>0</td>\n    </tr>\n    <tr>\n      <th>1579</th>\n      <td>-0.354987</td>\n      <td>0.199916</td>\n      <td>1.044940</td>\n      <td>-0.618965</td>\n      <td>-0.903352</td>\n      <td>1.647781</td>\n      <td>0</td>\n      <td>1</td>\n      <td>0</td>\n      <td>0</td>\n      <td>1</td>\n      <td>0</td>\n      <td>1</td>\n      <td>0</td>\n      <td>1</td>\n    </tr>\n    <tr>\n      <th>5058</th>\n      <td>0.642668</td>\n      <td>-0.180824</td>\n      <td>1.391718</td>\n      <td>1.152808</td>\n      <td>0.819663</td>\n      <td>0.875726</td>\n      <td>1</td>\n      <td>0</td>\n      <td>0</td>\n      <td>0</td>\n      <td>1</td>\n      <td>1</td>\n      <td>0</td>\n      <td>0</td>\n      <td>1</td>\n    </tr>\n  </tbody>\n</table>\n</div>"
     },
     "execution_count": 19,
     "metadata": {},
     "output_type": "execute_result"
    }
   ],
   "source": [
    "# One Hot Encoder\n",
    "#Para variables nominales sin jerarquía, crea una columna por cada uno de los valores encontrado\n",
    "#asignando una variable dummy - que puede tomar dos posibles valores: 1 o 0 - para indicar\n",
    "#la presencia o ausencia de esa categoria en esa observación\n",
    "\n",
    "## no le está gustando la lista categorical_features como param de columns,\n",
    "#me tira error: raise TypeError(\"Input must be a list-like for parameter `columns`\")\n",
    "#X_train = pd.get_dummies(data=X_train, columns=categorical_features)\n",
    "\n",
    "#Se lo saqué. La doc dice que por default, toda columna de dtype object o categorical se lo aplica\n",
    "#si el parámetro no se especifica.\n",
    "X_train = pd.get_dummies(data=X_train)\n",
    "X_train.head()"
   ],
   "metadata": {
    "collapsed": false,
    "pycharm": {
     "name": "#%%\n"
    }
   }
  },
  {
   "cell_type": "markdown",
   "source": [
    "### Set de Test\n",
    "#### Preprocesamiento Variables Numéricas"
   ],
   "metadata": {
    "collapsed": false,
    "pycharm": {
     "name": "#%% md\n"
    }
   }
  },
  {
   "cell_type": "code",
   "execution_count": 20,
   "outputs": [
    {
     "data": {
      "text/plain": "CreditScore         0\nGeography          20\nGender              0\nAge                 0\nTenure              0\nBalance             0\nNumOfProducts       0\nHasCrCard           0\nIsActiveMember      0\nEstimatedSalary     2\ndtype: int64"
     },
     "execution_count": 20,
     "metadata": {},
     "output_type": "execute_result"
    }
   ],
   "source": [
    "#Conteo de nulos por columna\n",
    "X_test.isna().sum()"
   ],
   "metadata": {
    "collapsed": false,
    "pycharm": {
     "name": "#%%\n"
    }
   }
  },
  {
   "cell_type": "markdown",
   "source": [
    "##### Imputación"
   ],
   "metadata": {
    "collapsed": false
   }
  },
  {
   "cell_type": "code",
   "execution_count": 21,
   "outputs": [
    {
     "data": {
      "text/plain": "CreditScore         0\nGeography          20\nGender              0\nAge                 0\nTenure              0\nBalance             0\nNumOfProducts       0\nHasCrCard           0\nIsActiveMember      0\nEstimatedSalary     0\ndtype: int64"
     },
     "execution_count": 21,
     "metadata": {},
     "output_type": "execute_result"
    }
   ],
   "source": [
    "# imputer_num: Definida durante el training, array con la imputación a aplicar sobre numericos\n",
    "X_test.loc[:, numerical_features] = imputer_num.transform(X_test[numerical_features])\n",
    "\n",
    "#Columnas originalmente con valores faltantes, ya no tienen más\n",
    "X_test.isna().sum()"
   ],
   "metadata": {
    "collapsed": false,
    "pycharm": {
     "name": "#%%\n"
    }
   }
  },
  {
   "cell_type": "markdown",
   "source": [
    "##### Escalado sobre el set de Test"
   ],
   "metadata": {
    "collapsed": false
   }
  },
  {
   "cell_type": "code",
   "execution_count": 22,
   "outputs": [
    {
     "data": {
      "text/plain": "      CreditScore Geography  Gender       Age    Tenure   Balance  \\\n6252    -0.583617       NaN    Male -0.656750 -0.688948  0.324894   \n4684    -0.303026       NaN    Male  0.390286 -1.382503 -1.222055   \n1731    -0.531655       NaN  Female  0.485471 -0.342170 -1.222055   \n4742    -1.518919       NaN    Male  1.913248  1.044940  0.683891   \n4521    -0.957737       NaN  Female -1.132675  0.698162  0.777369   \n\n      NumOfProducts HasCrCard IsActiveMember  EstimatedSalary  \n6252       0.819663        No             No        -1.024156  \n4684       0.819663       Yes            Yes         0.790674  \n1731       0.819663       Yes             No        -0.733117  \n4742       0.819663       Yes            Yes         1.212328  \n4521      -0.903352       Yes            Yes         0.240460  ",
      "text/html": "<div>\n<style scoped>\n    .dataframe tbody tr th:only-of-type {\n        vertical-align: middle;\n    }\n\n    .dataframe tbody tr th {\n        vertical-align: top;\n    }\n\n    .dataframe thead th {\n        text-align: right;\n    }\n</style>\n<table border=\"1\" class=\"dataframe\">\n  <thead>\n    <tr style=\"text-align: right;\">\n      <th></th>\n      <th>CreditScore</th>\n      <th>Geography</th>\n      <th>Gender</th>\n      <th>Age</th>\n      <th>Tenure</th>\n      <th>Balance</th>\n      <th>NumOfProducts</th>\n      <th>HasCrCard</th>\n      <th>IsActiveMember</th>\n      <th>EstimatedSalary</th>\n    </tr>\n  </thead>\n  <tbody>\n    <tr>\n      <th>6252</th>\n      <td>-0.583617</td>\n      <td>NaN</td>\n      <td>Male</td>\n      <td>-0.656750</td>\n      <td>-0.688948</td>\n      <td>0.324894</td>\n      <td>0.819663</td>\n      <td>No</td>\n      <td>No</td>\n      <td>-1.024156</td>\n    </tr>\n    <tr>\n      <th>4684</th>\n      <td>-0.303026</td>\n      <td>NaN</td>\n      <td>Male</td>\n      <td>0.390286</td>\n      <td>-1.382503</td>\n      <td>-1.222055</td>\n      <td>0.819663</td>\n      <td>Yes</td>\n      <td>Yes</td>\n      <td>0.790674</td>\n    </tr>\n    <tr>\n      <th>1731</th>\n      <td>-0.531655</td>\n      <td>NaN</td>\n      <td>Female</td>\n      <td>0.485471</td>\n      <td>-0.342170</td>\n      <td>-1.222055</td>\n      <td>0.819663</td>\n      <td>Yes</td>\n      <td>No</td>\n      <td>-0.733117</td>\n    </tr>\n    <tr>\n      <th>4742</th>\n      <td>-1.518919</td>\n      <td>NaN</td>\n      <td>Male</td>\n      <td>1.913248</td>\n      <td>1.044940</td>\n      <td>0.683891</td>\n      <td>0.819663</td>\n      <td>Yes</td>\n      <td>Yes</td>\n      <td>1.212328</td>\n    </tr>\n    <tr>\n      <th>4521</th>\n      <td>-0.957737</td>\n      <td>NaN</td>\n      <td>Female</td>\n      <td>-1.132675</td>\n      <td>0.698162</td>\n      <td>0.777369</td>\n      <td>-0.903352</td>\n      <td>Yes</td>\n      <td>Yes</td>\n      <td>0.240460</td>\n    </tr>\n  </tbody>\n</table>\n</div>"
     },
     "execution_count": 22,
     "metadata": {},
     "output_type": "execute_result"
    }
   ],
   "source": [
    "#Scaler\n",
    "\n",
    "X_test.loc[:, numerical_features] = scaler.transform(X_test[numerical_features])\n",
    "\n",
    "#No veo que aplique el scaler a los features numericos.\n",
    "X_test.head()"
   ],
   "metadata": {
    "collapsed": false,
    "pycharm": {
     "name": "#%%\n"
    }
   }
  },
  {
   "cell_type": "markdown",
   "source": [
    "### Set de Test\n",
    "#### Preprocesamiento Variables categóricas"
   ],
   "metadata": {
    "collapsed": false,
    "pycharm": {
     "name": "#%% md\n"
    }
   }
  },
  {
   "cell_type": "code",
   "execution_count": 23,
   "outputs": [
    {
     "data": {
      "text/plain": "CreditScore        0\nGeography          0\nGender             0\nAge                0\nTenure             0\nBalance            0\nNumOfProducts      0\nHasCrCard          0\nIsActiveMember     0\nEstimatedSalary    0\ndtype: int64"
     },
     "execution_count": 23,
     "metadata": {},
     "output_type": "execute_result"
    }
   ],
   "source": [
    "X_test.loc[:, categorical_features] = imputer_cat.transform(X_test[categorical_features])\n",
    "\n",
    "#Geography pasó a tener cero valores faltantes. Segun vimos antes, el top value era Francia\n",
    "X_test.isna().sum()"
   ],
   "metadata": {
    "collapsed": false,
    "pycharm": {
     "name": "#%%\n"
    }
   }
  },
  {
   "cell_type": "markdown",
   "source": [
    "#### One Hot Encoder"
   ],
   "metadata": {
    "collapsed": false,
    "pycharm": {
     "name": "#%% md\n"
    }
   }
  },
  {
   "cell_type": "code",
   "execution_count": 24,
   "outputs": [
    {
     "data": {
      "text/plain": "      CreditScore       Age    Tenure   Balance  NumOfProducts  \\\n2030    -0.292634 -1.037490 -1.035726 -1.222055       0.819663   \n3130     1.484440  1.627692  0.004607 -1.222055      -0.903352   \n6689    -0.230280  0.199916  0.698162  0.497689      -0.903352   \n8252     0.954436  1.627692  1.391718 -1.222055       0.819663   \n\n      EstimatedSalary  Geography_France  Geography_Germany  Geography_Spain  \\\n2030         0.061451                 0                  0                1   \n3130        -1.134681                 0                  0                1   \n6689        -0.948355                 0                  0                1   \n8252         1.191833                 1                  0                0   \n\n      Gender_Female  Gender_Male  HasCrCard_No  HasCrCard_Yes  \\\n2030              1            0             1              0   \n3130              1            0             0              1   \n6689              0            1             1              0   \n8252              0            1             0              1   \n\n      IsActiveMember_No  IsActiveMember_Yes  \n2030                  0                   1  \n3130                  1                   0  \n6689                  0                   1  \n8252                  0                   1  ",
      "text/html": "<div>\n<style scoped>\n    .dataframe tbody tr th:only-of-type {\n        vertical-align: middle;\n    }\n\n    .dataframe tbody tr th {\n        vertical-align: top;\n    }\n\n    .dataframe thead th {\n        text-align: right;\n    }\n</style>\n<table border=\"1\" class=\"dataframe\">\n  <thead>\n    <tr style=\"text-align: right;\">\n      <th></th>\n      <th>CreditScore</th>\n      <th>Age</th>\n      <th>Tenure</th>\n      <th>Balance</th>\n      <th>NumOfProducts</th>\n      <th>EstimatedSalary</th>\n      <th>Geography_France</th>\n      <th>Geography_Germany</th>\n      <th>Geography_Spain</th>\n      <th>Gender_Female</th>\n      <th>Gender_Male</th>\n      <th>HasCrCard_No</th>\n      <th>HasCrCard_Yes</th>\n      <th>IsActiveMember_No</th>\n      <th>IsActiveMember_Yes</th>\n    </tr>\n  </thead>\n  <tbody>\n    <tr>\n      <th>2030</th>\n      <td>-0.292634</td>\n      <td>-1.037490</td>\n      <td>-1.035726</td>\n      <td>-1.222055</td>\n      <td>0.819663</td>\n      <td>0.061451</td>\n      <td>0</td>\n      <td>0</td>\n      <td>1</td>\n      <td>1</td>\n      <td>0</td>\n      <td>1</td>\n      <td>0</td>\n      <td>0</td>\n      <td>1</td>\n    </tr>\n    <tr>\n      <th>3130</th>\n      <td>1.484440</td>\n      <td>1.627692</td>\n      <td>0.004607</td>\n      <td>-1.222055</td>\n      <td>-0.903352</td>\n      <td>-1.134681</td>\n      <td>0</td>\n      <td>0</td>\n      <td>1</td>\n      <td>1</td>\n      <td>0</td>\n      <td>0</td>\n      <td>1</td>\n      <td>1</td>\n      <td>0</td>\n    </tr>\n    <tr>\n      <th>6689</th>\n      <td>-0.230280</td>\n      <td>0.199916</td>\n      <td>0.698162</td>\n      <td>0.497689</td>\n      <td>-0.903352</td>\n      <td>-0.948355</td>\n      <td>0</td>\n      <td>0</td>\n      <td>1</td>\n      <td>0</td>\n      <td>1</td>\n      <td>1</td>\n      <td>0</td>\n      <td>0</td>\n      <td>1</td>\n    </tr>\n    <tr>\n      <th>8252</th>\n      <td>0.954436</td>\n      <td>1.627692</td>\n      <td>1.391718</td>\n      <td>-1.222055</td>\n      <td>0.819663</td>\n      <td>1.191833</td>\n      <td>1</td>\n      <td>0</td>\n      <td>0</td>\n      <td>0</td>\n      <td>1</td>\n      <td>0</td>\n      <td>1</td>\n      <td>0</td>\n      <td>1</td>\n    </tr>\n  </tbody>\n</table>\n</div>"
     },
     "execution_count": 24,
     "metadata": {},
     "output_type": "execute_result"
    }
   ],
   "source": [
    "X_test = pd.get_dummies(data=X_test)\n",
    "X_test.sample(4)\n"
   ],
   "metadata": {
    "collapsed": false,
    "pycharm": {
     "name": "#%%\n"
    }
   }
  }
 ],
 "metadata": {
  "kernelspec": {
   "display_name": "Python 3",
   "language": "python",
   "name": "python3"
  },
  "language_info": {
   "codemirror_mode": {
    "name": "ipython",
    "version": 2
   },
   "file_extension": ".py",
   "mimetype": "text/x-python",
   "name": "python",
   "nbconvert_exporter": "python",
   "pygments_lexer": "ipython2",
   "version": "2.7.6"
  }
 },
 "nbformat": 4,
 "nbformat_minor": 0
}