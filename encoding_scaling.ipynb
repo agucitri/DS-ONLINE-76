{
 "cells": [
  {
   "cell_type": "markdown",
   "source": [
    "## Entendimiento de los datos\n",
    "\n",
    "Vamos a trabajar con el conjunto de datos Churn-Modeling descargado de ***Kaggle***. Este conjunto de datos contiene detalles de los clientes de un banco y la variable objetivo es una variable binaria que refleja el hecho de si el cliente dejó el banco (cerró su cuenta) o si continúa siendo un cliente.\n",
    "\n",
    "Las características capturan información sociodemográfica del cliente, información de productos financieros, el comportamiento y balance de su cuenta. Las características son las siguientes:\n",
    "\n",
    "* **CustomerId**: Id único para identificar el cliente.\n",
    "* **Surname**: Apellido del cliente.\n",
    "* **CreditScore**: Puntaje de crédito del cliente.\n",
    "* **Geography**: País al que pertenece el cliente.\n",
    "* **Gender**: Genero.\n",
    "* **Age**: Edad.\n",
    "* **Tenure**: Número de años que el cliente ha estado en el banco.\n",
    "* **Balance**: Saldo bancario del cliente.\n",
    "* **NumOfProducts**: Número de productos bancarios que utiliza el cliente.\n",
    "* **HasCrCard**: Si el cliente tiene tarjeta de crédito con el banco.\n",
    "* **IsActiveMember**: Si el cliente es miembro activo del banco o no.\n",
    "* **EstimatedSalary**: Salario estimado en dólares.\n",
    "* **Exited**: 1-Si el cliente cerró la cuenta con el banco; 0-Si el cliente es retenido.\n",
    "\n",
    "\n",
    "### Carga de módulos"
   ],
   "metadata": {
    "collapsed": false,
    "pycharm": {
     "name": "#%% md\n"
    }
   }
  },
  {
   "cell_type": "code",
   "execution_count": null,
   "outputs": [],
   "source": [
    "# !pip install missingno"
   ],
   "metadata": {
    "collapsed": false,
    "pycharm": {
     "name": "#%%\n"
    }
   }
  },
  {
   "cell_type": "code",
   "execution_count": 19,
   "metadata": {
    "collapsed": true
   },
   "outputs": [],
   "source": [
    "import numpy as np\n",
    "import pandas as pd\n",
    "import seaborn as sns\n",
    "import missingno as msno\n",
    "import matplotlib.pyplot as plt\n",
    "from sklearn.impute import SimpleImputer\n",
    "from sklearn.model_selection import train_test_split\n",
    "from sklearn.preprocessing import StandardScaler, RobustScaler, MinMaxScaler"
   ]
  },
  {
   "cell_type": "code",
   "execution_count": 4,
   "outputs": [
    {
     "data": {
      "text/plain": "  CustomerId   Surname  CreditScore Geography  Gender  Age  Tenure    Balance  \\\n0   15634602  Hargrave          619    France  Female   42       2       0.00   \n1   15647311      Hill          608     Spain  Female   41       1   83807.86   \n2   15619304      Onio          502    France  Female   42       8  159660.80   \n3   15701354      Boni          699    France  Female   39       1       0.00   \n4   15737888  Mitchell          850     Spain  Female   43       2  125510.82   \n\n   NumOfProducts HasCrCard IsActiveMember  EstimatedSalary  Exited  \n0              1       Yes            Yes        101348.88       1  \n1              1        No            Yes        112542.58       0  \n2              3       Yes             No        113931.57       1  \n3              2        No             No         93826.63       0  \n4              1       Yes            Yes         79084.10       0  ",
      "text/html": "<div>\n<style scoped>\n    .dataframe tbody tr th:only-of-type {\n        vertical-align: middle;\n    }\n\n    .dataframe tbody tr th {\n        vertical-align: top;\n    }\n\n    .dataframe thead th {\n        text-align: right;\n    }\n</style>\n<table border=\"1\" class=\"dataframe\">\n  <thead>\n    <tr style=\"text-align: right;\">\n      <th></th>\n      <th>CustomerId</th>\n      <th>Surname</th>\n      <th>CreditScore</th>\n      <th>Geography</th>\n      <th>Gender</th>\n      <th>Age</th>\n      <th>Tenure</th>\n      <th>Balance</th>\n      <th>NumOfProducts</th>\n      <th>HasCrCard</th>\n      <th>IsActiveMember</th>\n      <th>EstimatedSalary</th>\n      <th>Exited</th>\n    </tr>\n  </thead>\n  <tbody>\n    <tr>\n      <th>0</th>\n      <td>15634602</td>\n      <td>Hargrave</td>\n      <td>619</td>\n      <td>France</td>\n      <td>Female</td>\n      <td>42</td>\n      <td>2</td>\n      <td>0.00</td>\n      <td>1</td>\n      <td>Yes</td>\n      <td>Yes</td>\n      <td>101348.88</td>\n      <td>1</td>\n    </tr>\n    <tr>\n      <th>1</th>\n      <td>15647311</td>\n      <td>Hill</td>\n      <td>608</td>\n      <td>Spain</td>\n      <td>Female</td>\n      <td>41</td>\n      <td>1</td>\n      <td>83807.86</td>\n      <td>1</td>\n      <td>No</td>\n      <td>Yes</td>\n      <td>112542.58</td>\n      <td>0</td>\n    </tr>\n    <tr>\n      <th>2</th>\n      <td>15619304</td>\n      <td>Onio</td>\n      <td>502</td>\n      <td>France</td>\n      <td>Female</td>\n      <td>42</td>\n      <td>8</td>\n      <td>159660.80</td>\n      <td>3</td>\n      <td>Yes</td>\n      <td>No</td>\n      <td>113931.57</td>\n      <td>1</td>\n    </tr>\n    <tr>\n      <th>3</th>\n      <td>15701354</td>\n      <td>Boni</td>\n      <td>699</td>\n      <td>France</td>\n      <td>Female</td>\n      <td>39</td>\n      <td>1</td>\n      <td>0.00</td>\n      <td>2</td>\n      <td>No</td>\n      <td>No</td>\n      <td>93826.63</td>\n      <td>0</td>\n    </tr>\n    <tr>\n      <th>4</th>\n      <td>15737888</td>\n      <td>Mitchell</td>\n      <td>850</td>\n      <td>Spain</td>\n      <td>Female</td>\n      <td>43</td>\n      <td>2</td>\n      <td>125510.82</td>\n      <td>1</td>\n      <td>Yes</td>\n      <td>Yes</td>\n      <td>79084.10</td>\n      <td>0</td>\n    </tr>\n  </tbody>\n</table>\n</div>"
     },
     "execution_count": 4,
     "metadata": {},
     "output_type": "execute_result"
    }
   ],
   "source": [
    "churn = pd.read_csv(\"https://raw.githubusercontent.com/stivenlopezg/DS-ONLINE-76/master/data/churn-modeling.csv\",\n",
    "                    dtype={\"CustomerId\": \"category\"})\n",
    "churn.head()"
   ],
   "metadata": {
    "collapsed": false,
    "pycharm": {
     "name": "#%%\n"
    }
   }
  },
  {
   "cell_type": "code",
   "execution_count": 5,
   "outputs": [
    {
     "name": "stdout",
     "output_type": "stream",
     "text": [
      "<class 'pandas.core.frame.DataFrame'>\n",
      "RangeIndex: 10000 entries, 0 to 9999\n",
      "Data columns (total 13 columns):\n",
      " #   Column           Non-Null Count  Dtype   \n",
      "---  ------           --------------  -----   \n",
      " 0   CustomerId       10000 non-null  category\n",
      " 1   Surname          10000 non-null  object  \n",
      " 2   CreditScore      10000 non-null  int64   \n",
      " 3   Geography        9980 non-null   object  \n",
      " 4   Gender           10000 non-null  object  \n",
      " 5   Age              10000 non-null  int64   \n",
      " 6   Tenure           10000 non-null  int64   \n",
      " 7   Balance          10000 non-null  float64 \n",
      " 8   NumOfProducts    10000 non-null  int64   \n",
      " 9   HasCrCard        10000 non-null  object  \n",
      " 10  IsActiveMember   10000 non-null  object  \n",
      " 11  EstimatedSalary  9988 non-null   float64 \n",
      " 12  Exited           10000 non-null  int64   \n",
      "dtypes: category(1), float64(2), int64(5), object(5)\n",
      "memory usage: 1.3+ MB\n"
     ]
    }
   ],
   "source": [
    "churn.info()"
   ],
   "metadata": {
    "collapsed": false,
    "pycharm": {
     "name": "#%%\n"
    }
   }
  },
  {
   "cell_type": "code",
   "execution_count": 6,
   "outputs": [
    {
     "data": {
      "text/plain": "        CreditScore           Age        Tenure        Balance  NumOfProducts  \\\ncount  10000.000000  10000.000000  10000.000000   10000.000000   10000.000000   \nmean     650.528800     38.921800      5.012800   76485.889288       1.530200   \nstd       96.653299     10.487806      2.892174   62397.405202       0.581654   \nmin      350.000000     18.000000      0.000000       0.000000       1.000000   \n25%      584.000000     32.000000      3.000000       0.000000       1.000000   \n50%      652.000000     37.000000      5.000000   97198.540000       1.000000   \n75%      718.000000     44.000000      7.000000  127644.240000       2.000000   \nmax      850.000000     92.000000     10.000000  250898.090000       4.000000   \n\n       EstimatedSalary        Exited  \ncount      9988.000000  10000.000000  \nmean     100066.908601      0.203700  \nstd       57519.993379      0.402769  \nmin          11.580000      0.000000  \n25%       50910.677500      0.000000  \n50%      100185.240000      0.000000  \n75%      149388.247500      0.000000  \nmax      199992.480000      1.000000  ",
      "text/html": "<div>\n<style scoped>\n    .dataframe tbody tr th:only-of-type {\n        vertical-align: middle;\n    }\n\n    .dataframe tbody tr th {\n        vertical-align: top;\n    }\n\n    .dataframe thead th {\n        text-align: right;\n    }\n</style>\n<table border=\"1\" class=\"dataframe\">\n  <thead>\n    <tr style=\"text-align: right;\">\n      <th></th>\n      <th>CreditScore</th>\n      <th>Age</th>\n      <th>Tenure</th>\n      <th>Balance</th>\n      <th>NumOfProducts</th>\n      <th>EstimatedSalary</th>\n      <th>Exited</th>\n    </tr>\n  </thead>\n  <tbody>\n    <tr>\n      <th>count</th>\n      <td>10000.000000</td>\n      <td>10000.000000</td>\n      <td>10000.000000</td>\n      <td>10000.000000</td>\n      <td>10000.000000</td>\n      <td>9988.000000</td>\n      <td>10000.000000</td>\n    </tr>\n    <tr>\n      <th>mean</th>\n      <td>650.528800</td>\n      <td>38.921800</td>\n      <td>5.012800</td>\n      <td>76485.889288</td>\n      <td>1.530200</td>\n      <td>100066.908601</td>\n      <td>0.203700</td>\n    </tr>\n    <tr>\n      <th>std</th>\n      <td>96.653299</td>\n      <td>10.487806</td>\n      <td>2.892174</td>\n      <td>62397.405202</td>\n      <td>0.581654</td>\n      <td>57519.993379</td>\n      <td>0.402769</td>\n    </tr>\n    <tr>\n      <th>min</th>\n      <td>350.000000</td>\n      <td>18.000000</td>\n      <td>0.000000</td>\n      <td>0.000000</td>\n      <td>1.000000</td>\n      <td>11.580000</td>\n      <td>0.000000</td>\n    </tr>\n    <tr>\n      <th>25%</th>\n      <td>584.000000</td>\n      <td>32.000000</td>\n      <td>3.000000</td>\n      <td>0.000000</td>\n      <td>1.000000</td>\n      <td>50910.677500</td>\n      <td>0.000000</td>\n    </tr>\n    <tr>\n      <th>50%</th>\n      <td>652.000000</td>\n      <td>37.000000</td>\n      <td>5.000000</td>\n      <td>97198.540000</td>\n      <td>1.000000</td>\n      <td>100185.240000</td>\n      <td>0.000000</td>\n    </tr>\n    <tr>\n      <th>75%</th>\n      <td>718.000000</td>\n      <td>44.000000</td>\n      <td>7.000000</td>\n      <td>127644.240000</td>\n      <td>2.000000</td>\n      <td>149388.247500</td>\n      <td>0.000000</td>\n    </tr>\n    <tr>\n      <th>max</th>\n      <td>850.000000</td>\n      <td>92.000000</td>\n      <td>10.000000</td>\n      <td>250898.090000</td>\n      <td>4.000000</td>\n      <td>199992.480000</td>\n      <td>1.000000</td>\n    </tr>\n  </tbody>\n</table>\n</div>"
     },
     "execution_count": 6,
     "metadata": {},
     "output_type": "execute_result"
    }
   ],
   "source": [
    "# Estadística descriptivas\n",
    "\n",
    "churn.describe()"
   ],
   "metadata": {
    "collapsed": false,
    "pycharm": {
     "name": "#%%\n"
    }
   }
  },
  {
   "cell_type": "code",
   "execution_count": 7,
   "outputs": [
    {
     "data": {
      "text/plain": "       CustomerId Surname Geography Gender HasCrCard IsActiveMember\ncount       10000   10000      9980  10000     10000          10000\nunique      10000    2932         3      2         2              2\ntop      15565701   Smith    France   Male       Yes            Yes\nfreq            1      32      5008   5457      7055           5151",
      "text/html": "<div>\n<style scoped>\n    .dataframe tbody tr th:only-of-type {\n        vertical-align: middle;\n    }\n\n    .dataframe tbody tr th {\n        vertical-align: top;\n    }\n\n    .dataframe thead th {\n        text-align: right;\n    }\n</style>\n<table border=\"1\" class=\"dataframe\">\n  <thead>\n    <tr style=\"text-align: right;\">\n      <th></th>\n      <th>CustomerId</th>\n      <th>Surname</th>\n      <th>Geography</th>\n      <th>Gender</th>\n      <th>HasCrCard</th>\n      <th>IsActiveMember</th>\n    </tr>\n  </thead>\n  <tbody>\n    <tr>\n      <th>count</th>\n      <td>10000</td>\n      <td>10000</td>\n      <td>9980</td>\n      <td>10000</td>\n      <td>10000</td>\n      <td>10000</td>\n    </tr>\n    <tr>\n      <th>unique</th>\n      <td>10000</td>\n      <td>2932</td>\n      <td>3</td>\n      <td>2</td>\n      <td>2</td>\n      <td>2</td>\n    </tr>\n    <tr>\n      <th>top</th>\n      <td>15565701</td>\n      <td>Smith</td>\n      <td>France</td>\n      <td>Male</td>\n      <td>Yes</td>\n      <td>Yes</td>\n    </tr>\n    <tr>\n      <th>freq</th>\n      <td>1</td>\n      <td>32</td>\n      <td>5008</td>\n      <td>5457</td>\n      <td>7055</td>\n      <td>5151</td>\n    </tr>\n  </tbody>\n</table>\n</div>"
     },
     "execution_count": 7,
     "metadata": {},
     "output_type": "execute_result"
    }
   ],
   "source": [
    "churn.describe(exclude=\"number\")"
   ],
   "metadata": {
    "collapsed": false,
    "pycharm": {
     "name": "#%%\n"
    }
   }
  },
  {
   "cell_type": "markdown",
   "source": [
    "### Datos missing\n",
    "\n",
    "Vamos a mirar si hay datos missing en nuestro set de datos."
   ],
   "metadata": {
    "collapsed": false,
    "pycharm": {
     "name": "#%% md\n"
    }
   }
  },
  {
   "cell_type": "code",
   "execution_count": 11,
   "outputs": [
    {
     "data": {
      "text/plain": "CustomerId         0.00\nSurname            0.00\nCreditScore        0.00\nGeography          0.20\nGender             0.00\nAge                0.00\nTenure             0.00\nBalance            0.00\nNumOfProducts      0.00\nHasCrCard          0.00\nIsActiveMember     0.00\nEstimatedSalary    0.12\nExited             0.00\ndtype: float64"
     },
     "execution_count": 11,
     "metadata": {},
     "output_type": "execute_result"
    }
   ],
   "source": [
    "churn.isna().mean() * 100"
   ],
   "metadata": {
    "collapsed": false,
    "pycharm": {
     "name": "#%%\n"
    }
   }
  },
  {
   "cell_type": "markdown",
   "source": [
    "### Preprocesamiento\n",
    "\n",
    "* Variables numéricas:\n",
    "    * Atípicos\n",
    "    * Imputar\n",
    "    * Escalar\n",
    "    * Discretizar (Opcional)\n",
    "\n",
    "* Variables categóricas:\n",
    "    * Imputar\n",
    "    * Codificar (OHE, LabelEncoder, u OrdinalEncoder)"
   ],
   "metadata": {
    "collapsed": false,
    "pycharm": {
     "name": "#%% md\n"
    }
   }
  },
  {
   "cell_type": "code",
   "execution_count": 12,
   "outputs": [
    {
     "data": {
      "text/plain": "      CreditScore Geography Gender  Age  Tenure    Balance  NumOfProducts  \\\n6548          683    France   Male   38       7  109346.13              2   \n\n     HasCrCard IsActiveMember  EstimatedSalary  Exited  \n6548       Yes             No        102665.92       0  ",
      "text/html": "<div>\n<style scoped>\n    .dataframe tbody tr th:only-of-type {\n        vertical-align: middle;\n    }\n\n    .dataframe tbody tr th {\n        vertical-align: top;\n    }\n\n    .dataframe thead th {\n        text-align: right;\n    }\n</style>\n<table border=\"1\" class=\"dataframe\">\n  <thead>\n    <tr style=\"text-align: right;\">\n      <th></th>\n      <th>CreditScore</th>\n      <th>Geography</th>\n      <th>Gender</th>\n      <th>Age</th>\n      <th>Tenure</th>\n      <th>Balance</th>\n      <th>NumOfProducts</th>\n      <th>HasCrCard</th>\n      <th>IsActiveMember</th>\n      <th>EstimatedSalary</th>\n      <th>Exited</th>\n    </tr>\n  </thead>\n  <tbody>\n    <tr>\n      <th>6548</th>\n      <td>683</td>\n      <td>France</td>\n      <td>Male</td>\n      <td>38</td>\n      <td>7</td>\n      <td>109346.13</td>\n      <td>2</td>\n      <td>Yes</td>\n      <td>No</td>\n      <td>102665.92</td>\n      <td>0</td>\n    </tr>\n  </tbody>\n</table>\n</div>"
     },
     "execution_count": 12,
     "metadata": {},
     "output_type": "execute_result"
    }
   ],
   "source": [
    "cols_to_drop = [\"CustomerId\", \"Surname\"]\n",
    "\n",
    "churn.drop(labels=cols_to_drop, axis=1, inplace=True)\n",
    "\n",
    "churn.sample(n=1)"
   ],
   "metadata": {
    "collapsed": false,
    "pycharm": {
     "name": "#%%\n"
    }
   }
  },
  {
   "cell_type": "code",
   "execution_count": 16,
   "outputs": [],
   "source": [
    "numerical_features = churn.select_dtypes(include=\"number\").columns.tolist()\n",
    "numerical_features.remove(\"Exited\")"
   ],
   "metadata": {
    "collapsed": false,
    "pycharm": {
     "name": "#%%\n"
    }
   }
  },
  {
   "cell_type": "code",
   "execution_count": 17,
   "outputs": [
    {
     "data": {
      "text/plain": "['Geography', 'Gender', 'HasCrCard', 'IsActiveMember']"
     },
     "execution_count": 17,
     "metadata": {},
     "output_type": "execute_result"
    }
   ],
   "source": [
    "categorical_features = churn.select_dtypes(exclude=\"number\").columns.tolist()\n",
    "categorical_features"
   ],
   "metadata": {
    "collapsed": false,
    "pycharm": {
     "name": "#%%\n"
    }
   }
  },
  {
   "cell_type": "code",
   "execution_count": 18,
   "outputs": [
    {
     "data": {
      "text/plain": "['CreditScore', 'Age', 'Tenure', 'Balance', 'NumOfProducts', 'EstimatedSalary']"
     },
     "execution_count": 18,
     "metadata": {},
     "output_type": "execute_result"
    }
   ],
   "source": [
    "numerical_features"
   ],
   "metadata": {
    "collapsed": false,
    "pycharm": {
     "name": "#%%\n"
    }
   }
  },
  {
   "cell_type": "code",
   "execution_count": 20,
   "outputs": [],
   "source": [
    "exited = churn.pop(\"Exited\")\n",
    "\n",
    "# train_data, test_data, train_label, test_label\n",
    "\n",
    "X_train, X_test, y_train, y_test = train_test_split(churn, exited,\n",
    "                                                    test_size=0.3)"
   ],
   "metadata": {
    "collapsed": false,
    "pycharm": {
     "name": "#%%\n"
    }
   }
  },
  {
   "cell_type": "code",
   "execution_count": 22,
   "outputs": [
    {
     "data": {
      "text/plain": "CreditScore         0\nGeography          16\nGender              0\nAge                 0\nTenure              0\nBalance             0\nNumOfProducts       0\nHasCrCard           0\nIsActiveMember      0\nEstimatedSalary     8\ndtype: int64"
     },
     "execution_count": 22,
     "metadata": {},
     "output_type": "execute_result"
    }
   ],
   "source": [
    "X_train.isna().sum()"
   ],
   "metadata": {
    "collapsed": false,
    "pycharm": {
     "name": "#%%\n"
    }
   }
  },
  {
   "cell_type": "markdown",
   "source": [
    "#### Preprocesamiento sobre las numericas"
   ],
   "metadata": {
    "collapsed": false,
    "pycharm": {
     "name": "#%% md\n"
    }
   }
  },
  {
   "cell_type": "code",
   "execution_count": 21,
   "outputs": [
    {
     "data": {
      "text/plain": "array([6.5200000e+02, 3.7000000e+01, 5.0000000e+00, 9.7245995e+04,\n       1.0000000e+00, 1.0099709e+05])"
     },
     "execution_count": 21,
     "metadata": {},
     "output_type": "execute_result"
    }
   ],
   "source": [
    "#Imputacion\n",
    "\n",
    "imputer_num = SimpleImputer(strategy=\"median\").fit(X_train[numerical_features])\n",
    "\n",
    "imputer_num.statistics_"
   ],
   "metadata": {
    "collapsed": false,
    "pycharm": {
     "name": "#%%\n"
    }
   }
  },
  {
   "cell_type": "code",
   "execution_count": 23,
   "outputs": [
    {
     "name": "stderr",
     "output_type": "stream",
     "text": [
      "c:\\users\\stiven.lopez\\pycharmprojects\\ds-online-76\\venv\\lib\\site-packages\\pandas\\core\\indexing.py:1738: SettingWithCopyWarning: \n",
      "A value is trying to be set on a copy of a slice from a DataFrame.\n",
      "Try using .loc[row_indexer,col_indexer] = value instead\n",
      "\n",
      "See the caveats in the documentation: https://pandas.pydata.org/pandas-docs/stable/user_guide/indexing.html#returning-a-view-versus-a-copy\n",
      "  self._setitem_single_column(loc, value[:, i].tolist(), pi)\n"
     ]
    },
    {
     "data": {
      "text/plain": "CreditScore         0\nGeography          16\nGender              0\nAge                 0\nTenure              0\nBalance             0\nNumOfProducts       0\nHasCrCard           0\nIsActiveMember      0\nEstimatedSalary     0\ndtype: int64"
     },
     "execution_count": 23,
     "metadata": {},
     "output_type": "execute_result"
    }
   ],
   "source": [
    "X_train.loc[:, numerical_features] = imputer_num.transform(X_train[numerical_features])\n",
    "\n",
    "X_train.isna().sum()"
   ],
   "metadata": {
    "collapsed": false,
    "pycharm": {
     "name": "#%%\n"
    }
   }
  },
  {
   "cell_type": "code",
   "execution_count": 24,
   "outputs": [
    {
     "name": "stderr",
     "output_type": "stream",
     "text": [
      "c:\\users\\stiven.lopez\\pycharmprojects\\ds-online-76\\venv\\lib\\site-packages\\pandas\\core\\indexing.py:1738: SettingWithCopyWarning: \n",
      "A value is trying to be set on a copy of a slice from a DataFrame.\n",
      "Try using .loc[row_indexer,col_indexer] = value instead\n",
      "\n",
      "See the caveats in the documentation: https://pandas.pydata.org/pandas-docs/stable/user_guide/indexing.html#returning-a-view-versus-a-copy\n",
      "  self._setitem_single_column(loc, value[:, i].tolist(), pi)\n"
     ]
    }
   ],
   "source": [
    "# Escalar\n",
    "\n",
    "scaler = StandardScaler().fit(X_train[numerical_features])\n",
    "\n",
    "X_train.loc[:, numerical_features] = scaler.transform(X_train[numerical_features])"
   ],
   "metadata": {
    "collapsed": false,
    "pycharm": {
     "name": "#%%\n"
    }
   }
  },
  {
   "cell_type": "code",
   "execution_count": 25,
   "outputs": [
    {
     "data": {
      "text/plain": "      CreditScore Geography  Gender       Age    Tenure   Balance  \\\n220      0.786534    France  Female -0.745541  1.362446  0.611323   \n9245     0.317031    France  Female  0.196121 -1.748049  0.704282   \n7609     0.317031    France    Male  0.666953 -1.748049  0.471697   \n8961    -0.496774    France    Male  0.478620  1.362446 -1.218782   \n7188     0.598732    France  Female -0.463042 -0.365607 -1.218782   \n\n      NumOfProducts HasCrCard IsActiveMember  EstimatedSalary  \n220        0.802502       Yes            Yes        -0.043223  \n9245       0.802502       Yes             No         1.309926  \n7609      -0.910677       Yes             No        -1.655739  \n8961      -0.910677       Yes             No         0.657394  \n7188      -0.910677       Yes            Yes        -0.659392  ",
      "text/html": "<div>\n<style scoped>\n    .dataframe tbody tr th:only-of-type {\n        vertical-align: middle;\n    }\n\n    .dataframe tbody tr th {\n        vertical-align: top;\n    }\n\n    .dataframe thead th {\n        text-align: right;\n    }\n</style>\n<table border=\"1\" class=\"dataframe\">\n  <thead>\n    <tr style=\"text-align: right;\">\n      <th></th>\n      <th>CreditScore</th>\n      <th>Geography</th>\n      <th>Gender</th>\n      <th>Age</th>\n      <th>Tenure</th>\n      <th>Balance</th>\n      <th>NumOfProducts</th>\n      <th>HasCrCard</th>\n      <th>IsActiveMember</th>\n      <th>EstimatedSalary</th>\n    </tr>\n  </thead>\n  <tbody>\n    <tr>\n      <th>220</th>\n      <td>0.786534</td>\n      <td>France</td>\n      <td>Female</td>\n      <td>-0.745541</td>\n      <td>1.362446</td>\n      <td>0.611323</td>\n      <td>0.802502</td>\n      <td>Yes</td>\n      <td>Yes</td>\n      <td>-0.043223</td>\n    </tr>\n    <tr>\n      <th>9245</th>\n      <td>0.317031</td>\n      <td>France</td>\n      <td>Female</td>\n      <td>0.196121</td>\n      <td>-1.748049</td>\n      <td>0.704282</td>\n      <td>0.802502</td>\n      <td>Yes</td>\n      <td>No</td>\n      <td>1.309926</td>\n    </tr>\n    <tr>\n      <th>7609</th>\n      <td>0.317031</td>\n      <td>France</td>\n      <td>Male</td>\n      <td>0.666953</td>\n      <td>-1.748049</td>\n      <td>0.471697</td>\n      <td>-0.910677</td>\n      <td>Yes</td>\n      <td>No</td>\n      <td>-1.655739</td>\n    </tr>\n    <tr>\n      <th>8961</th>\n      <td>-0.496774</td>\n      <td>France</td>\n      <td>Male</td>\n      <td>0.478620</td>\n      <td>1.362446</td>\n      <td>-1.218782</td>\n      <td>-0.910677</td>\n      <td>Yes</td>\n      <td>No</td>\n      <td>0.657394</td>\n    </tr>\n    <tr>\n      <th>7188</th>\n      <td>0.598732</td>\n      <td>France</td>\n      <td>Female</td>\n      <td>-0.463042</td>\n      <td>-0.365607</td>\n      <td>-1.218782</td>\n      <td>-0.910677</td>\n      <td>Yes</td>\n      <td>Yes</td>\n      <td>-0.659392</td>\n    </tr>\n  </tbody>\n</table>\n</div>"
     },
     "execution_count": 25,
     "metadata": {},
     "output_type": "execute_result"
    }
   ],
   "source": [
    "X_train.head()"
   ],
   "metadata": {
    "collapsed": false,
    "pycharm": {
     "name": "#%%\n"
    }
   }
  },
  {
   "cell_type": "markdown",
   "source": [
    "#### Preprocesamiento Variables categoricas"
   ],
   "metadata": {
    "collapsed": false,
    "pycharm": {
     "name": "#%% md\n"
    }
   }
  },
  {
   "cell_type": "code",
   "execution_count": 26,
   "outputs": [
    {
     "name": "stderr",
     "output_type": "stream",
     "text": [
      "c:\\users\\stiven.lopez\\pycharmprojects\\ds-online-76\\venv\\lib\\site-packages\\pandas\\core\\indexing.py:1738: SettingWithCopyWarning: \n",
      "A value is trying to be set on a copy of a slice from a DataFrame.\n",
      "Try using .loc[row_indexer,col_indexer] = value instead\n",
      "\n",
      "See the caveats in the documentation: https://pandas.pydata.org/pandas-docs/stable/user_guide/indexing.html#returning-a-view-versus-a-copy\n",
      "  self._setitem_single_column(loc, value[:, i].tolist(), pi)\n"
     ]
    },
    {
     "data": {
      "text/plain": "CreditScore        0\nGeography          0\nGender             0\nAge                0\nTenure             0\nBalance            0\nNumOfProducts      0\nHasCrCard          0\nIsActiveMember     0\nEstimatedSalary    0\ndtype: int64"
     },
     "execution_count": 26,
     "metadata": {},
     "output_type": "execute_result"
    }
   ],
   "source": [
    "# Imputacion\n",
    "\n",
    "imputer_cat = SimpleImputer(strategy=\"most_frequent\").fit(X_train[categorical_features])\n",
    "\n",
    "X_train.loc[:, categorical_features] = imputer_cat.transform(X_train[categorical_features])\n",
    "\n",
    "X_train.isna().sum()"
   ],
   "metadata": {
    "collapsed": false,
    "pycharm": {
     "name": "#%%\n"
    }
   }
  },
  {
   "cell_type": "code",
   "execution_count": 27,
   "outputs": [
    {
     "data": {
      "text/plain": "      CreditScore       Age    Tenure   Balance  NumOfProducts  \\\n220      0.786534 -0.745541  1.362446  0.611323       0.802502   \n9245     0.317031  0.196121 -1.748049  0.704282       0.802502   \n7609     0.317031  0.666953 -1.748049  0.471697      -0.910677   \n8961    -0.496774  0.478620  1.362446 -1.218782      -0.910677   \n7188     0.598732 -0.463042 -0.365607 -1.218782      -0.910677   \n...           ...       ...       ...       ...            ...   \n2601    -0.298540  0.196121  1.362446 -1.218782       0.802502   \n6478     2.080275 -0.368876  1.362446  0.409180      -0.910677   \n9240    -0.642842  0.666953  1.708057 -1.218782       0.802502   \n9282    -0.329840 -0.463042 -1.402438 -1.218782      -0.910677   \n1915    -1.540114 -1.310538  0.671225 -1.218782      -0.910677   \n\n      EstimatedSalary  Geography_France  Geography_Germany  Geography_Spain  \\\n220         -0.043223                 1                  0                0   \n9245         1.309926                 1                  0                0   \n7609        -1.655739                 1                  0                0   \n8961         0.657394                 1                  0                0   \n7188        -0.659392                 1                  0                0   \n...               ...               ...                ...              ...   \n2601         0.962041                 0                  0                1   \n6478        -1.690671                 1                  0                0   \n9240         1.181616                 0                  0                1   \n9282         0.685160                 0                  0                1   \n1915         1.608652                 0                  0                1   \n\n      Gender_Female  Gender_Male  HasCrCard_No  HasCrCard_Yes  \\\n220               1            0             0              1   \n9245              1            0             0              1   \n7609              0            1             0              1   \n8961              0            1             0              1   \n7188              1            0             0              1   \n...             ...          ...           ...            ...   \n2601              1            0             0              1   \n6478              0            1             0              1   \n9240              1            0             1              0   \n9282              0            1             0              1   \n1915              0            1             1              0   \n\n      IsActiveMember_No  IsActiveMember_Yes  \n220                   0                   1  \n9245                  1                   0  \n7609                  1                   0  \n8961                  1                   0  \n7188                  0                   1  \n...                 ...                 ...  \n2601                  0                   1  \n6478                  0                   1  \n9240                  0                   1  \n9282                  1                   0  \n1915                  0                   1  \n\n[7000 rows x 15 columns]",
      "text/html": "<div>\n<style scoped>\n    .dataframe tbody tr th:only-of-type {\n        vertical-align: middle;\n    }\n\n    .dataframe tbody tr th {\n        vertical-align: top;\n    }\n\n    .dataframe thead th {\n        text-align: right;\n    }\n</style>\n<table border=\"1\" class=\"dataframe\">\n  <thead>\n    <tr style=\"text-align: right;\">\n      <th></th>\n      <th>CreditScore</th>\n      <th>Age</th>\n      <th>Tenure</th>\n      <th>Balance</th>\n      <th>NumOfProducts</th>\n      <th>EstimatedSalary</th>\n      <th>Geography_France</th>\n      <th>Geography_Germany</th>\n      <th>Geography_Spain</th>\n      <th>Gender_Female</th>\n      <th>Gender_Male</th>\n      <th>HasCrCard_No</th>\n      <th>HasCrCard_Yes</th>\n      <th>IsActiveMember_No</th>\n      <th>IsActiveMember_Yes</th>\n    </tr>\n  </thead>\n  <tbody>\n    <tr>\n      <th>220</th>\n      <td>0.786534</td>\n      <td>-0.745541</td>\n      <td>1.362446</td>\n      <td>0.611323</td>\n      <td>0.802502</td>\n      <td>-0.043223</td>\n      <td>1</td>\n      <td>0</td>\n      <td>0</td>\n      <td>1</td>\n      <td>0</td>\n      <td>0</td>\n      <td>1</td>\n      <td>0</td>\n      <td>1</td>\n    </tr>\n    <tr>\n      <th>9245</th>\n      <td>0.317031</td>\n      <td>0.196121</td>\n      <td>-1.748049</td>\n      <td>0.704282</td>\n      <td>0.802502</td>\n      <td>1.309926</td>\n      <td>1</td>\n      <td>0</td>\n      <td>0</td>\n      <td>1</td>\n      <td>0</td>\n      <td>0</td>\n      <td>1</td>\n      <td>1</td>\n      <td>0</td>\n    </tr>\n    <tr>\n      <th>7609</th>\n      <td>0.317031</td>\n      <td>0.666953</td>\n      <td>-1.748049</td>\n      <td>0.471697</td>\n      <td>-0.910677</td>\n      <td>-1.655739</td>\n      <td>1</td>\n      <td>0</td>\n      <td>0</td>\n      <td>0</td>\n      <td>1</td>\n      <td>0</td>\n      <td>1</td>\n      <td>1</td>\n      <td>0</td>\n    </tr>\n    <tr>\n      <th>8961</th>\n      <td>-0.496774</td>\n      <td>0.478620</td>\n      <td>1.362446</td>\n      <td>-1.218782</td>\n      <td>-0.910677</td>\n      <td>0.657394</td>\n      <td>1</td>\n      <td>0</td>\n      <td>0</td>\n      <td>0</td>\n      <td>1</td>\n      <td>0</td>\n      <td>1</td>\n      <td>1</td>\n      <td>0</td>\n    </tr>\n    <tr>\n      <th>7188</th>\n      <td>0.598732</td>\n      <td>-0.463042</td>\n      <td>-0.365607</td>\n      <td>-1.218782</td>\n      <td>-0.910677</td>\n      <td>-0.659392</td>\n      <td>1</td>\n      <td>0</td>\n      <td>0</td>\n      <td>1</td>\n      <td>0</td>\n      <td>0</td>\n      <td>1</td>\n      <td>0</td>\n      <td>1</td>\n    </tr>\n    <tr>\n      <th>...</th>\n      <td>...</td>\n      <td>...</td>\n      <td>...</td>\n      <td>...</td>\n      <td>...</td>\n      <td>...</td>\n      <td>...</td>\n      <td>...</td>\n      <td>...</td>\n      <td>...</td>\n      <td>...</td>\n      <td>...</td>\n      <td>...</td>\n      <td>...</td>\n      <td>...</td>\n    </tr>\n    <tr>\n      <th>2601</th>\n      <td>-0.298540</td>\n      <td>0.196121</td>\n      <td>1.362446</td>\n      <td>-1.218782</td>\n      <td>0.802502</td>\n      <td>0.962041</td>\n      <td>0</td>\n      <td>0</td>\n      <td>1</td>\n      <td>1</td>\n      <td>0</td>\n      <td>0</td>\n      <td>1</td>\n      <td>0</td>\n      <td>1</td>\n    </tr>\n    <tr>\n      <th>6478</th>\n      <td>2.080275</td>\n      <td>-0.368876</td>\n      <td>1.362446</td>\n      <td>0.409180</td>\n      <td>-0.910677</td>\n      <td>-1.690671</td>\n      <td>1</td>\n      <td>0</td>\n      <td>0</td>\n      <td>0</td>\n      <td>1</td>\n      <td>0</td>\n      <td>1</td>\n      <td>0</td>\n      <td>1</td>\n    </tr>\n    <tr>\n      <th>9240</th>\n      <td>-0.642842</td>\n      <td>0.666953</td>\n      <td>1.708057</td>\n      <td>-1.218782</td>\n      <td>0.802502</td>\n      <td>1.181616</td>\n      <td>0</td>\n      <td>0</td>\n      <td>1</td>\n      <td>1</td>\n      <td>0</td>\n      <td>1</td>\n      <td>0</td>\n      <td>0</td>\n      <td>1</td>\n    </tr>\n    <tr>\n      <th>9282</th>\n      <td>-0.329840</td>\n      <td>-0.463042</td>\n      <td>-1.402438</td>\n      <td>-1.218782</td>\n      <td>-0.910677</td>\n      <td>0.685160</td>\n      <td>0</td>\n      <td>0</td>\n      <td>1</td>\n      <td>0</td>\n      <td>1</td>\n      <td>0</td>\n      <td>1</td>\n      <td>1</td>\n      <td>0</td>\n    </tr>\n    <tr>\n      <th>1915</th>\n      <td>-1.540114</td>\n      <td>-1.310538</td>\n      <td>0.671225</td>\n      <td>-1.218782</td>\n      <td>-0.910677</td>\n      <td>1.608652</td>\n      <td>0</td>\n      <td>0</td>\n      <td>1</td>\n      <td>0</td>\n      <td>1</td>\n      <td>1</td>\n      <td>0</td>\n      <td>0</td>\n      <td>1</td>\n    </tr>\n  </tbody>\n</table>\n<p>7000 rows × 15 columns</p>\n</div>"
     },
     "execution_count": 27,
     "metadata": {},
     "output_type": "execute_result"
    }
   ],
   "source": [
    "# One Hot Encoder\n",
    "\n",
    "X_train = pd.get_dummies(data=X_train, columns=categorical_features)\n",
    "\n",
    "X_train"
   ],
   "metadata": {
    "collapsed": false,
    "pycharm": {
     "name": "#%%\n"
    }
   }
  },
  {
   "cell_type": "markdown",
   "source": [
    "### En prueba"
   ],
   "metadata": {
    "collapsed": false,
    "pycharm": {
     "name": "#%% md\n"
    }
   }
  },
  {
   "cell_type": "code",
   "execution_count": 28,
   "outputs": [
    {
     "data": {
      "text/plain": "CreditScore        0\nGeography          4\nGender             0\nAge                0\nTenure             0\nBalance            0\nNumOfProducts      0\nHasCrCard          0\nIsActiveMember     0\nEstimatedSalary    4\ndtype: int64"
     },
     "execution_count": 28,
     "metadata": {},
     "output_type": "execute_result"
    }
   ],
   "source": [
    "X_test.isna().sum()"
   ],
   "metadata": {
    "collapsed": false,
    "pycharm": {
     "name": "#%%\n"
    }
   }
  },
  {
   "cell_type": "code",
   "execution_count": 29,
   "outputs": [
    {
     "name": "stderr",
     "output_type": "stream",
     "text": [
      "c:\\users\\stiven.lopez\\pycharmprojects\\ds-online-76\\venv\\lib\\site-packages\\pandas\\core\\indexing.py:1738: SettingWithCopyWarning: \n",
      "A value is trying to be set on a copy of a slice from a DataFrame.\n",
      "Try using .loc[row_indexer,col_indexer] = value instead\n",
      "\n",
      "See the caveats in the documentation: https://pandas.pydata.org/pandas-docs/stable/user_guide/indexing.html#returning-a-view-versus-a-copy\n",
      "  self._setitem_single_column(loc, value[:, i].tolist(), pi)\n"
     ]
    },
    {
     "data": {
      "text/plain": "CreditScore        0\nGeography          4\nGender             0\nAge                0\nTenure             0\nBalance            0\nNumOfProducts      0\nHasCrCard          0\nIsActiveMember     0\nEstimatedSalary    0\ndtype: int64"
     },
     "execution_count": 29,
     "metadata": {},
     "output_type": "execute_result"
    }
   ],
   "source": [
    "X_test.loc[:, numerical_features] = imputer_num.transform(X_test[numerical_features])\n",
    "\n",
    "X_test.isna().sum()"
   ],
   "metadata": {
    "collapsed": false,
    "pycharm": {
     "name": "#%%\n"
    }
   }
  },
  {
   "cell_type": "code",
   "execution_count": null,
   "outputs": [],
   "source": [],
   "metadata": {
    "collapsed": false,
    "pycharm": {
     "name": "#%%\n"
    }
   }
  }
 ],
 "metadata": {
  "kernelspec": {
   "display_name": "Python 3",
   "language": "python",
   "name": "python3"
  },
  "language_info": {
   "codemirror_mode": {
    "name": "ipython",
    "version": 2
   },
   "file_extension": ".py",
   "mimetype": "text/x-python",
   "name": "python",
   "nbconvert_exporter": "python",
   "pygments_lexer": "ipython2",
   "version": "2.7.6"
  }
 },
 "nbformat": 4,
 "nbformat_minor": 0
}