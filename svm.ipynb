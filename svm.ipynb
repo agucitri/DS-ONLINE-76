{
 "cells": [
  {
   "cell_type": "markdown",
   "metadata": {
    "collapsed": true,
    "pycharm": {
     "name": "#%% md\n"
    }
   },
   "source": [
    "# Support Vector Machines\n",
    "\n",
    "## 1. Social Network Ads\n",
    "\n",
    "En primer lugar vamos a trabajar con el dataset de Social Networks Ads, un conjunto de datos que permiten determinar si un usuario compró o no un producto en particular. Tanto el dataset como su descripción los pueden encontrar en [Kaggle](https://www.kaggle.com/rakeshrau/social-network-ads).\n",
    "\n",
    "### Columnas del dataset:\n",
    "* User ID: identificación de usuario.\n",
    "* Gender: género.\n",
    "* Age: edad.\n",
    "* EstimatedSalary: salario estimado.\n",
    "* Purchased: compró/no compró un producto en particular.\n",
    "\n",
    "Ahora sí, a trabajar. En primer lugar, recomendamos hacer una pequeña exploración de datos si tienes tiempo. Luego, sigue los pasos que aquí te dejamos. Si te sientes seguro/a, hasta puedes intentar implementar un SVM sobre ese dataset sin mirar la guía que dejamos. En ese caso, te conviene hacerlo en otro notebook. ¡Inténtalo!"
   ]
  },
  {
   "cell_type": "code",
   "execution_count": null,
   "outputs": [],
   "source": [
    "# !pip install mglearn"
   ],
   "metadata": {
    "collapsed": false,
    "pycharm": {
     "name": "#%%\n"
    }
   }
  },
  {
   "cell_type": "code",
   "execution_count": 1,
   "outputs": [],
   "source": [
    "import mglearn\n",
    "import pandas as pd\n",
    "import seaborn as sns\n",
    "from sklearn.svm import SVC\n",
    "from utilities.evaluation import ModelEvaluation\n",
    "from sklearn.preprocessing import StandardScaler\n",
    "from sklearn.model_selection import train_test_split\n",
    "from sklearn.linear_model import LogisticRegression"
   ],
   "metadata": {
    "collapsed": false,
    "pycharm": {
     "name": "#%%\n"
    }
   }
  },
  {
   "cell_type": "markdown",
   "source": [
    "2. Sólo vamos a utilizar como features las columnas `Age` y `EstimatedSalary` (así podemos visualizar). Y como target a la columna `Purchased`"
   ],
   "metadata": {
    "collapsed": false,
    "pycharm": {
     "name": "#%% md\n"
    }
   }
  },
  {
   "cell_type": "code",
   "execution_count": 4,
   "outputs": [
    {
     "data": {
      "text/plain": "    User ID  Gender  Age  EstimatedSalary  Purchased\n0  15624510    Male   19            19000          0\n1  15810944    Male   35            20000          0\n2  15668575  Female   26            43000          0\n3  15603246  Female   27            57000          0\n4  15804002    Male   19            76000          0",
      "text/html": "<div>\n<style scoped>\n    .dataframe tbody tr th:only-of-type {\n        vertical-align: middle;\n    }\n\n    .dataframe tbody tr th {\n        vertical-align: top;\n    }\n\n    .dataframe thead th {\n        text-align: right;\n    }\n</style>\n<table border=\"1\" class=\"dataframe\">\n  <thead>\n    <tr style=\"text-align: right;\">\n      <th></th>\n      <th>User ID</th>\n      <th>Gender</th>\n      <th>Age</th>\n      <th>EstimatedSalary</th>\n      <th>Purchased</th>\n    </tr>\n  </thead>\n  <tbody>\n    <tr>\n      <th>0</th>\n      <td>15624510</td>\n      <td>Male</td>\n      <td>19</td>\n      <td>19000</td>\n      <td>0</td>\n    </tr>\n    <tr>\n      <th>1</th>\n      <td>15810944</td>\n      <td>Male</td>\n      <td>35</td>\n      <td>20000</td>\n      <td>0</td>\n    </tr>\n    <tr>\n      <th>2</th>\n      <td>15668575</td>\n      <td>Female</td>\n      <td>26</td>\n      <td>43000</td>\n      <td>0</td>\n    </tr>\n    <tr>\n      <th>3</th>\n      <td>15603246</td>\n      <td>Female</td>\n      <td>27</td>\n      <td>57000</td>\n      <td>0</td>\n    </tr>\n    <tr>\n      <th>4</th>\n      <td>15804002</td>\n      <td>Male</td>\n      <td>19</td>\n      <td>76000</td>\n      <td>0</td>\n    </tr>\n  </tbody>\n</table>\n</div>"
     },
     "execution_count": 4,
     "metadata": {},
     "output_type": "execute_result"
    }
   ],
   "source": [
    "social = pd.read_csv(\"https://raw.githubusercontent.com/stivenlopezg/DS-ONLINE-76/master/data/Social_Network_Ads.csv\",\n",
    "                     dtype={\"User ID\": object})\n",
    "social.head()"
   ],
   "metadata": {
    "collapsed": false,
    "pycharm": {
     "name": "#%%\n"
    }
   }
  },
  {
   "cell_type": "code",
   "execution_count": 5,
   "outputs": [
    {
     "name": "stdout",
     "output_type": "stream",
     "text": [
      "<class 'pandas.core.frame.DataFrame'>\n",
      "RangeIndex: 400 entries, 0 to 399\n",
      "Data columns (total 5 columns):\n",
      " #   Column           Non-Null Count  Dtype \n",
      "---  ------           --------------  ----- \n",
      " 0   User ID          400 non-null    object\n",
      " 1   Gender           400 non-null    object\n",
      " 2   Age              400 non-null    int64 \n",
      " 3   EstimatedSalary  400 non-null    int64 \n",
      " 4   Purchased        400 non-null    int64 \n",
      "dtypes: int64(3), object(2)\n",
      "memory usage: 15.8+ KB\n"
     ]
    }
   ],
   "source": [
    "social.info()"
   ],
   "metadata": {
    "collapsed": false,
    "pycharm": {
     "name": "#%%\n"
    }
   }
  },
  {
   "cell_type": "code",
   "execution_count": 6,
   "outputs": [
    {
     "data": {
      "text/plain": "              Age  EstimatedSalary   Purchased\ncount  400.000000       400.000000  400.000000\nmean    37.655000     69742.500000    0.357500\nstd     10.482877     34096.960282    0.479864\nmin     18.000000     15000.000000    0.000000\n25%     29.750000     43000.000000    0.000000\n50%     37.000000     70000.000000    0.000000\n75%     46.000000     88000.000000    1.000000\nmax     60.000000    150000.000000    1.000000",
      "text/html": "<div>\n<style scoped>\n    .dataframe tbody tr th:only-of-type {\n        vertical-align: middle;\n    }\n\n    .dataframe tbody tr th {\n        vertical-align: top;\n    }\n\n    .dataframe thead th {\n        text-align: right;\n    }\n</style>\n<table border=\"1\" class=\"dataframe\">\n  <thead>\n    <tr style=\"text-align: right;\">\n      <th></th>\n      <th>Age</th>\n      <th>EstimatedSalary</th>\n      <th>Purchased</th>\n    </tr>\n  </thead>\n  <tbody>\n    <tr>\n      <th>count</th>\n      <td>400.000000</td>\n      <td>400.000000</td>\n      <td>400.000000</td>\n    </tr>\n    <tr>\n      <th>mean</th>\n      <td>37.655000</td>\n      <td>69742.500000</td>\n      <td>0.357500</td>\n    </tr>\n    <tr>\n      <th>std</th>\n      <td>10.482877</td>\n      <td>34096.960282</td>\n      <td>0.479864</td>\n    </tr>\n    <tr>\n      <th>min</th>\n      <td>18.000000</td>\n      <td>15000.000000</td>\n      <td>0.000000</td>\n    </tr>\n    <tr>\n      <th>25%</th>\n      <td>29.750000</td>\n      <td>43000.000000</td>\n      <td>0.000000</td>\n    </tr>\n    <tr>\n      <th>50%</th>\n      <td>37.000000</td>\n      <td>70000.000000</td>\n      <td>0.000000</td>\n    </tr>\n    <tr>\n      <th>75%</th>\n      <td>46.000000</td>\n      <td>88000.000000</td>\n      <td>1.000000</td>\n    </tr>\n    <tr>\n      <th>max</th>\n      <td>60.000000</td>\n      <td>150000.000000</td>\n      <td>1.000000</td>\n    </tr>\n  </tbody>\n</table>\n</div>"
     },
     "execution_count": 6,
     "metadata": {},
     "output_type": "execute_result"
    }
   ],
   "source": [
    "social.describe()"
   ],
   "metadata": {
    "collapsed": false,
    "pycharm": {
     "name": "#%%\n"
    }
   }
  },
  {
   "cell_type": "code",
   "execution_count": 7,
   "outputs": [
    {
     "data": {
      "text/plain": "         User ID  Gender\ncount        400     400\nunique       400       2\ntop     15727467  Female\nfreq           1     204",
      "text/html": "<div>\n<style scoped>\n    .dataframe tbody tr th:only-of-type {\n        vertical-align: middle;\n    }\n\n    .dataframe tbody tr th {\n        vertical-align: top;\n    }\n\n    .dataframe thead th {\n        text-align: right;\n    }\n</style>\n<table border=\"1\" class=\"dataframe\">\n  <thead>\n    <tr style=\"text-align: right;\">\n      <th></th>\n      <th>User ID</th>\n      <th>Gender</th>\n    </tr>\n  </thead>\n  <tbody>\n    <tr>\n      <th>count</th>\n      <td>400</td>\n      <td>400</td>\n    </tr>\n    <tr>\n      <th>unique</th>\n      <td>400</td>\n      <td>2</td>\n    </tr>\n    <tr>\n      <th>top</th>\n      <td>15727467</td>\n      <td>Female</td>\n    </tr>\n    <tr>\n      <th>freq</th>\n      <td>1</td>\n      <td>204</td>\n    </tr>\n  </tbody>\n</table>\n</div>"
     },
     "execution_count": 7,
     "metadata": {},
     "output_type": "execute_result"
    }
   ],
   "source": [
    "social.describe(exclude=\"number\")"
   ],
   "metadata": {
    "collapsed": false,
    "pycharm": {
     "name": "#%%\n"
    }
   }
  },
  {
   "cell_type": "markdown",
   "source": [
    "3. Separa los datos de entrenamiento de los datos de prueba."
   ],
   "metadata": {
    "collapsed": false,
    "pycharm": {
     "name": "#%% md\n"
    }
   }
  },
  {
   "cell_type": "code",
   "execution_count": 8,
   "outputs": [],
   "source": [
    "X = social.drop([\"Purchased\", \"Gender\"], axis=1)\n",
    "y = social.Purchased\n",
    "\n",
    "X_train, X_test, y_train, y_test = train_test_split(X, y,\n",
    "                                                    train_size=0.70,\n",
    "                                                    test_size=0.30, random_state=42)"
   ],
   "metadata": {
    "collapsed": false,
    "pycharm": {
     "name": "#%%\n"
    }
   }
  },
  {
   "cell_type": "code",
   "execution_count": 10,
   "outputs": [
    {
     "name": "stderr",
     "output_type": "stream",
     "text": [
      "c:\\users\\stiven.lopez\\pycharmprojects\\ds-online-76\\venv\\lib\\site-packages\\pandas\\core\\frame.py:4308: SettingWithCopyWarning: \n",
      "A value is trying to be set on a copy of a slice from a DataFrame\n",
      "\n",
      "See the caveats in the documentation: https://pandas.pydata.org/pandas-docs/stable/user_guide/indexing.html#returning-a-view-versus-a-copy\n",
      "  return super().drop(\n"
     ]
    }
   ],
   "source": [
    "X_train.drop(\"User ID\", axis=1, inplace=True)\n",
    "X_test.drop(\"User ID\", axis=1, inplace=True)"
   ],
   "metadata": {
    "collapsed": false,
    "pycharm": {
     "name": "#%%\n"
    }
   }
  },
  {
   "cell_type": "markdown",
   "source": [
    "4. Estandariza los datos (`StandardScaler`).\n",
    "5. Entrena un SVM. Para ello, utiliza la clase `SVC` de la librería Scikit-Learn cuya documentación la puedes encontrar [aquí](https://scikit-learn.org/stable/modules/generated/sklearn.svm.SVC.html)."
   ],
   "metadata": {
    "collapsed": false,
    "pycharm": {
     "name": "#%% md\n"
    }
   }
  },
  {
   "cell_type": "code",
   "execution_count": 11,
   "outputs": [],
   "source": [
    "scaler = StandardScaler().fit(X_train)\n",
    "\n",
    "X_train = scaler.transform(X_train)\n",
    "\n",
    "X_test = scaler.transform(X_test)"
   ],
   "metadata": {
    "collapsed": false,
    "pycharm": {
     "name": "#%%\n"
    }
   }
  },
  {
   "cell_type": "code",
   "execution_count": 12,
   "outputs": [
    {
     "data": {
      "text/plain": "array([[-0.84252154,  0.1301563 ],\n       [ 0.04175763,  0.2777019 ],\n       [ 0.72953032, -1.31579061],\n       [ 1.61380949,  1.10395728],\n       [ 0.82778356, -1.40431797],\n       [-1.43204099, -1.25677236],\n       [-0.05649561,  0.1301563 ],\n       [ 0.43477059, -0.16493491],\n       [-0.2530021 ,  0.01211982],\n       [ 1.31904976,  2.22530386],\n       [ 0.14001087,  0.74984783],\n       [-1.33378775,  0.54328399],\n       [ 2.00682245,  0.72033871],\n       [-1.23553451, -1.43382709],\n       [ 0.33651735, -0.34198963],\n       [-0.94077478,  0.54328399],\n       [ 0.43477059,  0.2777019 ],\n       [ 0.43477059,  1.10395728],\n       [ 0.82778356,  0.74984783],\n       [ 0.9260368 ,  1.25150288],\n       [-0.44950858, -1.25677236],\n       [-1.82505395, -1.34529973],\n       [ 1.12254328,  0.54328399],\n       [-0.64601506, -1.64039093],\n       [-0.7442683 ,  0.24819278],\n       [ 1.02429004,  2.07775825],\n       [-0.54776182,  1.36953936],\n       [-0.05649561,  0.01211982],\n       [-1.9233072 ,  0.45475663],\n       [ 0.43477059,  0.24819278],\n       [-1.03902802,  0.39573838],\n       [ 0.23826411, -0.16493491],\n       [ 1.90856921,  0.10064718],\n       [-1.13728127, -1.64039093],\n       [-1.13728127,  0.2777019 ],\n       [-0.84252154, -0.81413556],\n       [-0.44950858,  2.31383122],\n       [ 0.14001087, -0.84364468],\n       [ 1.61380949,  0.98592079],\n       [-0.15474885, -1.10922676],\n       [ 0.82778356, -1.13873588],\n       [ 0.23826411,  2.10726737],\n       [-0.05649561, -0.25346227],\n       [-0.84252154,  2.2843221 ],\n       [-0.05649561, -0.40100787],\n       [-0.2530021 , -0.60757171],\n       [ 0.43477059, -0.51904435],\n       [-0.2530021 , -0.96168116],\n       [ 0.33651735, -1.19775412],\n       [ 0.23826411,  0.04162894],\n       [-1.13728127, -1.64039093],\n       [-0.64601506, -0.07640754],\n       [-0.2530021 , -0.51904435],\n       [-0.2530021 , -1.34529973],\n       [-0.7442683 ,  0.54328399],\n       [ 0.33651735,  0.04162894],\n       [-0.94077478,  1.54659408],\n       [ 0.82778356,  0.33672014],\n       [-1.53029423, -0.22395315],\n       [ 0.72953032, -1.43382709],\n       [-0.7442683 , -0.63708083],\n       [-0.35125534, -1.34529973],\n       [ 0.23826411,  0.1301563 ],\n       [-0.54776182,  1.36953936],\n       [-1.43204099,  0.33672014],\n       [-1.13728127,  0.2777019 ],\n       [ 1.02429004,  1.78266705],\n       [ 2.10507569,  2.13677649],\n       [-0.2530021 , -0.46002611],\n       [-0.35125534, -0.81413556],\n       [ 0.14001087, -0.28297139],\n       [-1.03902802,  0.74984783],\n       [ 2.20332893,  0.36622926],\n       [-1.33378775, -0.46002611],\n       [ 2.00682245,  2.16628562],\n       [ 1.51555624,  0.98592079],\n       [-0.2530021 ,  0.24819278],\n       [-0.15474885,  0.83837519],\n       [ 1.90856921, -0.31248051],\n       [-0.05649561,  1.95972177],\n       [-0.44950858, -0.81413556],\n       [ 0.33651735,  0.01211982],\n       [ 1.417303  , -1.46333621],\n       [ 1.417303  ,  2.34334034],\n       [-0.05649561, -0.0173893 ],\n       [-1.13728127,  0.39573838],\n       [-1.13728127,  0.04162894],\n       [-1.13728127, -0.54855347],\n       [ 0.33651735, -0.31248051],\n       [-0.64601506, -0.13542579],\n       [-0.05649561,  2.16628562],\n       [ 0.04175763, -0.28297139],\n       [-0.64601506, -1.07971764],\n       [ 0.43477059,  0.1301563 ],\n       [ 0.82778356,  1.36953936],\n       [-0.15474885, -0.54855347],\n       [ 0.04175763,  0.01211982],\n       [ 1.12254328,  0.51377487],\n       [ 1.90856921, -1.10922676],\n       [ 1.02429004,  1.98923089],\n       [ 0.9260368 , -0.60757171],\n       [-0.44950858, -0.04689842],\n       [-0.05649561,  2.22530386],\n       [-1.72680071,  0.33672014],\n       [ 0.23826411, -0.69609908],\n       [-0.2530021 , -1.43382709],\n       [-1.72680071, -1.0206994 ],\n       [ 0.72953032, -0.75511732],\n       [-1.13728127, -0.81413556],\n       [ 2.00682245,  0.89739343],\n       [ 0.23826411, -0.40100787],\n       [ 0.04175763,  1.22199376],\n       [-0.05649561,  0.2777019 ],\n       [ 1.12254328, -1.25677236],\n       [-0.15474885,  0.1301563 ],\n       [ 0.33651735,  0.04162894],\n       [-0.2530021 , -0.31248051],\n       [ 0.53302383,  1.72364881],\n       [ 0.33651735,  0.48426575],\n       [ 0.04175763,  1.25150288],\n       [ 2.00682245, -1.40431797],\n       [-1.13728127, -1.13873588],\n       [-0.54776182, -1.55186357],\n       [ 0.33651735, -0.54855347],\n       [-0.64601506, -1.55186357],\n       [-0.2530021 ,  0.51377487],\n       [ 1.02429004, -1.05020852],\n       [-1.03902802,  0.54328399],\n       [-0.2530021 ,  0.77935695],\n       [ 0.43477059,  0.07113806],\n       [-1.62854747, -0.07640754],\n       [ 0.33651735,  0.04162894],\n       [-0.44950858, -0.31248051],\n       [ 0.14001087,  1.87119441],\n       [-0.94077478,  0.39573838],\n       [ 0.82778356,  0.51377487],\n       [-1.33378775, -0.37149875],\n       [-0.64601506,  1.39904848],\n       [ 1.22079652,  0.51377487],\n       [-1.72680071,  0.33672014],\n       [-0.54776182,  1.90070353],\n       [-1.72680071,  0.45475663],\n       [-0.2530021 , -1.28628149],\n       [-0.84252154, -0.81413556],\n       [-1.62854747,  0.51377487],\n       [-0.2530021 , -0.34198963],\n       [ 0.72953032, -1.13873588],\n       [ 2.20332893, -0.84364468],\n       [-0.2530021 ,  0.60230223],\n       [-0.2530021 , -0.78462644],\n       [-1.9233072 , -0.78462644],\n       [ 0.43477059,  2.31383122],\n       [ 0.72953032,  0.24819278],\n       [ 0.23826411, -0.31248051],\n       [-1.33378775, -1.40431797],\n       [-0.44950858, -0.57806259],\n       [ 0.43477059, -0.0173893 ],\n       [ 1.71206273,  1.75315793],\n       [ 1.22079652, -0.78462644],\n       [ 1.02429004,  1.4285576 ],\n       [-1.82505395,  0.15966542],\n       [ 0.33651735,  0.04162894],\n       [ 0.23826411,  0.01211982],\n       [-1.03902802,  0.51377487],\n       [-0.15474885,  1.63512145],\n       [-0.2530021 ,  0.1301563 ],\n       [-0.2530021 , -0.37149875],\n       [-0.35125534,  1.31052112],\n       [-0.2530021 ,  0.07113806],\n       [ 2.20332893,  1.10395728],\n       [-1.23553451,  0.48426575],\n       [-1.03902802, -0.48953523],\n       [-1.62854747, -1.61088181],\n       [-0.05649561,  0.10064718],\n       [-0.2530021 , -0.93217204],\n       [ 1.61380949, -0.0173893 ],\n       [ 0.9260368 , -1.19775412],\n       [ 0.04175763, -0.60757171],\n       [-0.2530021 ,  2.25481298],\n       [-0.2530021 ,  0.18917454],\n       [ 0.33651735,  0.24819278],\n       [-0.05649561, -1.10922676],\n       [ 2.20332893, -0.7256082 ],\n       [-0.94077478, -0.34198963],\n       [-1.43204099, -0.13542579],\n       [-1.43204099, -0.22395315],\n       [-0.7442683 , -1.58137269],\n       [-1.23553451, -1.10922676],\n       [ 2.10507569,  0.36622926],\n       [ 2.00682245, -0.96168116],\n       [-1.9233072 ,  0.33672014],\n       [ 0.82778356, -0.34198963],\n       [-1.03902802, -1.58137269],\n       [ 2.00682245, -0.69609908],\n       [ 1.02429004, -1.19775412],\n       [ 1.12254328, -0.16493491],\n       [ 1.22079652, -1.0206994 ],\n       [ 1.51555624,  0.04162894],\n       [ 0.23826411, -0.40100787],\n       [ 1.417303  ,  1.281012  ],\n       [ 2.10507569, -0.84364468],\n       [-0.15474885, -0.22395315],\n       [ 0.43477059,  0.98592079],\n       [-0.05649561, -0.54855347],\n       [ 1.02429004, -1.10922676],\n       [ 2.10507569, -1.22726324],\n       [-0.05649561,  0.24819278],\n       [ 0.23826411, -0.28297139],\n       [ 1.12254328,  0.10064718],\n       [-1.23553451,  0.57279311],\n       [-0.7442683 , -1.64039093],\n       [ 0.23826411,  0.21868366],\n       [-1.33378775,  0.39573838],\n       [ 0.04175763, -0.60757171],\n       [ 0.72953032,  1.78266705],\n       [-1.62854747,  0.04162894],\n       [-0.2530021 , -1.40431797],\n       [-0.2530021 , -1.49284533],\n       [-0.64601506,  0.54328399],\n       [-0.7442683 ,  0.2777019 ],\n       [ 0.9260368 , -0.69609908],\n       [-1.03902802,  0.57279311],\n       [-0.2530021 ,  0.04162894],\n       [-0.7442683 ,  1.34003024],\n       [ 0.14001087,  1.51708496],\n       [-0.84252154,  0.36622926],\n       [ 0.33651735, -0.22395315],\n       [ 1.02429004,  0.57279311],\n       [ 0.04175763, -0.34198963],\n       [-0.54776182, -1.55186357],\n       [ 0.14001087,  0.1301563 ],\n       [-1.13728127,  0.30721102],\n       [ 0.14001087,  1.04493904],\n       [-1.53029423, -0.46002611],\n       [-0.15474885,  1.39904848],\n       [ 2.20332893, -0.84364468],\n       [-0.94077478, -0.46002611],\n       [ 1.31904976,  1.87119441],\n       [ 1.12254328, -1.25677236],\n       [-0.15474885, -0.31248051],\n       [ 1.81031597,  0.98592079],\n       [-1.03902802, -0.37149875],\n       [-1.33378775, -1.13873588],\n       [-0.35125534,  0.04162894],\n       [-0.94077478, -1.13873588],\n       [ 1.22079652, -1.49284533],\n       [-0.44950858, -0.8731538 ],\n       [-0.84252154, -0.69609908],\n       [-1.53029423, -1.55186357],\n       [-0.7442683 ,  1.90070353],\n       [ 0.9260368 ,  1.01542992],\n       [ 0.82778356,  0.24819278],\n       [ 1.02429004,  1.87119441],\n       [ 0.9260368 , -0.63708083],\n       [ 1.12254328,  2.07775825],\n       [-0.54776182,  0.86788431],\n       [ 0.04175763,  0.01211982],\n       [-1.82505395, -1.31579061],\n       [-0.05649561,  0.18917454],\n       [ 0.9260368 , -0.57806259],\n       [ 0.23826411, -0.40100787],\n       [-0.15474885,  1.60561233],\n       [-1.72680071,  0.10064718],\n       [-0.64601506, -0.37149875],\n       [ 0.33651735, -0.75511732],\n       [ 0.43477059, -0.48953523],\n       [-0.94077478, -0.99119028],\n       [ 0.14001087,  0.07113806],\n       [-0.94077478,  0.4252475 ],\n       [ 0.04175763, -0.57806259],\n       [ 0.9260368 , -0.81413556],\n       [-0.05649561,  0.04162894],\n       [ 1.12254328, -1.0206994 ],\n       [ 0.72953032, -1.43382709],\n       [-0.2530021 ,  0.04162894],\n       [-1.33378775, -1.28628149],\n       [-1.13728127, -1.05020852],\n       [ 0.53302383,  1.84168529],\n       [ 0.14001087,  0.18917454],\n       [-0.54776182,  0.45475663]])"
     },
     "execution_count": 12,
     "metadata": {},
     "output_type": "execute_result"
    }
   ],
   "source": [
    "X_train"
   ],
   "metadata": {
    "collapsed": false,
    "pycharm": {
     "name": "#%%\n"
    }
   }
  },
  {
   "cell_type": "code",
   "execution_count": 13,
   "outputs": [],
   "source": [
    "svm = SVC(kernel=\"linear\", random_state=42).fit(X_train, y_train)"
   ],
   "metadata": {
    "collapsed": false,
    "pycharm": {
     "name": "#%%\n"
    }
   }
  },
  {
   "cell_type": "markdown",
   "source": [
    "6. Realiza las predicciones sobre los datos de prueba."
   ],
   "metadata": {
    "collapsed": false
   }
  },
  {
   "cell_type": "code",
   "execution_count": 14,
   "outputs": [],
   "source": [
    "predictions = svm.predict(X_test)"
   ],
   "metadata": {
    "collapsed": false,
    "pycharm": {
     "name": "#%%\n"
    }
   }
  },
  {
   "cell_type": "code",
   "execution_count": 15,
   "outputs": [
    {
     "data": {
      "text/plain": "array([0, 1, 0, 1, 0, 0, 1, 0, 0, 0, 0, 1, 0, 0, 0, 0, 1, 1, 0, 1, 0, 0,\n       0, 1, 0, 0, 0, 0, 1, 0, 0, 0, 1, 0, 1, 0, 0, 0, 0, 0, 0, 0, 0, 0,\n       0, 1, 0, 0, 0, 0, 0, 1, 0, 0, 0, 0, 1, 0, 0, 0, 0, 0, 1, 0, 0, 0,\n       1, 1, 0, 0, 1, 0, 0, 0, 0, 0, 1, 1, 0, 0, 0, 0, 1, 0, 1, 0, 0, 1,\n       0, 0, 1, 0, 0, 0, 0, 0, 1, 0, 1, 0, 1, 0, 0, 0, 0, 1, 0, 0, 1, 0,\n       0, 0, 1, 0, 1, 0, 0, 0, 0, 0], dtype=int64)"
     },
     "execution_count": 15,
     "metadata": {},
     "output_type": "execute_result"
    }
   ],
   "source": [
    "predictions"
   ],
   "metadata": {
    "collapsed": false,
    "pycharm": {
     "name": "#%%\n"
    }
   }
  },
  {
   "cell_type": "markdown",
   "source": [
    "7. Visualiza los resultados mediante:\n",
    "\n",
    "* Matriz de confusión (`confusion_matrix`)\n",
    "* Reporte de clasificación (`classification_report`)\n",
    "* Gráfico de fronteras de decisión (¡Busca en notebooks anteriores!)"
   ],
   "metadata": {
    "collapsed": false,
    "pycharm": {
     "name": "#%% md\n"
    }
   }
  },
  {
   "cell_type": "code",
   "execution_count": 16,
   "outputs": [
    {
     "data": {
      "text/plain": "              precision  recall  f1-score  support\n0                  0.81    0.99      0.89    73.00\n1                  0.97    0.64      0.77    47.00\naccuracy           0.85    0.85      0.85     0.85\nmacro avg          0.89    0.81      0.83   120.00\nweighted avg       0.87    0.85      0.84   120.00",
      "text/html": "<div>\n<style scoped>\n    .dataframe tbody tr th:only-of-type {\n        vertical-align: middle;\n    }\n\n    .dataframe tbody tr th {\n        vertical-align: top;\n    }\n\n    .dataframe thead th {\n        text-align: right;\n    }\n</style>\n<table border=\"1\" class=\"dataframe\">\n  <thead>\n    <tr style=\"text-align: right;\">\n      <th></th>\n      <th>precision</th>\n      <th>recall</th>\n      <th>f1-score</th>\n      <th>support</th>\n    </tr>\n  </thead>\n  <tbody>\n    <tr>\n      <th>0</th>\n      <td>0.81</td>\n      <td>0.99</td>\n      <td>0.89</td>\n      <td>73.00</td>\n    </tr>\n    <tr>\n      <th>1</th>\n      <td>0.97</td>\n      <td>0.64</td>\n      <td>0.77</td>\n      <td>47.00</td>\n    </tr>\n    <tr>\n      <th>accuracy</th>\n      <td>0.85</td>\n      <td>0.85</td>\n      <td>0.85</td>\n      <td>0.85</td>\n    </tr>\n    <tr>\n      <th>macro avg</th>\n      <td>0.89</td>\n      <td>0.81</td>\n      <td>0.83</td>\n      <td>120.00</td>\n    </tr>\n    <tr>\n      <th>weighted avg</th>\n      <td>0.87</td>\n      <td>0.85</td>\n      <td>0.84</td>\n      <td>120.00</td>\n    </tr>\n  </tbody>\n</table>\n</div>"
     },
     "execution_count": 16,
     "metadata": {},
     "output_type": "execute_result"
    }
   ],
   "source": [
    "evaluation = ModelEvaluation(observed=y_test, predicted=predictions)\n",
    "evaluation.generate_report()"
   ],
   "metadata": {
    "collapsed": false,
    "pycharm": {
     "name": "#%%\n"
    }
   }
  },
  {
   "cell_type": "code",
   "execution_count": 18,
   "outputs": [
    {
     "name": "stdout",
     "output_type": "stream",
     "text": [
      "El AUC es: 0.81\n",
      "El accuracy es: 0.85\n",
      "La precision es: 0.87\n",
      "El recall es: 0.85\n",
      "El F1 Score es: 0.84 \n",
      "\n"
     ]
    },
    {
     "data": {
      "text/plain": "Predicted   0   1\nObserved         \n0          72   1\n1          17  30",
      "text/html": "<div>\n<style scoped>\n    .dataframe tbody tr th:only-of-type {\n        vertical-align: middle;\n    }\n\n    .dataframe tbody tr th {\n        vertical-align: top;\n    }\n\n    .dataframe thead th {\n        text-align: right;\n    }\n</style>\n<table border=\"1\" class=\"dataframe\">\n  <thead>\n    <tr style=\"text-align: right;\">\n      <th>Predicted</th>\n      <th>0</th>\n      <th>1</th>\n    </tr>\n    <tr>\n      <th>Observed</th>\n      <th></th>\n      <th></th>\n    </tr>\n  </thead>\n  <tbody>\n    <tr>\n      <th>0</th>\n      <td>72</td>\n      <td>1</td>\n    </tr>\n    <tr>\n      <th>1</th>\n      <td>17</td>\n      <td>30</td>\n    </tr>\n  </tbody>\n</table>\n</div>"
     },
     "execution_count": 18,
     "metadata": {},
     "output_type": "execute_result"
    }
   ],
   "source": [
    "evaluation.print_metrics()\n",
    "evaluation.confusion_matrix(normalize=False)"
   ],
   "metadata": {
    "collapsed": false,
    "pycharm": {
     "name": "#%%\n"
    }
   }
  },
  {
   "cell_type": "code",
   "execution_count": 19,
   "outputs": [
    {
     "data": {
      "text/plain": "[<matplotlib.lines.Line2D at 0x1e133425220>,\n <matplotlib.lines.Line2D at 0x1e133425520>]"
     },
     "execution_count": 19,
     "metadata": {},
     "output_type": "execute_result"
    },
    {
     "data": {
      "text/plain": "<Figure size 432x288 with 1 Axes>",
      "image/png": "[encoded data removed]"
     },
     "metadata": {},
     "output_type": "display_data"
    }
   ],
   "source": [
    "mglearn.plots.plot_2d_separator(classifier=svm, X=X_train)\n",
    "mglearn.discrete_scatter(x1=X_train[:, 0], x2=X_train[:, 1], y=y_train)"
   ],
   "metadata": {
    "collapsed": false,
    "pycharm": {
     "name": "#%%\n"
    }
   }
  },
  {
   "cell_type": "code",
   "execution_count": 20,
   "outputs": [
    {
     "data": {
      "text/plain": "[<matplotlib.lines.Line2D at 0x1e1334d1430>,\n <matplotlib.lines.Line2D at 0x1e1334d17c0>]"
     },
     "execution_count": 20,
     "metadata": {},
     "output_type": "execute_result"
    },
    {
     "data": {
      "text/plain": "<Figure size 432x288 with 1 Axes>",
      "image/png": "[encoded data removed]"
     },
     "metadata": {},
     "output_type": "display_data"
    }
   ],
   "source": [
    "mglearn.plots.plot_2d_separator(classifier=svm, X=X_test)\n",
    "mglearn.discrete_scatter(x1=X_test[:, 0], x2=X_test[:, 1], y=y_test)"
   ],
   "metadata": {
    "collapsed": false,
    "pycharm": {
     "name": "#%%\n"
    }
   }
  },
  {
   "cell_type": "code",
   "execution_count": null,
   "outputs": [],
   "source": [],
   "metadata": {
    "collapsed": false,
    "pycharm": {
     "name": "#%%\n"
    }
   }
  }
 ],
 "metadata": {
  "kernelspec": {
   "display_name": "Python 3",
   "language": "python",
   "name": "python3"
  },
  "language_info": {
   "codemirror_mode": {
    "name": "ipython",
    "version": 2
   },
   "file_extension": ".py",
   "mimetype": "text/x-python",
   "name": "python",
   "nbconvert_exporter": "python",
   "pygments_lexer": "ipython2",
   "version": "2.7.6"
  }
 },
 "nbformat": 4,
 "nbformat_minor": 0
}