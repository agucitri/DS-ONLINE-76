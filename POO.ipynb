{
 "nbformat": 4,
 "nbformat_minor": 0,
 "metadata": {
  "colab": {
   "name": "POO.ipynb",
   "provenance": [],
   "collapsed_sections": []
  },
  "kernelspec": {
   "name": "python3",
   "display_name": "Python 3"
  },
  "language_info": {
   "name": "python"
  }
 },
 "cells": [
  {
   "cell_type": "markdown",
   "metadata": {
    "id": "Fa2IHUdW8vrK"
   },
   "source": [
    "## Programación orientada a objetos\n",
    "\n",
    "La POO es un paradigma de programación. Se basa en interacciones de objetos para resolver las necesidades de un sistema informático.\n",
    "\n",
    "### Elementos de la POO\n",
    "\n",
    "Los elementos de la POO, son simplemente los materiales que necesitamos para diseñar un objeto\n",
    "\n",
    "#### Clases\n",
    "\n",
    "Las clases son los modelos sobre los cuáles se construirán nuestros objetos. Piense en una clase simplemente como una plantilla para crear objetos en Python."
   ]
  },
  {
   "cell_type": "code",
   "execution_count": null,
   "outputs": [],
   "source": [],
   "metadata": {
    "collapsed": false,
    "pycharm": {
     "name": "#%%\n"
    }
   }
  },
  {
   "cell_type": "markdown",
   "metadata": {
    "id": "BHxVFz9G9uqg"
   },
   "source": [
    "#### Atributos\n",
    "\n",
    "Son características intrínsecas del objeto. Estás se representan en modo de variables, solo que técnicamente pasan a denominarse atributos."
   ]
  },
  {
   "cell_type": "code",
   "execution_count": null,
   "outputs": [],
   "source": [],
   "metadata": {
    "collapsed": false,
    "pycharm": {
     "name": "#%%\n"
    }
   }
  },
  {
   "cell_type": "markdown",
   "metadata": {
    "id": "8U1CwNSd9z_2"
   },
   "source": [
    "#### Métodos\n",
    "\n",
    "Los métodos son funciones, solo que técnicamente se denominan métodos, y representan acciones propias que puede realizar el objeto."
   ]
  },
  {
   "cell_type": "code",
   "execution_count": null,
   "outputs": [],
   "source": [],
   "metadata": {
    "collapsed": false,
    "pycharm": {
     "name": "#%%\n"
    }
   }
  },
  {
   "cell_type": "markdown",
   "metadata": {
    "id": "v8UDlXpw-A8A"
   },
   "source": [
    "#### Herencia\n",
    "\n",
    "Algunos objetos comparten los mismos atributos y métodos que otro objeto, y además agregan nuevos atributos y métodos. A esto se le denomina herencia: una clase que hereda de otra."
   ]
  },
  {
   "cell_type": "code",
   "execution_count": null,
   "outputs": [],
   "source": [],
   "metadata": {
    "collapsed": false,
    "pycharm": {
     "name": "#%%\n"
    }
   }
  },
  {
   "cell_type": "markdown",
   "metadata": {
    "id": "6_24Gr6_LtkA",
    "pycharm": {
     "name": "#%% md\n"
    }
   },
   "source": [
    "#### Polimorfismo\n",
    "\n",
    "El término polimorfismo tiene origen en las palabras poly (muchos) y morfo (formas), y aplicado a la programación hace referencia a que los objetos pueden tomar diferentes formas.\n",
    "\n",
    "Pues bien, significa que objetos de diferentes clases pueden ser accedidos utilizando el mismo interfaz, mostrando un comportamiento distinto (tomando diferentes formas) según cómo sean accedidos."
   ]
  },
  {
   "cell_type": "code",
   "execution_count": null,
   "outputs": [],
   "source": [],
   "metadata": {
    "collapsed": false,
    "pycharm": {
     "name": "#%%"
    }
   }
  }
 ]
}