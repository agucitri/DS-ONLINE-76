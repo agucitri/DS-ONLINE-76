{
 "cells": [
  {
   "cell_type": "markdown",
   "metadata": {
    "collapsed": true,
    "pycharm": {
     "name": "#%% md\n"
    }
   },
   "source": [
    "## Entendimiento de los datos\n",
    "\n",
    "Vamos a trabajar con el conjunto de datos Churn-Modeling descargado de ***Kaggle***. Este conjunto de datos contiene detalles de los clientes de un banco y la variable objetivo es una variable binaria que refleja el hecho de si el cliente dejó el banco (cerró su cuenta) o si continúa siendo un cliente.\n",
    "\n",
    "Las características capturan información sociodemográfica del cliente, información de productos financieros, el comportamiento y balance de su cuenta. Las características son las siguientes:\n",
    "\n",
    "* **CustomerId**: Id único para identificar el cliente.\n",
    "* **Surname**: Apellido del cliente.\n",
    "* **CreditScore**: Puntaje de crédito del cliente.\n",
    "* **Geography**: País al que pertenece el cliente.\n",
    "* **Gender**: Genero.\n",
    "* **Age**: Edad.\n",
    "* **Tenure**: Número de años que el cliente ha estado en el banco.\n",
    "* **Balance**: Saldo bancario del cliente.\n",
    "* **NumOfProducts**: Número de productos bancarios que utiliza el cliente.\n",
    "* **HasCrCard**: Si el cliente tiene tarjeta de crédito con el banco.\n",
    "* **IsActiveMember**: Si el cliente es miembro activo del banco o no.\n",
    "* **EstimatedSalary**: Salario estimado en dólares.\n",
    "* **Exited**: 1-Si el cliente cerró la cuenta con el banco; 0-Si el cliente es retenido."
   ]
  },
  {
   "cell_type": "code",
   "execution_count": 1,
   "outputs": [],
   "source": [
    "import warnings\n",
    "import pandas as pd\n",
    "from sklearn.impute import SimpleImputer\n",
    "from sklearn.pipeline import make_pipeline\n",
    "from sklearn.tree import DecisionTreeClassifier\n",
    "from sklearn.neighbors import KNeighborsClassifier\n",
    "from sklearn.preprocessing import StandardScaler\n",
    "from sklearn.model_selection import train_test_split\n",
    "from sklearn.model_selection import cross_val_score, GridSearchCV\n",
    "\n",
    "warnings.filterwarnings(action=\"ignore\")"
   ],
   "metadata": {
    "collapsed": false,
    "pycharm": {
     "name": "#%%\n"
    }
   }
  },
  {
   "cell_type": "code",
   "execution_count": 2,
   "outputs": [
    {
     "data": {
      "text/plain": "  CustomerId   Surname  CreditScore Geography  Gender  Age  Tenure    Balance  \\\n0   15634602  Hargrave          619    France  Female   42       2       0.00   \n1   15647311      Hill          608     Spain  Female   41       1   83807.86   \n2   15619304      Onio          502    France  Female   42       8  159660.80   \n3   15701354      Boni          699    France  Female   39       1       0.00   \n4   15737888  Mitchell          850     Spain  Female   43       2  125510.82   \n\n   NumOfProducts HasCrCard IsActiveMember  EstimatedSalary  Exited  \n0              1       Yes            Yes        101348.88       1  \n1              1        No            Yes        112542.58       0  \n2              3       Yes             No        113931.57       1  \n3              2        No             No         93826.63       0  \n4              1       Yes            Yes         79084.10       0  ",
      "text/html": "<div>\n<style scoped>\n    .dataframe tbody tr th:only-of-type {\n        vertical-align: middle;\n    }\n\n    .dataframe tbody tr th {\n        vertical-align: top;\n    }\n\n    .dataframe thead th {\n        text-align: right;\n    }\n</style>\n<table border=\"1\" class=\"dataframe\">\n  <thead>\n    <tr style=\"text-align: right;\">\n      <th></th>\n      <th>CustomerId</th>\n      <th>Surname</th>\n      <th>CreditScore</th>\n      <th>Geography</th>\n      <th>Gender</th>\n      <th>Age</th>\n      <th>Tenure</th>\n      <th>Balance</th>\n      <th>NumOfProducts</th>\n      <th>HasCrCard</th>\n      <th>IsActiveMember</th>\n      <th>EstimatedSalary</th>\n      <th>Exited</th>\n    </tr>\n  </thead>\n  <tbody>\n    <tr>\n      <th>0</th>\n      <td>15634602</td>\n      <td>Hargrave</td>\n      <td>619</td>\n      <td>France</td>\n      <td>Female</td>\n      <td>42</td>\n      <td>2</td>\n      <td>0.00</td>\n      <td>1</td>\n      <td>Yes</td>\n      <td>Yes</td>\n      <td>101348.88</td>\n      <td>1</td>\n    </tr>\n    <tr>\n      <th>1</th>\n      <td>15647311</td>\n      <td>Hill</td>\n      <td>608</td>\n      <td>Spain</td>\n      <td>Female</td>\n      <td>41</td>\n      <td>1</td>\n      <td>83807.86</td>\n      <td>1</td>\n      <td>No</td>\n      <td>Yes</td>\n      <td>112542.58</td>\n      <td>0</td>\n    </tr>\n    <tr>\n      <th>2</th>\n      <td>15619304</td>\n      <td>Onio</td>\n      <td>502</td>\n      <td>France</td>\n      <td>Female</td>\n      <td>42</td>\n      <td>8</td>\n      <td>159660.80</td>\n      <td>3</td>\n      <td>Yes</td>\n      <td>No</td>\n      <td>113931.57</td>\n      <td>1</td>\n    </tr>\n    <tr>\n      <th>3</th>\n      <td>15701354</td>\n      <td>Boni</td>\n      <td>699</td>\n      <td>France</td>\n      <td>Female</td>\n      <td>39</td>\n      <td>1</td>\n      <td>0.00</td>\n      <td>2</td>\n      <td>No</td>\n      <td>No</td>\n      <td>93826.63</td>\n      <td>0</td>\n    </tr>\n    <tr>\n      <th>4</th>\n      <td>15737888</td>\n      <td>Mitchell</td>\n      <td>850</td>\n      <td>Spain</td>\n      <td>Female</td>\n      <td>43</td>\n      <td>2</td>\n      <td>125510.82</td>\n      <td>1</td>\n      <td>Yes</td>\n      <td>Yes</td>\n      <td>79084.10</td>\n      <td>0</td>\n    </tr>\n  </tbody>\n</table>\n</div>"
     },
     "execution_count": 2,
     "metadata": {},
     "output_type": "execute_result"
    }
   ],
   "source": [
    "churn = pd.read_csv(\"https://raw.githubusercontent.com/stivenlopezg/DS-ONLINE-76/master/data/churn-modeling.csv\",dtype={\"CustomerId\": \"category\"})\n",
    "churn.head()"
   ],
   "metadata": {
    "collapsed": false,
    "pycharm": {
     "name": "#%%\n"
    }
   }
  },
  {
   "cell_type": "markdown",
   "source": [
    "### Preprocesamiento"
   ],
   "metadata": {
    "collapsed": false,
    "pycharm": {
     "name": "#%% md\n"
    }
   }
  },
  {
   "cell_type": "code",
   "execution_count": 3,
   "outputs": [],
   "source": [
    "cols_to_drop = [\"CustomerId\", \"Surname\"]\n",
    "\n",
    "churn.drop(labels=cols_to_drop, axis=\"columns\", inplace=True)\n",
    "\n",
    "numerical_features = churn.select_dtypes(include=\"number\").columns.tolist()\n",
    "categorical_features = churn.select_dtypes(exclude=\"number\").columns.tolist()\n",
    "\n",
    "numerical_features.remove(\"Exited\")"
   ],
   "metadata": {
    "collapsed": false,
    "pycharm": {
     "name": "#%%\n"
    }
   }
  },
  {
   "cell_type": "code",
   "execution_count": 4,
   "outputs": [],
   "source": [
    "exited = churn.pop(\"Exited\")\n",
    "\n",
    "X_train, X_test, y_train, y_test = train_test_split(churn, exited,\n",
    "                                                    test_size=0.3, random_state=42)"
   ],
   "metadata": {
    "collapsed": false,
    "pycharm": {
     "name": "#%%\n"
    }
   }
  },
  {
   "cell_type": "code",
   "execution_count": 5,
   "outputs": [],
   "source": [
    "numeric_preprocessing = make_pipeline(SimpleImputer(strategy='median'), StandardScaler())\n",
    "\n",
    "categoric_preprocessing = make_pipeline(SimpleImputer(strategy=\"most_frequent\"))"
   ],
   "metadata": {
    "collapsed": false,
    "pycharm": {
     "name": "#%%\n"
    }
   }
  },
  {
   "cell_type": "code",
   "execution_count": 6,
   "outputs": [
    {
     "data": {
      "text/plain": "      CreditScore       Age    Tenure   Balance  NumOfProducts  \\\n9069    -0.344595 -0.656750 -0.342170  1.583725       0.819663   \n2603    -0.095181 -0.466380  0.698162  1.344106      -0.903352   \n7738    -0.947345 -0.561565  0.351385 -1.222055       0.819663   \n1579    -0.354987  0.199916  1.044940 -0.618965      -0.903352   \n5058     0.642668 -0.180824  1.391718  1.152808       0.819663   \n\n      EstimatedSalary  Geography_France  Geography_Germany  Geography_Spain  \\\n9069         1.248986                 0                  0                1   \n2603         1.522114                 0                  1                0   \n7738         1.264394                 1                  0                0   \n1579         1.647781                 0                  1                0   \n5058         0.875726                 1                  0                0   \n\n      Gender_Female  Gender_Male  HasCrCard_No  HasCrCard_Yes  \\\n9069              1            0             0              1   \n2603              1            0             1              0   \n7738              0            1             1              0   \n1579              0            1             0              1   \n5058              0            1             1              0   \n\n      IsActiveMember_No  IsActiveMember_Yes  \n9069                  0                   1  \n2603                  0                   1  \n7738                  1                   0  \n1579                  0                   1  \n5058                  0                   1  ",
      "text/html": "<div>\n<style scoped>\n    .dataframe tbody tr th:only-of-type {\n        vertical-align: middle;\n    }\n\n    .dataframe tbody tr th {\n        vertical-align: top;\n    }\n\n    .dataframe thead th {\n        text-align: right;\n    }\n</style>\n<table border=\"1\" class=\"dataframe\">\n  <thead>\n    <tr style=\"text-align: right;\">\n      <th></th>\n      <th>CreditScore</th>\n      <th>Age</th>\n      <th>Tenure</th>\n      <th>Balance</th>\n      <th>NumOfProducts</th>\n      <th>EstimatedSalary</th>\n      <th>Geography_France</th>\n      <th>Geography_Germany</th>\n      <th>Geography_Spain</th>\n      <th>Gender_Female</th>\n      <th>Gender_Male</th>\n      <th>HasCrCard_No</th>\n      <th>HasCrCard_Yes</th>\n      <th>IsActiveMember_No</th>\n      <th>IsActiveMember_Yes</th>\n    </tr>\n  </thead>\n  <tbody>\n    <tr>\n      <th>9069</th>\n      <td>-0.344595</td>\n      <td>-0.656750</td>\n      <td>-0.342170</td>\n      <td>1.583725</td>\n      <td>0.819663</td>\n      <td>1.248986</td>\n      <td>0</td>\n      <td>0</td>\n      <td>1</td>\n      <td>1</td>\n      <td>0</td>\n      <td>0</td>\n      <td>1</td>\n      <td>0</td>\n      <td>1</td>\n    </tr>\n    <tr>\n      <th>2603</th>\n      <td>-0.095181</td>\n      <td>-0.466380</td>\n      <td>0.698162</td>\n      <td>1.344106</td>\n      <td>-0.903352</td>\n      <td>1.522114</td>\n      <td>0</td>\n      <td>1</td>\n      <td>0</td>\n      <td>1</td>\n      <td>0</td>\n      <td>1</td>\n      <td>0</td>\n      <td>0</td>\n      <td>1</td>\n    </tr>\n    <tr>\n      <th>7738</th>\n      <td>-0.947345</td>\n      <td>-0.561565</td>\n      <td>0.351385</td>\n      <td>-1.222055</td>\n      <td>0.819663</td>\n      <td>1.264394</td>\n      <td>1</td>\n      <td>0</td>\n      <td>0</td>\n      <td>0</td>\n      <td>1</td>\n      <td>1</td>\n      <td>0</td>\n      <td>1</td>\n      <td>0</td>\n    </tr>\n    <tr>\n      <th>1579</th>\n      <td>-0.354987</td>\n      <td>0.199916</td>\n      <td>1.044940</td>\n      <td>-0.618965</td>\n      <td>-0.903352</td>\n      <td>1.647781</td>\n      <td>0</td>\n      <td>1</td>\n      <td>0</td>\n      <td>0</td>\n      <td>1</td>\n      <td>0</td>\n      <td>1</td>\n      <td>0</td>\n      <td>1</td>\n    </tr>\n    <tr>\n      <th>5058</th>\n      <td>0.642668</td>\n      <td>-0.180824</td>\n      <td>1.391718</td>\n      <td>1.152808</td>\n      <td>0.819663</td>\n      <td>0.875726</td>\n      <td>1</td>\n      <td>0</td>\n      <td>0</td>\n      <td>0</td>\n      <td>1</td>\n      <td>1</td>\n      <td>0</td>\n      <td>0</td>\n      <td>1</td>\n    </tr>\n  </tbody>\n</table>\n</div>"
     },
     "execution_count": 6,
     "metadata": {},
     "output_type": "execute_result"
    }
   ],
   "source": [
    "X_train.loc[:, numerical_features] = numeric_preprocessing.fit_transform(X_train[numerical_features])\n",
    "X_train.loc[:, categorical_features] = categoric_preprocessing.fit_transform(X_train[categorical_features])\n",
    "\n",
    "X_train = pd.get_dummies(data=X_train, columns=categorical_features)\n",
    "\n",
    "X_train.head()"
   ],
   "metadata": {
    "collapsed": false,
    "pycharm": {
     "name": "#%%\n"
    }
   }
  },
  {
   "cell_type": "code",
   "execution_count": 7,
   "outputs": [
    {
     "data": {
      "text/plain": "      CreditScore       Age    Tenure   Balance  NumOfProducts  \\\n6252    -0.583617 -0.656750 -0.688948  0.324894       0.819663   \n4684    -0.303026  0.390286 -1.382503 -1.222055       0.819663   \n1731    -0.531655  0.485471 -0.342170 -1.222055       0.819663   \n4742    -1.518919  1.913248  1.044940  0.683891       0.819663   \n4521    -0.957737 -1.132675  0.698162  0.777369      -0.903352   \n\n      EstimatedSalary  Geography_France  Geography_Germany  Geography_Spain  \\\n6252        -1.024156                 1                  0                0   \n4684         0.790674                 1                  0                0   \n1731        -0.733117                 1                  0                0   \n4742         1.212328                 1                  0                0   \n4521         0.240460                 1                  0                0   \n\n      Gender_Female  Gender_Male  HasCrCard_No  HasCrCard_Yes  \\\n6252              0            1             1              0   \n4684              0            1             0              1   \n1731              1            0             0              1   \n4742              0            1             0              1   \n4521              1            0             0              1   \n\n      IsActiveMember_No  IsActiveMember_Yes  \n6252                  1                   0  \n4684                  0                   1  \n1731                  1                   0  \n4742                  0                   1  \n4521                  0                   1  ",
      "text/html": "<div>\n<style scoped>\n    .dataframe tbody tr th:only-of-type {\n        vertical-align: middle;\n    }\n\n    .dataframe tbody tr th {\n        vertical-align: top;\n    }\n\n    .dataframe thead th {\n        text-align: right;\n    }\n</style>\n<table border=\"1\" class=\"dataframe\">\n  <thead>\n    <tr style=\"text-align: right;\">\n      <th></th>\n      <th>CreditScore</th>\n      <th>Age</th>\n      <th>Tenure</th>\n      <th>Balance</th>\n      <th>NumOfProducts</th>\n      <th>EstimatedSalary</th>\n      <th>Geography_France</th>\n      <th>Geography_Germany</th>\n      <th>Geography_Spain</th>\n      <th>Gender_Female</th>\n      <th>Gender_Male</th>\n      <th>HasCrCard_No</th>\n      <th>HasCrCard_Yes</th>\n      <th>IsActiveMember_No</th>\n      <th>IsActiveMember_Yes</th>\n    </tr>\n  </thead>\n  <tbody>\n    <tr>\n      <th>6252</th>\n      <td>-0.583617</td>\n      <td>-0.656750</td>\n      <td>-0.688948</td>\n      <td>0.324894</td>\n      <td>0.819663</td>\n      <td>-1.024156</td>\n      <td>1</td>\n      <td>0</td>\n      <td>0</td>\n      <td>0</td>\n      <td>1</td>\n      <td>1</td>\n      <td>0</td>\n      <td>1</td>\n      <td>0</td>\n    </tr>\n    <tr>\n      <th>4684</th>\n      <td>-0.303026</td>\n      <td>0.390286</td>\n      <td>-1.382503</td>\n      <td>-1.222055</td>\n      <td>0.819663</td>\n      <td>0.790674</td>\n      <td>1</td>\n      <td>0</td>\n      <td>0</td>\n      <td>0</td>\n      <td>1</td>\n      <td>0</td>\n      <td>1</td>\n      <td>0</td>\n      <td>1</td>\n    </tr>\n    <tr>\n      <th>1731</th>\n      <td>-0.531655</td>\n      <td>0.485471</td>\n      <td>-0.342170</td>\n      <td>-1.222055</td>\n      <td>0.819663</td>\n      <td>-0.733117</td>\n      <td>1</td>\n      <td>0</td>\n      <td>0</td>\n      <td>1</td>\n      <td>0</td>\n      <td>0</td>\n      <td>1</td>\n      <td>1</td>\n      <td>0</td>\n    </tr>\n    <tr>\n      <th>4742</th>\n      <td>-1.518919</td>\n      <td>1.913248</td>\n      <td>1.044940</td>\n      <td>0.683891</td>\n      <td>0.819663</td>\n      <td>1.212328</td>\n      <td>1</td>\n      <td>0</td>\n      <td>0</td>\n      <td>0</td>\n      <td>1</td>\n      <td>0</td>\n      <td>1</td>\n      <td>0</td>\n      <td>1</td>\n    </tr>\n    <tr>\n      <th>4521</th>\n      <td>-0.957737</td>\n      <td>-1.132675</td>\n      <td>0.698162</td>\n      <td>0.777369</td>\n      <td>-0.903352</td>\n      <td>0.240460</td>\n      <td>1</td>\n      <td>0</td>\n      <td>0</td>\n      <td>1</td>\n      <td>0</td>\n      <td>0</td>\n      <td>1</td>\n      <td>0</td>\n      <td>1</td>\n    </tr>\n  </tbody>\n</table>\n</div>"
     },
     "execution_count": 7,
     "metadata": {},
     "output_type": "execute_result"
    }
   ],
   "source": [
    "X_test.loc[:, numerical_features] = numeric_preprocessing.transform(X_test[numerical_features])\n",
    "X_test.loc[:, categorical_features] = categoric_preprocessing.transform(X_test[categorical_features])\n",
    "\n",
    "X_test = pd.get_dummies(data=X_test, columns=categorical_features)\n",
    "\n",
    "X_test.head()"
   ],
   "metadata": {
    "collapsed": false,
    "pycharm": {
     "name": "#%%\n"
    }
   }
  },
  {
   "cell_type": "code",
   "execution_count": 8,
   "outputs": [],
   "source": [
    "knn = KNeighborsClassifier()\n",
    "dtree = DecisionTreeClassifier()"
   ],
   "metadata": {
    "collapsed": false,
    "pycharm": {
     "name": "#%%\n"
    }
   }
  },
  {
   "cell_type": "code",
   "execution_count": 9,
   "outputs": [],
   "source": [
    "roc = {}\n",
    "\n",
    "roc[\"knn\"] = cross_val_score(estimator=knn,\n",
    "                             X=X_train, y=y_train, scoring=\"roc_auc\", cv=5)\n",
    "\n",
    "roc[\"dtree\"] = cross_val_score(estimator=dtree,\n",
    "                             X=X_train, y=y_train, scoring=\"roc_auc\", cv=5)\n"
   ],
   "metadata": {
    "collapsed": false,
    "pycharm": {
     "name": "#%%\n"
    }
   }
  },
  {
   "cell_type": "code",
   "execution_count": 10,
   "outputs": [
    {
     "data": {
      "text/plain": "        knn     dtree\n0  0.776979  0.677625\n1  0.805645  0.683791\n2  0.784893  0.697367\n3  0.797746  0.701087\n4  0.770708  0.682805",
      "text/html": "<div>\n<style scoped>\n    .dataframe tbody tr th:only-of-type {\n        vertical-align: middle;\n    }\n\n    .dataframe tbody tr th {\n        vertical-align: top;\n    }\n\n    .dataframe thead th {\n        text-align: right;\n    }\n</style>\n<table border=\"1\" class=\"dataframe\">\n  <thead>\n    <tr style=\"text-align: right;\">\n      <th></th>\n      <th>knn</th>\n      <th>dtree</th>\n    </tr>\n  </thead>\n  <tbody>\n    <tr>\n      <th>0</th>\n      <td>0.776979</td>\n      <td>0.677625</td>\n    </tr>\n    <tr>\n      <th>1</th>\n      <td>0.805645</td>\n      <td>0.683791</td>\n    </tr>\n    <tr>\n      <th>2</th>\n      <td>0.784893</td>\n      <td>0.697367</td>\n    </tr>\n    <tr>\n      <th>3</th>\n      <td>0.797746</td>\n      <td>0.701087</td>\n    </tr>\n    <tr>\n      <th>4</th>\n      <td>0.770708</td>\n      <td>0.682805</td>\n    </tr>\n  </tbody>\n</table>\n</div>"
     },
     "execution_count": 10,
     "metadata": {},
     "output_type": "execute_result"
    }
   ],
   "source": [
    "roc = pd.DataFrame.from_dict(roc)\n",
    "roc"
   ],
   "metadata": {
    "collapsed": false,
    "pycharm": {
     "name": "#%%\n"
    }
   }
  },
  {
   "cell_type": "code",
   "execution_count": 11,
   "outputs": [
    {
     "data": {
      "text/plain": "GridSearchCV(cv=5, estimator=KNeighborsClassifier(),\n             param_grid={'n_neighbors': [3, 5, 7],\n                         'weights': ['uniform', 'distance']},\n             scoring='roc_auc')"
     },
     "execution_count": 11,
     "metadata": {},
     "output_type": "execute_result"
    }
   ],
   "source": [
    "params = {\n",
    "    \"n_neighbors\": [3, 5, 7],\n",
    "    \"weights\": [\"uniform\", \"distance\"]\n",
    "}\n",
    "\n",
    "knn_cv = GridSearchCV(estimator=knn, param_grid=params, scoring=\"roc_auc\", cv=5)\n",
    "\n",
    "knn_cv.fit(X_train, y_train)"
   ],
   "metadata": {
    "collapsed": false,
    "pycharm": {
     "name": "#%%\n"
    }
   }
  },
  {
   "cell_type": "code",
   "execution_count": 13,
   "outputs": [
    {
     "data": {
      "text/plain": "0.8060228045607827"
     },
     "execution_count": 13,
     "metadata": {},
     "output_type": "execute_result"
    }
   ],
   "source": [
    "knn_cv.best_score_"
   ],
   "metadata": {
    "collapsed": false,
    "pycharm": {
     "name": "#%%\n"
    }
   }
  },
  {
   "cell_type": "code",
   "execution_count": 14,
   "outputs": [
    {
     "data": {
      "text/plain": "{'n_neighbors': 7, 'weights': 'distance'}"
     },
     "execution_count": 14,
     "metadata": {},
     "output_type": "execute_result"
    }
   ],
   "source": [
    "knn_cv.best_params_"
   ],
   "metadata": {
    "collapsed": false,
    "pycharm": {
     "name": "#%%\n"
    }
   }
  },
  {
   "cell_type": "code",
   "execution_count": 15,
   "outputs": [],
   "source": [
    "from sklearn.metrics import roc_auc_score"
   ],
   "metadata": {
    "collapsed": false,
    "pycharm": {
     "name": "#%%\n"
    }
   }
  },
  {
   "cell_type": "code",
   "execution_count": 16,
   "outputs": [
    {
     "name": "stdout",
     "output_type": "stream",
     "text": [
      "El AUC en test es: 0.688472398621065\n"
     ]
    }
   ],
   "source": [
    "model = knn_cv.best_estimator_\n",
    "\n",
    "prediction = model.predict(X_test)\n",
    "\n",
    "print(f\"El AUC en test es: {roc_auc_score(y_test, prediction)}\")"
   ],
   "metadata": {
    "collapsed": false,
    "pycharm": {
     "name": "#%%\n"
    }
   }
  },
  {
   "cell_type": "code",
   "execution_count": 18,
   "outputs": [
    {
     "data": {
      "text/plain": "   mean_fit_time  std_fit_time  mean_score_time  std_score_time  \\\n0       0.022870      0.000838         0.082444        0.016830   \n1       0.021799      0.000400         0.072520        0.002236   \n2       0.021365      0.000521         0.083085        0.002129   \n3       0.021192      0.000406         0.083005        0.003900   \n4       0.021456      0.000476         0.093259        0.002904   \n5       0.021400      0.000494         0.093730        0.001514   \n\n  param_n_neighbors param_weights                                     params  \\\n0                 3       uniform   {'n_neighbors': 3, 'weights': 'uniform'}   \n1                 3      distance  {'n_neighbors': 3, 'weights': 'distance'}   \n2                 5       uniform   {'n_neighbors': 5, 'weights': 'uniform'}   \n3                 5      distance  {'n_neighbors': 5, 'weights': 'distance'}   \n4                 7       uniform   {'n_neighbors': 7, 'weights': 'uniform'}   \n5                 7      distance  {'n_neighbors': 7, 'weights': 'distance'}   \n\n   split0_test_score  split1_test_score  split2_test_score  split3_test_score  \\\n0           0.744454           0.770481           0.771194           0.765381   \n1           0.744931           0.774352           0.771093           0.771157   \n2           0.776979           0.805645           0.784893           0.797746   \n3           0.778307           0.809928           0.789262           0.800843   \n4           0.783587           0.823597           0.798808           0.811471   \n5           0.787118           0.830067           0.802590           0.814480   \n\n   split4_test_score  mean_test_score  std_test_score  rank_test_score  \n0           0.729716         0.756245        0.016446                6  \n1           0.733392         0.758985        0.016634                5  \n2           0.770708         0.787194        0.012909                4  \n3           0.774543         0.790577        0.013336                3  \n4           0.792855         0.802064        0.014064                2  \n5           0.795859         0.806023        0.014981                1  ",
      "text/html": "<div>\n<style scoped>\n    .dataframe tbody tr th:only-of-type {\n        vertical-align: middle;\n    }\n\n    .dataframe tbody tr th {\n        vertical-align: top;\n    }\n\n    .dataframe thead th {\n        text-align: right;\n    }\n</style>\n<table border=\"1\" class=\"dataframe\">\n  <thead>\n    <tr style=\"text-align: right;\">\n      <th></th>\n      <th>mean_fit_time</th>\n      <th>std_fit_time</th>\n      <th>mean_score_time</th>\n      <th>std_score_time</th>\n      <th>param_n_neighbors</th>\n      <th>param_weights</th>\n      <th>params</th>\n      <th>split0_test_score</th>\n      <th>split1_test_score</th>\n      <th>split2_test_score</th>\n      <th>split3_test_score</th>\n      <th>split4_test_score</th>\n      <th>mean_test_score</th>\n      <th>std_test_score</th>\n      <th>rank_test_score</th>\n    </tr>\n  </thead>\n  <tbody>\n    <tr>\n      <th>0</th>\n      <td>0.022870</td>\n      <td>0.000838</td>\n      <td>0.082444</td>\n      <td>0.016830</td>\n      <td>3</td>\n      <td>uniform</td>\n      <td>{'n_neighbors': 3, 'weights': 'uniform'}</td>\n      <td>0.744454</td>\n      <td>0.770481</td>\n      <td>0.771194</td>\n      <td>0.765381</td>\n      <td>0.729716</td>\n      <td>0.756245</td>\n      <td>0.016446</td>\n      <td>6</td>\n    </tr>\n    <tr>\n      <th>1</th>\n      <td>0.021799</td>\n      <td>0.000400</td>\n      <td>0.072520</td>\n      <td>0.002236</td>\n      <td>3</td>\n      <td>distance</td>\n      <td>{'n_neighbors': 3, 'weights': 'distance'}</td>\n      <td>0.744931</td>\n      <td>0.774352</td>\n      <td>0.771093</td>\n      <td>0.771157</td>\n      <td>0.733392</td>\n      <td>0.758985</td>\n      <td>0.016634</td>\n      <td>5</td>\n    </tr>\n    <tr>\n      <th>2</th>\n      <td>0.021365</td>\n      <td>0.000521</td>\n      <td>0.083085</td>\n      <td>0.002129</td>\n      <td>5</td>\n      <td>uniform</td>\n      <td>{'n_neighbors': 5, 'weights': 'uniform'}</td>\n      <td>0.776979</td>\n      <td>0.805645</td>\n      <td>0.784893</td>\n      <td>0.797746</td>\n      <td>0.770708</td>\n      <td>0.787194</td>\n      <td>0.012909</td>\n      <td>4</td>\n    </tr>\n    <tr>\n      <th>3</th>\n      <td>0.021192</td>\n      <td>0.000406</td>\n      <td>0.083005</td>\n      <td>0.003900</td>\n      <td>5</td>\n      <td>distance</td>\n      <td>{'n_neighbors': 5, 'weights': 'distance'}</td>\n      <td>0.778307</td>\n      <td>0.809928</td>\n      <td>0.789262</td>\n      <td>0.800843</td>\n      <td>0.774543</td>\n      <td>0.790577</td>\n      <td>0.013336</td>\n      <td>3</td>\n    </tr>\n    <tr>\n      <th>4</th>\n      <td>0.021456</td>\n      <td>0.000476</td>\n      <td>0.093259</td>\n      <td>0.002904</td>\n      <td>7</td>\n      <td>uniform</td>\n      <td>{'n_neighbors': 7, 'weights': 'uniform'}</td>\n      <td>0.783587</td>\n      <td>0.823597</td>\n      <td>0.798808</td>\n      <td>0.811471</td>\n      <td>0.792855</td>\n      <td>0.802064</td>\n      <td>0.014064</td>\n      <td>2</td>\n    </tr>\n    <tr>\n      <th>5</th>\n      <td>0.021400</td>\n      <td>0.000494</td>\n      <td>0.093730</td>\n      <td>0.001514</td>\n      <td>7</td>\n      <td>distance</td>\n      <td>{'n_neighbors': 7, 'weights': 'distance'}</td>\n      <td>0.787118</td>\n      <td>0.830067</td>\n      <td>0.802590</td>\n      <td>0.814480</td>\n      <td>0.795859</td>\n      <td>0.806023</td>\n      <td>0.014981</td>\n      <td>1</td>\n    </tr>\n  </tbody>\n</table>\n</div>"
     },
     "execution_count": 18,
     "metadata": {},
     "output_type": "execute_result"
    }
   ],
   "source": [
    "pd.DataFrame.from_dict(knn_cv.cv_results_)"
   ],
   "metadata": {
    "collapsed": false,
    "pycharm": {
     "name": "#%%\n"
    }
   }
  },
  {
   "cell_type": "code",
   "execution_count": null,
   "outputs": [],
   "source": [],
   "metadata": {
    "collapsed": false,
    "pycharm": {
     "name": "#%%\n"
    }
   }
  }
 ],
 "metadata": {
  "kernelspec": {
   "display_name": "Python 3",
   "language": "python",
   "name": "python3"
  },
  "language_info": {
   "codemirror_mode": {
    "name": "ipython",
    "version": 2
   },
   "file_extension": ".py",
   "mimetype": "text/x-python",
   "name": "python",
   "nbconvert_exporter": "python",
   "pygments_lexer": "ipython2",
   "version": "2.7.6"
  }
 },
 "nbformat": 4,
 "nbformat_minor": 0
}