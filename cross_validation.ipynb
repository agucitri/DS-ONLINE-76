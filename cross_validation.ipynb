{
 "cells": [
  {
   "cell_type": "markdown",
   "metadata": {
    "collapsed": true,
    "pycharm": {
     "name": "#%% md\n"
    }
   },
   "source": [
    "## Entendimiento de los datos\n",
    "\n",
    "Vamos a trabajar con el conjunto de datos Churn-Modeling descargado de ***Kaggle***. Este conjunto de datos contiene detalles de los clientes de un banco y la variable objetivo es una variable binaria que refleja el hecho de si el cliente dejó el banco (cerró su cuenta) o si continúa siendo un cliente.\n",
    "\n",
    "Las características capturan información sociodemográfica del cliente, información de productos financieros, el comportamiento y balance de su cuenta. Las características son las siguientes:\n",
    "\n",
    "* **CustomerId**: Id único para identificar el cliente.\n",
    "* **Surname**: Apellido del cliente.\n",
    "* **CreditScore**: Puntaje de crédito del cliente.\n",
    "* **Geography**: País al que pertenece el cliente.\n",
    "* **Gender**: Genero.\n",
    "* **Age**: Edad.\n",
    "* **Tenure**: Número de años que el cliente ha estado en el banco.\n",
    "* **Balance**: Saldo bancario del cliente.\n",
    "* **NumOfProducts**: Número de productos bancarios que utiliza el cliente.\n",
    "* **HasCrCard**: Si el cliente tiene tarjeta de crédito con el banco.\n",
    "* **IsActiveMember**: Si el cliente es miembro activo del banco o no.\n",
    "* **EstimatedSalary**: Salario estimado en dólares.\n",
    "* **Exited**: 1-Si el cliente cerró la cuenta con el banco; 0-Si el cliente es retenido."
   ]
  },
  {
   "cell_type": "code",
   "execution_count": 1,
   "outputs": [],
   "source": [
    "import warnings\n",
    "import pandas as pd\n",
    "from sklearn.impute import SimpleImputer\n",
    "from sklearn.pipeline import make_pipeline\n",
    "from sklearn.preprocessing import StandardScaler\n",
    "from sklearn.model_selection import train_test_split\n",
    "\n",
    "warnings.filterwarnings(action=\"ignore\")"
   ],
   "metadata": {
    "collapsed": false,
    "pycharm": {
     "name": "#%%\n"
    }
   }
  },
  {
   "cell_type": "code",
   "execution_count": 2,
   "outputs": [
    {
     "data": {
      "text/plain": "  CustomerId   Surname  CreditScore Geography  Gender  Age  Tenure    Balance  \\\n0   15634602  Hargrave          619    France  Female   42       2       0.00   \n1   15647311      Hill          608     Spain  Female   41       1   83807.86   \n2   15619304      Onio          502    France  Female   42       8  159660.80   \n3   15701354      Boni          699    France  Female   39       1       0.00   \n4   15737888  Mitchell          850     Spain  Female   43       2  125510.82   \n\n   NumOfProducts HasCrCard IsActiveMember  EstimatedSalary  Exited  \n0              1       Yes            Yes        101348.88       1  \n1              1        No            Yes        112542.58       0  \n2              3       Yes             No        113931.57       1  \n3              2        No             No         93826.63       0  \n4              1       Yes            Yes         79084.10       0  ",
      "text/html": "<div>\n<style scoped>\n    .dataframe tbody tr th:only-of-type {\n        vertical-align: middle;\n    }\n\n    .dataframe tbody tr th {\n        vertical-align: top;\n    }\n\n    .dataframe thead th {\n        text-align: right;\n    }\n</style>\n<table border=\"1\" class=\"dataframe\">\n  <thead>\n    <tr style=\"text-align: right;\">\n      <th></th>\n      <th>CustomerId</th>\n      <th>Surname</th>\n      <th>CreditScore</th>\n      <th>Geography</th>\n      <th>Gender</th>\n      <th>Age</th>\n      <th>Tenure</th>\n      <th>Balance</th>\n      <th>NumOfProducts</th>\n      <th>HasCrCard</th>\n      <th>IsActiveMember</th>\n      <th>EstimatedSalary</th>\n      <th>Exited</th>\n    </tr>\n  </thead>\n  <tbody>\n    <tr>\n      <th>0</th>\n      <td>15634602</td>\n      <td>Hargrave</td>\n      <td>619</td>\n      <td>France</td>\n      <td>Female</td>\n      <td>42</td>\n      <td>2</td>\n      <td>0.00</td>\n      <td>1</td>\n      <td>Yes</td>\n      <td>Yes</td>\n      <td>101348.88</td>\n      <td>1</td>\n    </tr>\n    <tr>\n      <th>1</th>\n      <td>15647311</td>\n      <td>Hill</td>\n      <td>608</td>\n      <td>Spain</td>\n      <td>Female</td>\n      <td>41</td>\n      <td>1</td>\n      <td>83807.86</td>\n      <td>1</td>\n      <td>No</td>\n      <td>Yes</td>\n      <td>112542.58</td>\n      <td>0</td>\n    </tr>\n    <tr>\n      <th>2</th>\n      <td>15619304</td>\n      <td>Onio</td>\n      <td>502</td>\n      <td>France</td>\n      <td>Female</td>\n      <td>42</td>\n      <td>8</td>\n      <td>159660.80</td>\n      <td>3</td>\n      <td>Yes</td>\n      <td>No</td>\n      <td>113931.57</td>\n      <td>1</td>\n    </tr>\n    <tr>\n      <th>3</th>\n      <td>15701354</td>\n      <td>Boni</td>\n      <td>699</td>\n      <td>France</td>\n      <td>Female</td>\n      <td>39</td>\n      <td>1</td>\n      <td>0.00</td>\n      <td>2</td>\n      <td>No</td>\n      <td>No</td>\n      <td>93826.63</td>\n      <td>0</td>\n    </tr>\n    <tr>\n      <th>4</th>\n      <td>15737888</td>\n      <td>Mitchell</td>\n      <td>850</td>\n      <td>Spain</td>\n      <td>Female</td>\n      <td>43</td>\n      <td>2</td>\n      <td>125510.82</td>\n      <td>1</td>\n      <td>Yes</td>\n      <td>Yes</td>\n      <td>79084.10</td>\n      <td>0</td>\n    </tr>\n  </tbody>\n</table>\n</div>"
     },
     "execution_count": 2,
     "metadata": {},
     "output_type": "execute_result"
    }
   ],
   "source": [
    "churn = pd.read_csv(\"https://raw.githubusercontent.com/stivenlopezg/DS-ONLINE-76/master/data/churn-modeling.csv\",dtype={\"CustomerId\": \"category\"})\n",
    "churn.head()"
   ],
   "metadata": {
    "collapsed": false,
    "pycharm": {
     "name": "#%%\n"
    }
   }
  },
  {
   "cell_type": "markdown",
   "source": [
    "### Preprocesamiento"
   ],
   "metadata": {
    "collapsed": false,
    "pycharm": {
     "name": "#%% md\n"
    }
   }
  },
  {
   "cell_type": "code",
   "execution_count": 3,
   "outputs": [],
   "source": [
    "cols_to_drop = [\"CustomerId\", \"Surname\"]\n",
    "\n",
    "churn.drop(labels=cols_to_drop, axis=\"columns\", inplace=True)\n",
    "\n",
    "numerical_features = churn.select_dtypes(include=\"number\").columns.tolist()\n",
    "categorical_features = churn.select_dtypes(exclude=\"number\").columns.tolist()\n",
    "\n",
    "numerical_features.remove(\"Exited\")"
   ],
   "metadata": {
    "collapsed": false,
    "pycharm": {
     "name": "#%%\n"
    }
   }
  },
  {
   "cell_type": "code",
   "execution_count": 4,
   "outputs": [],
   "source": [
    "exited = churn.pop(\"Exited\")\n",
    "\n",
    "X_train, X_test, y_train, y_test = train_test_split(churn, exited,\n",
    "                                                    test_size=0.3, random_state=42)"
   ],
   "metadata": {
    "collapsed": false,
    "pycharm": {
     "name": "#%%\n"
    }
   }
  },
  {
   "cell_type": "code",
   "execution_count": 5,
   "outputs": [],
   "source": [
    "numeric_preprocessing = make_pipeline(SimpleImputer(strategy='median'), StandardScaler())\n",
    "\n",
    "categoric_preprocessing = make_pipeline(SimpleImputer(strategy=\"most_frequent\"))"
   ],
   "metadata": {
    "collapsed": false,
    "pycharm": {
     "name": "#%%\n"
    }
   }
  },
  {
   "cell_type": "code",
   "execution_count": 6,
   "outputs": [
    {
     "data": {
      "text/plain": "      CreditScore       Age    Tenure   Balance  NumOfProducts  \\\n9069    -0.344595 -0.656750 -0.342170  1.583725       0.819663   \n2603    -0.095181 -0.466380  0.698162  1.344106      -0.903352   \n7738    -0.947345 -0.561565  0.351385 -1.222055       0.819663   \n1579    -0.354987  0.199916  1.044940 -0.618965      -0.903352   \n5058     0.642668 -0.180824  1.391718  1.152808       0.819663   \n\n      EstimatedSalary  Geography_France  Geography_Germany  Geography_Spain  \\\n9069         1.248986                 0                  0                1   \n2603         1.522114                 0                  1                0   \n7738         1.264394                 1                  0                0   \n1579         1.647781                 0                  1                0   \n5058         0.875726                 1                  0                0   \n\n      Gender_Female  Gender_Male  HasCrCard_No  HasCrCard_Yes  \\\n9069              1            0             0              1   \n2603              1            0             1              0   \n7738              0            1             1              0   \n1579              0            1             0              1   \n5058              0            1             1              0   \n\n      IsActiveMember_No  IsActiveMember_Yes  \n9069                  0                   1  \n2603                  0                   1  \n7738                  1                   0  \n1579                  0                   1  \n5058                  0                   1  ",
      "text/html": "<div>\n<style scoped>\n    .dataframe tbody tr th:only-of-type {\n        vertical-align: middle;\n    }\n\n    .dataframe tbody tr th {\n        vertical-align: top;\n    }\n\n    .dataframe thead th {\n        text-align: right;\n    }\n</style>\n<table border=\"1\" class=\"dataframe\">\n  <thead>\n    <tr style=\"text-align: right;\">\n      <th></th>\n      <th>CreditScore</th>\n      <th>Age</th>\n      <th>Tenure</th>\n      <th>Balance</th>\n      <th>NumOfProducts</th>\n      <th>EstimatedSalary</th>\n      <th>Geography_France</th>\n      <th>Geography_Germany</th>\n      <th>Geography_Spain</th>\n      <th>Gender_Female</th>\n      <th>Gender_Male</th>\n      <th>HasCrCard_No</th>\n      <th>HasCrCard_Yes</th>\n      <th>IsActiveMember_No</th>\n      <th>IsActiveMember_Yes</th>\n    </tr>\n  </thead>\n  <tbody>\n    <tr>\n      <th>9069</th>\n      <td>-0.344595</td>\n      <td>-0.656750</td>\n      <td>-0.342170</td>\n      <td>1.583725</td>\n      <td>0.819663</td>\n      <td>1.248986</td>\n      <td>0</td>\n      <td>0</td>\n      <td>1</td>\n      <td>1</td>\n      <td>0</td>\n      <td>0</td>\n      <td>1</td>\n      <td>0</td>\n      <td>1</td>\n    </tr>\n    <tr>\n      <th>2603</th>\n      <td>-0.095181</td>\n      <td>-0.466380</td>\n      <td>0.698162</td>\n      <td>1.344106</td>\n      <td>-0.903352</td>\n      <td>1.522114</td>\n      <td>0</td>\n      <td>1</td>\n      <td>0</td>\n      <td>1</td>\n      <td>0</td>\n      <td>1</td>\n      <td>0</td>\n      <td>0</td>\n      <td>1</td>\n    </tr>\n    <tr>\n      <th>7738</th>\n      <td>-0.947345</td>\n      <td>-0.561565</td>\n      <td>0.351385</td>\n      <td>-1.222055</td>\n      <td>0.819663</td>\n      <td>1.264394</td>\n      <td>1</td>\n      <td>0</td>\n      <td>0</td>\n      <td>0</td>\n      <td>1</td>\n      <td>1</td>\n      <td>0</td>\n      <td>1</td>\n      <td>0</td>\n    </tr>\n    <tr>\n      <th>1579</th>\n      <td>-0.354987</td>\n      <td>0.199916</td>\n      <td>1.044940</td>\n      <td>-0.618965</td>\n      <td>-0.903352</td>\n      <td>1.647781</td>\n      <td>0</td>\n      <td>1</td>\n      <td>0</td>\n      <td>0</td>\n      <td>1</td>\n      <td>0</td>\n      <td>1</td>\n      <td>0</td>\n      <td>1</td>\n    </tr>\n    <tr>\n      <th>5058</th>\n      <td>0.642668</td>\n      <td>-0.180824</td>\n      <td>1.391718</td>\n      <td>1.152808</td>\n      <td>0.819663</td>\n      <td>0.875726</td>\n      <td>1</td>\n      <td>0</td>\n      <td>0</td>\n      <td>0</td>\n      <td>1</td>\n      <td>1</td>\n      <td>0</td>\n      <td>0</td>\n      <td>1</td>\n    </tr>\n  </tbody>\n</table>\n</div>"
     },
     "execution_count": 6,
     "metadata": {},
     "output_type": "execute_result"
    }
   ],
   "source": [
    "X_train.loc[:, numerical_features] = numeric_preprocessing.fit_transform(X_train[numerical_features])\n",
    "X_train.loc[:, categorical_features] = categoric_preprocessing.fit_transform(X_train[categorical_features])\n",
    "\n",
    "X_train = pd.get_dummies(data=X_train, columns=categorical_features)\n",
    "\n",
    "X_train.head()"
   ],
   "metadata": {
    "collapsed": false,
    "pycharm": {
     "name": "#%%\n"
    }
   }
  },
  {
   "cell_type": "code",
   "execution_count": 7,
   "outputs": [
    {
     "data": {
      "text/plain": "      CreditScore       Age    Tenure   Balance  NumOfProducts  \\\n6252    -0.583617 -0.656750 -0.688948  0.324894       0.819663   \n4684    -0.303026  0.390286 -1.382503 -1.222055       0.819663   \n1731    -0.531655  0.485471 -0.342170 -1.222055       0.819663   \n4742    -1.518919  1.913248  1.044940  0.683891       0.819663   \n4521    -0.957737 -1.132675  0.698162  0.777369      -0.903352   \n\n      EstimatedSalary  Geography_France  Geography_Germany  Geography_Spain  \\\n6252        -1.024156                 1                  0                0   \n4684         0.790674                 1                  0                0   \n1731        -0.733117                 1                  0                0   \n4742         1.212328                 1                  0                0   \n4521         0.240460                 1                  0                0   \n\n      Gender_Female  Gender_Male  HasCrCard_No  HasCrCard_Yes  \\\n6252              0            1             1              0   \n4684              0            1             0              1   \n1731              1            0             0              1   \n4742              0            1             0              1   \n4521              1            0             0              1   \n\n      IsActiveMember_No  IsActiveMember_Yes  \n6252                  1                   0  \n4684                  0                   1  \n1731                  1                   0  \n4742                  0                   1  \n4521                  0                   1  ",
      "text/html": "<div>\n<style scoped>\n    .dataframe tbody tr th:only-of-type {\n        vertical-align: middle;\n    }\n\n    .dataframe tbody tr th {\n        vertical-align: top;\n    }\n\n    .dataframe thead th {\n        text-align: right;\n    }\n</style>\n<table border=\"1\" class=\"dataframe\">\n  <thead>\n    <tr style=\"text-align: right;\">\n      <th></th>\n      <th>CreditScore</th>\n      <th>Age</th>\n      <th>Tenure</th>\n      <th>Balance</th>\n      <th>NumOfProducts</th>\n      <th>EstimatedSalary</th>\n      <th>Geography_France</th>\n      <th>Geography_Germany</th>\n      <th>Geography_Spain</th>\n      <th>Gender_Female</th>\n      <th>Gender_Male</th>\n      <th>HasCrCard_No</th>\n      <th>HasCrCard_Yes</th>\n      <th>IsActiveMember_No</th>\n      <th>IsActiveMember_Yes</th>\n    </tr>\n  </thead>\n  <tbody>\n    <tr>\n      <th>6252</th>\n      <td>-0.583617</td>\n      <td>-0.656750</td>\n      <td>-0.688948</td>\n      <td>0.324894</td>\n      <td>0.819663</td>\n      <td>-1.024156</td>\n      <td>1</td>\n      <td>0</td>\n      <td>0</td>\n      <td>0</td>\n      <td>1</td>\n      <td>1</td>\n      <td>0</td>\n      <td>1</td>\n      <td>0</td>\n    </tr>\n    <tr>\n      <th>4684</th>\n      <td>-0.303026</td>\n      <td>0.390286</td>\n      <td>-1.382503</td>\n      <td>-1.222055</td>\n      <td>0.819663</td>\n      <td>0.790674</td>\n      <td>1</td>\n      <td>0</td>\n      <td>0</td>\n      <td>0</td>\n      <td>1</td>\n      <td>0</td>\n      <td>1</td>\n      <td>0</td>\n      <td>1</td>\n    </tr>\n    <tr>\n      <th>1731</th>\n      <td>-0.531655</td>\n      <td>0.485471</td>\n      <td>-0.342170</td>\n      <td>-1.222055</td>\n      <td>0.819663</td>\n      <td>-0.733117</td>\n      <td>1</td>\n      <td>0</td>\n      <td>0</td>\n      <td>1</td>\n      <td>0</td>\n      <td>0</td>\n      <td>1</td>\n      <td>1</td>\n      <td>0</td>\n    </tr>\n    <tr>\n      <th>4742</th>\n      <td>-1.518919</td>\n      <td>1.913248</td>\n      <td>1.044940</td>\n      <td>0.683891</td>\n      <td>0.819663</td>\n      <td>1.212328</td>\n      <td>1</td>\n      <td>0</td>\n      <td>0</td>\n      <td>0</td>\n      <td>1</td>\n      <td>0</td>\n      <td>1</td>\n      <td>0</td>\n      <td>1</td>\n    </tr>\n    <tr>\n      <th>4521</th>\n      <td>-0.957737</td>\n      <td>-1.132675</td>\n      <td>0.698162</td>\n      <td>0.777369</td>\n      <td>-0.903352</td>\n      <td>0.240460</td>\n      <td>1</td>\n      <td>0</td>\n      <td>0</td>\n      <td>1</td>\n      <td>0</td>\n      <td>0</td>\n      <td>1</td>\n      <td>0</td>\n      <td>1</td>\n    </tr>\n  </tbody>\n</table>\n</div>"
     },
     "execution_count": 7,
     "metadata": {},
     "output_type": "execute_result"
    }
   ],
   "source": [
    "X_test.loc[:, numerical_features] = numeric_preprocessing.transform(X_test[numerical_features])\n",
    "X_test.loc[:, categorical_features] = categoric_preprocessing.transform(X_test[categorical_features])\n",
    "\n",
    "X_test = pd.get_dummies(data=X_test, columns=categorical_features)\n",
    "\n",
    "X_test.head()"
   ],
   "metadata": {
    "collapsed": false,
    "pycharm": {
     "name": "#%%\n"
    }
   }
  },
  {
   "cell_type": "markdown",
   "source": [],
   "metadata": {
    "collapsed": false,
    "pycharm": {
     "name": "#%% md\n"
    }
   }
  }
 ],
 "metadata": {
  "kernelspec": {
   "display_name": "Python 3",
   "language": "python",
   "name": "python3"
  },
  "language_info": {
   "codemirror_mode": {
    "name": "ipython",
    "version": 2
   },
   "file_extension": ".py",
   "mimetype": "text/x-python",
   "name": "python",
   "nbconvert_exporter": "python",
   "pygments_lexer": "ipython2",
   "version": "2.7.6"
  }
 },
 "nbformat": 4,
 "nbformat_minor": 0
}