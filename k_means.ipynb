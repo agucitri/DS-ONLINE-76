{
 "cells": [
  {
   "cell_type": "markdown",
   "source": [
    "## Tipos de aprendizaje\n",
    "\n",
    "* Aprendizaje supervisado\n",
    "    * Clasificación.\n",
    "        * Clasificación binaria.\n",
    "        * Clasificación multiclase.\n",
    "    * Regresión.\n",
    "\n",
    "* Aprendizaje no supervisado.\n",
    "    * Clustering.\n",
    "    * Reducción de la dimensionalidad.\n",
    "    * Detección de anomalías.\n",
    "\n",
    "* Aprendizaje semi-supervisado\n",
    "* Aprendizaje por refuerzo\n",
    "\n",
    "### Aprendizaje no supervisado\n",
    "\n",
    "Aunque la mayoría de las aplicaciones del Machine Learning se basan hoy en día en el aprendizaje supervisado (y, como resultado, es ahí donde se realizan las mayores inversiones), la inmensa mayoría de los datos disponibles no están etiquetados: tenemos las características de entrada ***X***, pero no tenemos las etiquetas ***y***.\n",
    "\n",
    "#### Clustering\n",
    "\n",
    "El clustering busca particionar el set de datos en grupos, los cuales son llamados *clusters*. El objetivo consiste en separar los datos de tal forma que los puntos dentro de un clúster sean muy similares y se diferencien con puntos de otros clusters.\n",
    "\n",
    "##### K-Means\n",
    "\n",
    "El algoritmo K-Means trata de encontrar los centros de los clusters que sean representativos de ciertas regiones de los datos. El algoritmo alterna tres pasos en su ejecución:\n",
    "\n",
    "1. Se determina un número de clusters.\n",
    "2. Busca alrededor de cada centro los puntos más cercanos.\n",
    "3. Recalcula el centro como el promedio de los puntos dentro de ese cluster.\n",
    "\n",
    "![SegmentLocal](https://media.giphy.com/media/12vVAGkaqHUqCQ/giphy.gif \"segment\")"
   ],
   "metadata": {
    "collapsed": false
   }
  },
  {
   "cell_type": "code",
   "execution_count": null,
   "outputs": [],
   "source": [
    "import mglearn\n",
    "import warnings\n",
    "import numpy as np\n",
    "import pandas as pd\n",
    "import matplotlib.pyplot as plt\n",
    "from sklearn.cluster import KMeans\n",
    "from sklearn.impute import SimpleImputer\n",
    "from sklearn.metrics import silhouette_score\n",
    "from sklearn.preprocessing import RobustScaler\n",
    "from yellowbrick.cluster import KElbowVisualizer, InterclusterDistance"
   ],
   "metadata": {
    "collapsed": false,
    "pycharm": {
     "name": "#%%\n"
    }
   }
  },
  {
   "cell_type": "code",
   "execution_count": null,
   "outputs": [],
   "source": [
    "mglearn.plots.plot_kmeans_algorithm()"
   ],
   "metadata": {
    "collapsed": false,
    "pycharm": {
     "name": "#%%\n"
    }
   }
  },
  {
   "cell_type": "code",
   "execution_count": 3,
   "outputs": [
    {
     "data": {
      "text/plain": "      mpg  cylinders  displacement  horsepower  weight  acceleration  \\\n127  19.0          6         232.0       100.0    2901          16.0   \n208  13.0          8         318.0       150.0    3940          13.2   \n324  40.8          4          85.0        65.0    2110          19.2   \n155  15.0          6         250.0        72.0    3158          19.5   \n\n     model_year origin                        name  \n127          74    usa                  amc hornet  \n208          76    usa  plymouth volare premier v8  \n324          80  japan                  datsun 210  \n155          75    usa               ford maverick  ",
      "text/html": "<div>\n<style scoped>\n    .dataframe tbody tr th:only-of-type {\n        vertical-align: middle;\n    }\n\n    .dataframe tbody tr th {\n        vertical-align: top;\n    }\n\n    .dataframe thead th {\n        text-align: right;\n    }\n</style>\n<table border=\"1\" class=\"dataframe\">\n  <thead>\n    <tr style=\"text-align: right;\">\n      <th></th>\n      <th>mpg</th>\n      <th>cylinders</th>\n      <th>displacement</th>\n      <th>horsepower</th>\n      <th>weight</th>\n      <th>acceleration</th>\n      <th>model_year</th>\n      <th>origin</th>\n      <th>name</th>\n    </tr>\n  </thead>\n  <tbody>\n    <tr>\n      <th>127</th>\n      <td>19.0</td>\n      <td>6</td>\n      <td>232.0</td>\n      <td>100.0</td>\n      <td>2901</td>\n      <td>16.0</td>\n      <td>74</td>\n      <td>usa</td>\n      <td>amc hornet</td>\n    </tr>\n    <tr>\n      <th>208</th>\n      <td>13.0</td>\n      <td>8</td>\n      <td>318.0</td>\n      <td>150.0</td>\n      <td>3940</td>\n      <td>13.2</td>\n      <td>76</td>\n      <td>usa</td>\n      <td>plymouth volare premier v8</td>\n    </tr>\n    <tr>\n      <th>324</th>\n      <td>40.8</td>\n      <td>4</td>\n      <td>85.0</td>\n      <td>65.0</td>\n      <td>2110</td>\n      <td>19.2</td>\n      <td>80</td>\n      <td>japan</td>\n      <td>datsun 210</td>\n    </tr>\n    <tr>\n      <th>155</th>\n      <td>15.0</td>\n      <td>6</td>\n      <td>250.0</td>\n      <td>72.0</td>\n      <td>3158</td>\n      <td>19.5</td>\n      <td>75</td>\n      <td>usa</td>\n      <td>ford maverick</td>\n    </tr>\n  </tbody>\n</table>\n</div>"
     },
     "execution_count": 3,
     "metadata": {},
     "output_type": "execute_result"
    }
   ],
   "source": [],
   "metadata": {
    "collapsed": false,
    "pycharm": {
     "name": "#%%\n"
    }
   }
  },
  {
   "cell_type": "markdown",
   "source": [
    "## Preprocesamiento\n",
    "\n",
    "* Eliminar las variables que no voy a usar\n",
    "* Tratar los datos missing\n",
    "* Escalar los datos numericos"
   ],
   "metadata": {
    "collapsed": false,
    "pycharm": {
     "name": "#%% md\n"
    }
   }
  },
  {
   "cell_type": "code",
   "execution_count": null,
   "outputs": [],
   "source": [
    "cols_to_drop = [\"model_year\", \"origin\", \"name\"]\n"
   ],
   "metadata": {
    "collapsed": false,
    "pycharm": {
     "name": "#%%\n"
    }
   }
  },
  {
   "cell_type": "markdown",
   "source": [
    "## K-Means\n",
    "\n",
    "**Nota**: Es un algoritmo que funciona solo con variables numéricas\n",
    "\n"
   ],
   "metadata": {
    "collapsed": false,
    "pycharm": {
     "name": "#%% md\n"
    }
   }
  }
 ],
 "metadata": {
  "kernelspec": {
   "display_name": "Python 3",
   "language": "python",
   "name": "python3"
  },
  "language_info": {
   "codemirror_mode": {
    "name": "ipython",
    "version": 2
   },
   "file_extension": ".py",
   "mimetype": "text/x-python",
   "name": "python",
   "nbconvert_exporter": "python",
   "pygments_lexer": "ipython2",
   "version": "2.7.6"
  }
 },
 "nbformat": 4,
 "nbformat_minor": 0
}