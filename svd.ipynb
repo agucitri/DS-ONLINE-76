{
 "cells": [
  {
   "cell_type": "code",
   "execution_count": 1,
   "metadata": {
    "collapsed": true
   },
   "outputs": [],
   "source": [
    "import warnings\n",
    "import numpy as np\n",
    "import matplotlib.pyplot as plt\n",
    "from sklearn.datasets import load_digits\n",
    "from sklearn.decomposition import TruncatedSVD\n",
    "\n",
    "warnings.filterwarnings(action=\"ignore\")\n",
    "np.set_printoptions(formatter={\"float_kind\": lambda x: \"%.2f\" % x})"
   ]
  },
  {
   "cell_type": "code",
   "execution_count": 2,
   "outputs": [],
   "source": [
    "X, y = load_digits(return_X_y=True)"
   ],
   "metadata": {
    "collapsed": false,
    "pycharm": {
     "name": "#%%\n"
    }
   }
  },
  {
   "cell_type": "code",
   "execution_count": 3,
   "outputs": [
    {
     "data": {
      "text/plain": "array([[0.00, 0.00, 5.00, ..., 0.00, 0.00, 0.00],\n       [0.00, 0.00, 0.00, ..., 10.00, 0.00, 0.00],\n       [0.00, 0.00, 0.00, ..., 16.00, 9.00, 0.00],\n       ...,\n       [0.00, 0.00, 1.00, ..., 6.00, 0.00, 0.00],\n       [0.00, 0.00, 2.00, ..., 12.00, 0.00, 0.00],\n       [0.00, 0.00, 10.00, ..., 12.00, 1.00, 0.00]])"
     },
     "execution_count": 3,
     "metadata": {},
     "output_type": "execute_result"
    }
   ],
   "source": [
    "X"
   ],
   "metadata": {
    "collapsed": false,
    "pycharm": {
     "name": "#%%\n"
    }
   }
  },
  {
   "cell_type": "code",
   "execution_count": 4,
   "outputs": [
    {
     "data": {
      "text/plain": "array([0, 1, 2, ..., 8, 9, 8])"
     },
     "execution_count": 4,
     "metadata": {},
     "output_type": "execute_result"
    }
   ],
   "source": [
    "y"
   ],
   "metadata": {
    "collapsed": false,
    "pycharm": {
     "name": "#%%\n"
    }
   }
  },
  {
   "cell_type": "code",
   "execution_count": 5,
   "outputs": [],
   "source": [
    "image = X[377]"
   ],
   "metadata": {
    "collapsed": false,
    "pycharm": {
     "name": "#%%\n"
    }
   }
  },
  {
   "cell_type": "code",
   "execution_count": 6,
   "outputs": [
    {
     "data": {
      "text/plain": "<matplotlib.image.AxesImage at 0x17f7f9db6d0>"
     },
     "execution_count": 6,
     "metadata": {},
     "output_type": "execute_result"
    },
    {
     "data": {
      "text/plain": "<Figure size 288x288 with 1 Axes>",
      "image/png": "[encoded data removed]"
     },
     "metadata": {
      "needs_background": "light"
     },
     "output_type": "display_data"
    }
   ],
   "source": [
    "plt.matshow(image.reshape(8, 8), cmap=\"gray\")"
   ],
   "metadata": {
    "collapsed": false,
    "pycharm": {
     "name": "#%%\n"
    }
   }
  },
  {
   "cell_type": "code",
   "execution_count": 7,
   "outputs": [
    {
     "data": {
      "text/plain": "4"
     },
     "execution_count": 7,
     "metadata": {},
     "output_type": "execute_result"
    }
   ],
   "source": [
    "y[377]"
   ],
   "metadata": {
    "collapsed": false,
    "pycharm": {
     "name": "#%%\n"
    }
   }
  },
  {
   "cell_type": "code",
   "execution_count": 8,
   "outputs": [],
   "source": [
    "svd = TruncatedSVD(n_components=2, random_state=42).fit(X)"
   ],
   "metadata": {
    "collapsed": false,
    "pycharm": {
     "name": "#%%\n"
    }
   }
  },
  {
   "cell_type": "code",
   "execution_count": 9,
   "outputs": [
    {
     "data": {
      "text/plain": "array([[45.86, -1.19],\n       [55.53, 7.86],\n       [55.83, 6.91],\n       ...,\n       [65.53, 10.66],\n       [58.61, -4.91],\n       [64.45, -0.46]])"
     },
     "execution_count": 9,
     "metadata": {},
     "output_type": "execute_result"
    }
   ],
   "source": [
    "b_matrix = svd.transform(X)\n",
    "b_matrix"
   ],
   "metadata": {
    "collapsed": false,
    "pycharm": {
     "name": "#%%\n"
    }
   }
  },
  {
   "cell_type": "code",
   "execution_count": 10,
   "outputs": [
    {
     "data": {
      "text/plain": "(1797, 2)"
     },
     "execution_count": 10,
     "metadata": {},
     "output_type": "execute_result"
    }
   ],
   "source": [
    "b_matrix.shape"
   ],
   "metadata": {
    "collapsed": false,
    "pycharm": {
     "name": "#%%\n"
    }
   }
  },
  {
   "cell_type": "code",
   "execution_count": 11,
   "outputs": [
    {
     "data": {
      "text/plain": "array([50.70, 28.85])"
     },
     "execution_count": 11,
     "metadata": {},
     "output_type": "execute_result"
    }
   ],
   "source": [
    "b_matrix[377]"
   ],
   "metadata": {
    "collapsed": false,
    "pycharm": {
     "name": "#%%\n"
    }
   }
  },
  {
   "cell_type": "code",
   "execution_count": 12,
   "outputs": [
    {
     "data": {
      "text/plain": "array([[-0.00, -0.21, -1.36, 7.68, 10.65, 2.83, 1.05, 0.18, -0.00, -1.50,\n        3.14, 16.05, 8.79, 1.77, 1.34, 0.22, 0.00, 0.25, 12.17, 13.14,\n        2.05, 2.97, 2.54, 0.17, 0.00, 4.25, 16.24, 7.70, 3.74, 6.13,\n        3.69, 0.01, 0.00, 6.88, 18.15, 13.70, 12.58, 9.60, 3.44, 0.00,\n        0.05, 4.62, 15.56, 14.26, 13.56, 8.49, 2.30, 0.07, 0.03, 0.45,\n        5.81, 12.08, 12.39, 4.69, 1.80, 0.23, 0.00, -0.14, -1.38, 7.77,\n        11.32, 4.04, 0.93, 0.01]])"
     },
     "execution_count": 12,
     "metadata": {},
     "output_type": "execute_result"
    }
   ],
   "source": [
    "m_mono = svd.inverse_transform(b_matrix[377].reshape(1, -1))\n",
    "m_mono"
   ],
   "metadata": {
    "collapsed": false,
    "pycharm": {
     "name": "#%%\n"
    }
   }
  },
  {
   "cell_type": "code",
   "execution_count": 13,
   "outputs": [
    {
     "data": {
      "text/plain": "array([0.00, 0.00, 1.00, 15.00, 7.00, 0.00, 0.00, 0.00, 0.00, 0.00, 6.00,\n       16.00, 3.00, 0.00, 0.00, 0.00, 0.00, 1.00, 16.00, 10.00, 0.00,\n       1.00, 3.00, 0.00, 0.00, 5.00, 16.00, 3.00, 1.00, 12.00, 15.00,\n       0.00, 0.00, 11.00, 16.00, 8.00, 14.00, 15.00, 3.00, 0.00, 0.00,\n       6.00, 16.00, 16.00, 16.00, 5.00, 0.00, 0.00, 0.00, 0.00, 1.00,\n       14.00, 11.00, 0.00, 0.00, 0.00, 0.00, 0.00, 2.00, 16.00, 12.00,\n       0.00, 0.00, 0.00])"
     },
     "execution_count": 13,
     "metadata": {},
     "output_type": "execute_result"
    }
   ],
   "source": [
    "X[377]"
   ],
   "metadata": {
    "collapsed": false,
    "pycharm": {
     "name": "#%%\n"
    }
   }
  },
  {
   "cell_type": "code",
   "execution_count": 14,
   "outputs": [
    {
     "data": {
      "text/plain": "array([0.03, 0.15])"
     },
     "execution_count": 14,
     "metadata": {},
     "output_type": "execute_result"
    }
   ],
   "source": [
    "svd.explained_variance_ratio_"
   ],
   "metadata": {
    "collapsed": false,
    "pycharm": {
     "name": "#%%\n"
    }
   }
  },
  {
   "cell_type": "code",
   "execution_count": 15,
   "outputs": [
    {
     "data": {
      "text/plain": "<matplotlib.image.AxesImage at 0x17f7f7ee070>"
     },
     "execution_count": 15,
     "metadata": {},
     "output_type": "execute_result"
    },
    {
     "data": {
      "text/plain": "<Figure size 288x288 with 1 Axes>",
      "image/png": "[encoded data removed]"
     },
     "metadata": {
      "needs_background": "light"
     },
     "output_type": "display_data"
    }
   ],
   "source": [
    "plt.matshow(m_mono.reshape(8, 8), cmap=\"gray\")"
   ],
   "metadata": {
    "collapsed": false,
    "pycharm": {
     "name": "#%%\n"
    }
   }
  },
  {
   "cell_type": "code",
   "execution_count": 16,
   "outputs": [],
   "source": [
    "from sklearn.pipeline import Pipeline\n",
    "from sklearn.linear_model import LogisticRegression\n",
    "from sklearn.tree import DecisionTreeClassifier\n",
    "from sklearn.model_selection import train_test_split"
   ],
   "metadata": {
    "collapsed": false,
    "pycharm": {
     "name": "#%%\n"
    }
   }
  },
  {
   "cell_type": "code",
   "execution_count": 17,
   "outputs": [],
   "source": [
    "X_train, X_test, y_train, y_test = train_test_split(X, y, test_size=0.3)"
   ],
   "metadata": {
    "collapsed": false,
    "pycharm": {
     "name": "#%%\n"
    }
   }
  },
  {
   "cell_type": "code",
   "execution_count": 18,
   "outputs": [],
   "source": [
    "from collections import Counter"
   ],
   "metadata": {
    "collapsed": false,
    "pycharm": {
     "name": "#%%\n"
    }
   }
  },
  {
   "cell_type": "code",
   "execution_count": 19,
   "outputs": [
    {
     "data": {
      "text/plain": "Counter({6: 133,\n         3: 122,\n         7: 128,\n         1: 138,\n         4: 120,\n         8: 124,\n         2: 118,\n         5: 134,\n         9: 117,\n         0: 123})"
     },
     "execution_count": 19,
     "metadata": {},
     "output_type": "execute_result"
    }
   ],
   "source": [
    "counter = Counter(y_train)\n",
    "counter"
   ],
   "metadata": {
    "collapsed": false,
    "pycharm": {
     "name": "#%%\n"
    }
   }
  },
  {
   "cell_type": "code",
   "execution_count": 20,
   "outputs": [],
   "source": [
    "svd = TruncatedSVD(n_components=8)\n",
    "\n",
    "X_train_reduced = svd.fit_transform(X_train)\n",
    "X_test_reduced = svd.transform(X_test)"
   ],
   "metadata": {
    "collapsed": false,
    "pycharm": {
     "name": "#%%\n"
    }
   }
  },
  {
   "cell_type": "code",
   "execution_count": 21,
   "outputs": [
    {
     "data": {
      "text/plain": "(1257, 8)"
     },
     "execution_count": 21,
     "metadata": {},
     "output_type": "execute_result"
    }
   ],
   "source": [
    "X_train_reduced.shape"
   ],
   "metadata": {
    "collapsed": false,
    "pycharm": {
     "name": "#%%\n"
    }
   }
  },
  {
   "cell_type": "code",
   "execution_count": 22,
   "outputs": [
    {
     "data": {
      "text/plain": "(1257, 64)"
     },
     "execution_count": 22,
     "metadata": {},
     "output_type": "execute_result"
    }
   ],
   "source": [
    "X_train.shape"
   ],
   "metadata": {
    "collapsed": false,
    "pycharm": {
     "name": "#%%\n"
    }
   }
  },
  {
   "cell_type": "code",
   "execution_count": 23,
   "outputs": [
    {
     "name": "stdout",
     "output_type": "stream",
     "text": [
      "El Accuracy en entrenamiento es: 1.0\n",
      "El Accuracy en prueba es: 0.9666666666666667\n"
     ]
    }
   ],
   "source": [
    "lr = LogisticRegression().fit(X_train, y_train)\n",
    "\n",
    "print(f\"El Accuracy en entrenamiento es: {lr.score(X_train, y_train)}\")\n",
    "print(f\"El Accuracy en prueba es: {lr.score(X_test, y_test)}\")"
   ],
   "metadata": {
    "collapsed": false,
    "pycharm": {
     "name": "#%%\n"
    }
   }
  },
  {
   "cell_type": "code",
   "execution_count": 24,
   "outputs": [
    {
     "name": "stdout",
     "output_type": "stream",
     "text": [
      "El Accuracy en entrenamiento es: 0.9101034208432777\n",
      "El Accuracy en prueba es: 0.8685185185185185\n"
     ]
    }
   ],
   "source": [
    "lr_reduced = LogisticRegression().fit(X_train_reduced, y_train)\n",
    "\n",
    "print(f\"El Accuracy en entrenamiento es: {lr_reduced.score(X_train_reduced, y_train)}\")\n",
    "print(f\"El Accuracy en prueba es: {lr_reduced.score(X_test_reduced, y_test)}\")"
   ],
   "metadata": {
    "collapsed": false,
    "pycharm": {
     "name": "#%%\n"
    }
   }
  },
  {
   "cell_type": "code",
   "execution_count": 25,
   "outputs": [
    {
     "data": {
      "text/plain": "Pipeline(steps=[('svd', TruncatedSVD(n_components=8)),\n                ('logistic_regression', LogisticRegression())])"
     },
     "execution_count": 25,
     "metadata": {},
     "output_type": "execute_result"
    }
   ],
   "source": [
    "lr = Pipeline(steps=[(\"svd\", TruncatedSVD(n_components=8)),\n",
    "                     (\"logistic_regression\", LogisticRegression())])\n",
    "\n",
    "lr.fit(X_train, y_train)"
   ],
   "metadata": {
    "collapsed": false,
    "pycharm": {
     "name": "#%%\n"
    }
   }
  },
  {
   "cell_type": "code",
   "execution_count": 26,
   "outputs": [
    {
     "name": "stdout",
     "output_type": "stream",
     "text": [
      "El Accuracy en entrenamiento es: 0.9108989657915673\n",
      "El Accuracy en prueba es: 0.8703703703703703\n"
     ]
    }
   ],
   "source": [
    "print(f\"El Accuracy en entrenamiento es: {lr.score(X_train, y_train)}\")\n",
    "print(f\"El Accuracy en prueba es: {lr.score(X_test, y_test)}\")"
   ],
   "metadata": {
    "collapsed": false,
    "pycharm": {
     "name": "#%%\n"
    }
   }
  },
  {
   "cell_type": "code",
   "execution_count": 27,
   "outputs": [],
   "source": [
    "from sklearn.model_selection import GridSearchCV"
   ],
   "metadata": {
    "collapsed": false,
    "pycharm": {
     "name": "#%%\n"
    }
   }
  },
  {
   "cell_type": "code",
   "execution_count": 28,
   "outputs": [
    {
     "data": {
      "text/plain": "GridSearchCV(cv=3,\n             estimator=Pipeline(steps=[('svd', TruncatedSVD(n_components=8)),\n                                       ('logistic_regression',\n                                        LogisticRegression())]),\n             n_jobs=-1,\n             param_grid={'logistic_regression__penalty': ['l1', 'l2'],\n                         'svd__n_components': [8, 10, 20]},\n             scoring='accuracy')"
     },
     "execution_count": 28,
     "metadata": {},
     "output_type": "execute_result"
    }
   ],
   "source": [
    "lr = Pipeline(steps=[(\"svd\", TruncatedSVD(n_components=8)),\n",
    "                     (\"logistic_regression\", LogisticRegression())])\n",
    "\n",
    "params = {\n",
    "    'logistic_regression__penalty': [\"l1\", \"l2\"],\n",
    "    'svd__n_components': [8, 10, 20]\n",
    "}\n",
    "\n",
    "lr_cv = GridSearchCV(estimator=lr, param_grid=params, scoring=\"accuracy\", cv=3, n_jobs=-1)\n",
    "\n",
    "lr_cv.fit(X_train, y_train)"
   ],
   "metadata": {
    "collapsed": false,
    "pycharm": {
     "name": "#%%\n"
    }
   }
  },
  {
   "cell_type": "code",
   "execution_count": 29,
   "outputs": [
    {
     "data": {
      "text/plain": "{'logistic_regression__penalty': 'l2', 'svd__n_components': 20}"
     },
     "execution_count": 29,
     "metadata": {},
     "output_type": "execute_result"
    }
   ],
   "source": [
    "lr_cv.best_params_"
   ],
   "metadata": {
    "collapsed": false,
    "pycharm": {
     "name": "#%%\n"
    }
   }
  },
  {
   "cell_type": "code",
   "execution_count": 30,
   "outputs": [
    {
     "data": {
      "text/plain": "0.9363564041368337"
     },
     "execution_count": 30,
     "metadata": {},
     "output_type": "execute_result"
    }
   ],
   "source": [
    "lr_cv.best_score_"
   ],
   "metadata": {
    "collapsed": false,
    "pycharm": {
     "name": "#%%\n"
    }
   }
  },
  {
   "cell_type": "code",
   "execution_count": 31,
   "outputs": [
    {
     "name": "stdout",
     "output_type": "stream",
     "text": [
      "El Accuracy en entrenamiento es: 0.9976133651551312\n",
      "El Accuracy en prueba es: 0.9574074074074074\n"
     ]
    }
   ],
   "source": [
    "print(f\"El Accuracy en entrenamiento es: {lr_cv.score(X_train, y_train)}\")\n",
    "print(f\"El Accuracy en prueba es: {lr_cv.score(X_test, y_test)}\")"
   ],
   "metadata": {
    "collapsed": false,
    "pycharm": {
     "name": "#%%\n"
    }
   }
  },
  {
   "cell_type": "code",
   "execution_count": 31,
   "outputs": [],
   "source": [],
   "metadata": {
    "collapsed": false,
    "pycharm": {
     "name": "#%%\n"
    }
   }
  }
 ],
 "metadata": {
  "kernelspec": {
   "display_name": "Python 3",
   "language": "python",
   "name": "python3"
  },
  "language_info": {
   "codemirror_mode": {
    "name": "ipython",
    "version": 2
   },
   "file_extension": ".py",
   "mimetype": "text/x-python",
   "name": "python",
   "nbconvert_exporter": "python",
   "pygments_lexer": "ipython2",
   "version": "2.7.6"
  }
 },
 "nbformat": 4,
 "nbformat_minor": 0
}